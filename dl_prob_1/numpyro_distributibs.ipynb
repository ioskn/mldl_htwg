{
 "cells": [
  {
   "cell_type": "code",
   "execution_count": null,
   "metadata": {},
   "outputs": [
    {
     "name": "stdout",
     "output_type": "stream",
     "text": [
      "jax.__version__    : 0.4.26\n",
      "numpyro.__version__: 0.15.3\n",
      "keras.__version__  : 3.6.0\n"
     ]
    }
   ],
   "source": [
    "import numpy as np\n",
    "np.random.seed(42)\n",
    "x_train = np.random.uniform(-10, 10, (1000, 1)).astype(np.float32)\n",
    "y_train = (2 * x_train + np.random.normal(0, np.abs(x_train) + 1, (1000, 1))).astype(np.float32)\n",
    "import os\n",
    "import jax \n",
    "print(F'jax.__version__    : {jax.__version__}')\n",
    "os.environ[\"KERAS_BACKEND\"] = \"jax\" # set backend before importing keras \n",
    "\n",
    "import numpyro\n",
    "print(F'numpyro.__version__: {numpyro.__version__}')\n",
    "\n",
    "import keras\n",
    "print(F'keras.__version__  : {keras.__version__}')\n",
    "import jax.numpy as jnp\n",
    "from jax import random\n",
    "import time"
   ]
  },
  {
   "cell_type": "markdown",
   "metadata": {},
   "source": [
    "## We use numpyro which goes well with JAX\n",
    "\n",
    "For torch you could use torch.distributions. "
   ]
  },
  {
   "cell_type": "code",
   "execution_count": 23,
   "metadata": {},
   "outputs": [],
   "source": [
    "from numpyro import distributions as dist   # Distributions"
   ]
  },
  {
   "cell_type": "code",
   "execution_count": 24,
   "metadata": {},
   "outputs": [],
   "source": [
    "p = 0.1\n",
    "dist_my = dist.Bernoulli(probs=p) # Define a Bernoulli distribution with p=0.1"
   ]
  },
  {
   "cell_type": "code",
   "execution_count": 25,
   "metadata": {},
   "outputs": [
    {
     "data": {
      "text/plain": [
       "(0.1, 0.09000000000000001, 0.09000000000000001)"
      ]
     },
     "execution_count": 25,
     "metadata": {},
     "output_type": "execute_result"
    }
   ],
   "source": [
    "dist_my.mean, dist_my.variance, p*(1-p) # Check the mean and variance of the distribution"
   ]
  },
  {
   "cell_type": "code",
   "execution_count": 36,
   "metadata": {},
   "outputs": [
    {
     "data": {
      "text/plain": [
       "(Array(-2.3025851, dtype=float32), Array(-0.10536052, dtype=float32))"
      ]
     },
     "execution_count": 36,
     "metadata": {},
     "output_type": "execute_result"
    }
   ],
   "source": [
    "dist_my.log_prob(1), dist_my.log_prob(0) # Check the log probability of the distribution\n",
    "# (log(0.1), log(0.9))\n",
    "# dist_my.prob(0.1) only works in log space"
   ]
  },
  {
   "cell_type": "code",
   "execution_count": 37,
   "metadata": {},
   "outputs": [
    {
     "data": {
      "text/plain": [
       "Array([0, 0, 0, 0, 0, 0, 0, 0, 0, 0], dtype=int32)"
      ]
     },
     "execution_count": 37,
     "metadata": {},
     "output_type": "execute_result"
    }
   ],
   "source": [
    "dist_my.sample(random.PRNGKey(0), (10,)) # Sample 100 values from the distribution\n",
    "# A speciality in numpyro is that we need to pass the random key to the sample method"
   ]
  },
  {
   "cell_type": "markdown",
   "metadata": {},
   "source": [
    "## Continous Data\n",
    "### The Normal distribution\n",
    "The normal distribution samples a single value from a Gaussian"
   ]
  },
  {
   "cell_type": "code",
   "execution_count": 43,
   "metadata": {},
   "outputs": [
    {
     "name": "stdout",
     "output_type": "stream",
     "text": [
      "1 4\n",
      "-1.6120857 -1.7370857\n"
     ]
    }
   ],
   "source": [
    "dist_my2 = dist.Normal(loc=1,scale=2)\n",
    "print(dist_my2.mean, dist_my2.variance)\n",
    "print(dist_my2.log_prob(1), dist_my2.log_prob(0))"
   ]
  },
  {
   "cell_type": "markdown",
   "metadata": {},
   "source": [
    "# Count Data"
   ]
  },
  {
   "cell_type": "code",
   "execution_count": 48,
   "metadata": {},
   "outputs": [
    {
     "name": "stdout",
     "output_type": "stream",
     "text": [
      "2.3\n",
      "2.3\n"
     ]
    },
    {
     "data": {
      "image/png": "[encoded data removed]",
      "text/plain": [
       "<Figure size 640x480 with 1 Axes>"
      ]
     },
     "metadata": {},
     "output_type": "display_data"
    }
   ],
   "source": [
    "import matplotlib.pyplot as plt\n",
    "%matplotlib inline\n",
    "plt.style.use('default')\n",
    "\n",
    "dist_my = dist.Poisson(rate = 2.3) #A\n",
    "vals = np.linspace(0,10,11) #B\n",
    "p = dist_my.log_prob(vals) #C\n",
    "print(dist_my.mean)  #D\n",
    "print(dist_my.variance)   #E\n",
    "\n",
    "plt.xticks(vals)\n",
    "plt.stem(vals, np.exp(p))\n",
    "plt.xlabel('Number of Events')\n",
    "plt.ylabel('Probability')\n",
    "plt.show()\n",
    "\n",
    "#A Poisson distribution with parameter rate = 2.3\n",
    "#B Integer values from 0 to 10 for the x-axis \n",
    "#C Computes the probability for the values\n",
    "#D The mean value yielding 2.3\n",
    "#E The standard deviation yielding 2.3"
   ]
  },
  {
   "cell_type": "code",
   "execution_count": null,
   "metadata": {},
   "outputs": [],
   "source": []
  }
 ],
 "metadata": {
  "kernelspec": {
   "display_name": "mldl_htwg",
   "language": "python",
   "name": "python3"
  },
  "language_info": {
   "codemirror_mode": {
    "name": "ipython",
    "version": 3
   },
   "file_extension": ".py",
   "mimetype": "text/x-python",
   "name": "python",
   "nbconvert_exporter": "python",
   "pygments_lexer": "ipython3",
   "version": "3.10.13"
  }
 },
 "nbformat": 4,
 "nbformat_minor": 2
}
