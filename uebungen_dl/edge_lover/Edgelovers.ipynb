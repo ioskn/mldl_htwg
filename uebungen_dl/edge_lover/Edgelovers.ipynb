{
 "cells": [
  {
   "cell_type": "markdown",
   "metadata": {},
   "source": [
    "# A simple CNN for the edge lover task\n",
    "<img src=\"https://raw.githubusercontent.com/tensorchiefs/dl_course_2024/refs/heads/main/notebooks/art_lover.png\" alt=\"Sample Image\" width=\"150\">\n",
    "\n",
    "**Storytime:** There is an artlover who only likes images with vertical stripes. The goal of this notebook is to use an algorithm (CNN) which helps to classify if the art lover likes the image or not.\n",
    "\n",
    "\n",
    "\n",
    "\n",
    "**Task:**\n",
    "You train a very simple CNN with only 1 kernel to distinguish between images containing vertical and images containing horizontal stripes. To check what pattern is recognized by the learned kernel you will visualize the weights of the kernel as an image. You will see that the CNN learns a useful kernel (either a vertical or horiziontal bar). You can experiment with the code to check the influence of the kernel size, the activation function and the pooling method on the result.  \n",
    "\n",
    "\n",
    "**Dataset:** You work with an artficially generated dataset of greyscale images (50x50 pixel) with 10 vertical or horizontal bars. We want to classify them into whether the art lover, who only loves vertical strips, will like the image (y = 0) or not like the image (y = 1).  \n",
    "\n",
    "The idea of the notebook is that you try to understand the provided code by running it, checking the output and playing with it by slightly changing the code and rerunning it.  \n",
    "\n",
    "### a)  Generation of the data\n",
    "Write a function which creates an artficially dataset of black and white images (50x50 pixel) with 10 vertical or horizontal bars (10 pixel long). Use this function to create a training dataset of 1000 examples with 500 vertical and 500 horizontal examples. Similarily create a validation dataset of 1000 examples. Normalize the pixel values to be between 0 and 1.\n",
    "You should get the following output:\n",
    "```{python}\n",
    "print(X_train.shape) #(1000, 50, 50, 1)\n",
    "print(np.unique(Y_train)) #[0 1]\n",
    "```\n",
    "\n",
    "### b) Build the simplest possible CNN\n",
    "Make a CNN with one convolution 5x5 and 1 output. Train the CNN on the data from a). You should have no more than 28 trainable parameters (see `model.summary()`) in the network. \n",
    "* Plot the learning curves: (epochs vs training loss and validation loss) and epochs vs accuracy.You should get an accuracy of approximatly 1.\n",
    "\n",
    "Hint: Use the max-pooling operation in a clever way.\n",
    "\n",
    "\n",
    "### c) Visualize the learned kernel\n",
    "Visualize the learned kernel, you might want to use `model.get_weights()`. Does the learned kernel makes sense?"
   ]
  },
  {
   "cell_type": "code",
   "execution_count": null,
   "metadata": {},
   "outputs": [],
   "source": []
  }
 ],
 "metadata": {
  "kernelspec": {
   "display_name": "Python 3",
   "language": "python",
   "name": "python3"
  },
  "language_info": {
   "codemirror_mode": {
    "name": "ipython",
    "version": 3
   },
   "file_extension": ".py",
   "mimetype": "text/x-python",
   "name": "python",
   "nbconvert_exporter": "python",
   "pygments_lexer": "ipython3",
   "version": "3.6.8"
  }
 },
 "nbformat": 4,
 "nbformat_minor": 2
}
