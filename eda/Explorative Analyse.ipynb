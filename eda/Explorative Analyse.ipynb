{
 "cells": [
  {
   "cell_type": "markdown",
   "metadata": {},
   "source": [
    "Beispiel für eine explorative Datenanalyse: Erdbeben der letzten 7 Tage (US Geological Survey)\n",
    "==============================================================================================\n",
    "\n",
    "\n",
    "## Einbinden von packages\n",
    "Import zweier Standardpakete für die Datenanalyse: Numpy für mehrdimensionale Arrays, Pandas für Datenanalyse in Tabellen."
   ]
  },
  {
   "cell_type": "code",
   "execution_count": 34,
   "metadata": {},
   "outputs": [
    {
     "data": {
      "text/plain": [
       "('1.17.1', '0.25.1')"
      ]
     },
     "execution_count": 34,
     "metadata": {},
     "output_type": "execute_result"
    }
   ],
   "source": [
    "import pandas as pd\n",
    "import numpy as np\n",
    "\n",
    "np.__version__, pd.__version__"
   ]
  },
  {
   "cell_type": "markdown",
   "metadata": {},
   "source": [
    "## Einlesen der Data\n",
    "\n",
    "Idealerweise sind die noteboks standalone. Im ersten Schritt werden die Daten eingelesen.\n",
    "\n",
    "#### Direkter Download\n",
    "Direkter Download vom USGS, Abruf des Downloaddatums, automatischer Import in Pandas-Dataframe. "
   ]
  },
  {
   "cell_type": "code",
   "execution_count": 43,
   "metadata": {},
   "outputs": [
    {
     "data": {
      "text/plain": [
       "['Wed Oct  2 14:34:32 UTC 2019']"
      ]
     },
     "execution_count": 43,
     "metadata": {},
     "output_type": "execute_result"
    }
   ],
   "source": [
    "fileUrl = 'http://earthquake.usgs.gov/earthquakes/catalogs/eqs7day-M1.txt' #410 Error\n",
    "fileUrl = 'http://www-home.htwg-konstanz.de/~oduerr/data/eqs7day-M1.txt'\n",
    "eData = pd.read_csv(fileUrl)\n",
    "dateDownloaded = !date #Calling Linux\n",
    "dateDownloaded"
   ]
  },
  {
   "cell_type": "markdown",
   "metadata": {},
   "source": [
    "#### Caching\n",
    "\n",
    "Bei grösseren Datein empfiehlt sich ein cacheing der Daten. "
   ]
  },
  {
   "cell_type": "code",
   "execution_count": 45,
   "metadata": {},
   "outputs": [
    {
     "name": "stdout",
     "output_type": "stream",
     "text": [
      "File exists\n",
      "\n",
      "'Explorative Analyse.ipynb'\n",
      "eqs7day-M1.txt\n"
     ]
    }
   ],
   "source": [
    "import os\n",
    "if not os.path.isfile('eqs7day-M1.txt'):\n",
    "    !pip install wget #Installation of wget\n",
    "    import wget\n",
    "    print(\"Downloading file...\\n\")\n",
    "    wget.download('http://www-home.htwg-konstanz.de/~oduerr/data/eqs7day-M1.txt', 'eqs7day-M1.txt')\n",
    "else:\n",
    "    print(\"File exists\\n\")\n",
    "!ls -11"
   ]
  },
  {
   "cell_type": "markdown",
   "metadata": {},
   "source": [
    "### Darstellung als Pandas-DataFrame\n",
    "-----------------------------------\n",
    "\n",
    "Darstellung des Datensatzes als Datensatzes als Pandas-Dataframe (Tabelle der ersten und letzten 30 Einträge, Anzahl Reihen und Spalten). Konvention: Variablen sind die Spalten, einzelne Messungen die Zeilen."
   ]
  },
  {
   "cell_type": "code",
   "execution_count": 46,
   "metadata": {},
   "outputs": [
    {
     "data": {
      "text/html": [
       "<div>\n",
       "<style scoped>\n",
       "    .dataframe tbody tr th:only-of-type {\n",
       "        vertical-align: middle;\n",
       "    }\n",
       "\n",
       "    .dataframe tbody tr th {\n",
       "        vertical-align: top;\n",
       "    }\n",
       "\n",
       "    .dataframe thead th {\n",
       "        text-align: right;\n",
       "    }\n",
       "</style>\n",
       "<table border=\"1\" class=\"dataframe\">\n",
       "  <thead>\n",
       "    <tr style=\"text-align: right;\">\n",
       "      <th></th>\n",
       "      <th>Src</th>\n",
       "      <th>Eqid</th>\n",
       "      <th>Version</th>\n",
       "      <th>Datetime</th>\n",
       "      <th>Lat</th>\n",
       "      <th>Lon</th>\n",
       "      <th>Magnitude</th>\n",
       "      <th>Depth</th>\n",
       "      <th>NST</th>\n",
       "      <th>Region</th>\n",
       "    </tr>\n",
       "  </thead>\n",
       "  <tbody>\n",
       "    <tr>\n",
       "      <td>0</td>\n",
       "      <td>ci</td>\n",
       "      <td>14988836</td>\n",
       "      <td>0</td>\n",
       "      <td>Saturday, May 21, 2011 09:06:50 UTC</td>\n",
       "      <td>33.9665</td>\n",
       "      <td>-116.5598</td>\n",
       "      <td>1.4</td>\n",
       "      <td>9.3</td>\n",
       "      <td>54</td>\n",
       "      <td>Southern California</td>\n",
       "    </tr>\n",
       "    <tr>\n",
       "      <td>1</td>\n",
       "      <td>ak</td>\n",
       "      <td>10237914</td>\n",
       "      <td>2</td>\n",
       "      <td>Saturday, May 21, 2011 08:33:21 UTC</td>\n",
       "      <td>65.3689</td>\n",
       "      <td>-166.8913</td>\n",
       "      <td>5.2</td>\n",
       "      <td>19.2</td>\n",
       "      <td>22</td>\n",
       "      <td>northern Alaska</td>\n",
       "    </tr>\n",
       "    <tr>\n",
       "      <td>2</td>\n",
       "      <td>ak</td>\n",
       "      <td>10237907</td>\n",
       "      <td>2</td>\n",
       "      <td>Saturday, May 21, 2011 07:42:46 UTC</td>\n",
       "      <td>58.1643</td>\n",
       "      <td>-151.4626</td>\n",
       "      <td>3.3</td>\n",
       "      <td>32.9</td>\n",
       "      <td>54</td>\n",
       "      <td>Kodiak Island region, Alaska</td>\n",
       "    </tr>\n",
       "    <tr>\n",
       "      <td>3</td>\n",
       "      <td>ci</td>\n",
       "      <td>14988828</td>\n",
       "      <td>0</td>\n",
       "      <td>Saturday, May 21, 2011 07:31:41 UTC</td>\n",
       "      <td>33.1555</td>\n",
       "      <td>-116.1015</td>\n",
       "      <td>1.5</td>\n",
       "      <td>9.7</td>\n",
       "      <td>82</td>\n",
       "      <td>Southern California</td>\n",
       "    </tr>\n",
       "    <tr>\n",
       "      <td>4</td>\n",
       "      <td>nc</td>\n",
       "      <td>71573030</td>\n",
       "      <td>0</td>\n",
       "      <td>Saturday, May 21, 2011 07:21:41 UTC</td>\n",
       "      <td>36.7657</td>\n",
       "      <td>-121.3738</td>\n",
       "      <td>1.2</td>\n",
       "      <td>4.9</td>\n",
       "      <td>11</td>\n",
       "      <td>Central California</td>\n",
       "    </tr>\n",
       "    <tr>\n",
       "      <td>...</td>\n",
       "      <td>...</td>\n",
       "      <td>...</td>\n",
       "      <td>...</td>\n",
       "      <td>...</td>\n",
       "      <td>...</td>\n",
       "      <td>...</td>\n",
       "      <td>...</td>\n",
       "      <td>...</td>\n",
       "      <td>...</td>\n",
       "      <td>...</td>\n",
       "    </tr>\n",
       "    <tr>\n",
       "      <td>906</td>\n",
       "      <td>ci</td>\n",
       "      <td>14985188</td>\n",
       "      <td>2</td>\n",
       "      <td>Saturday, May 14, 2011 10:10:13 UTC</td>\n",
       "      <td>32.6497</td>\n",
       "      <td>-115.7418</td>\n",
       "      <td>1.2</td>\n",
       "      <td>5.3</td>\n",
       "      <td>13</td>\n",
       "      <td>Southern California</td>\n",
       "    </tr>\n",
       "    <tr>\n",
       "      <td>907</td>\n",
       "      <td>uu</td>\n",
       "      <td>05141006</td>\n",
       "      <td>2</td>\n",
       "      <td>Saturday, May 14, 2011 10:06:37 UTC</td>\n",
       "      <td>44.7355</td>\n",
       "      <td>-111.2197</td>\n",
       "      <td>2.0</td>\n",
       "      <td>5.9</td>\n",
       "      <td>19</td>\n",
       "      <td>western Montana</td>\n",
       "    </tr>\n",
       "    <tr>\n",
       "      <td>908</td>\n",
       "      <td>pr</td>\n",
       "      <td>11134002</td>\n",
       "      <td>0</td>\n",
       "      <td>Saturday, May 14, 2011 10:05:46 UTC</td>\n",
       "      <td>18.3500</td>\n",
       "      <td>-68.9359</td>\n",
       "      <td>3.5</td>\n",
       "      <td>100.0</td>\n",
       "      <td>5</td>\n",
       "      <td>Dominican Republic region</td>\n",
       "    </tr>\n",
       "    <tr>\n",
       "      <td>909</td>\n",
       "      <td>uu</td>\n",
       "      <td>05140948</td>\n",
       "      <td>2</td>\n",
       "      <td>Saturday, May 14, 2011 09:48:13 UTC</td>\n",
       "      <td>44.7340</td>\n",
       "      <td>-111.2188</td>\n",
       "      <td>1.3</td>\n",
       "      <td>5.6</td>\n",
       "      <td>18</td>\n",
       "      <td>western Montana</td>\n",
       "    </tr>\n",
       "    <tr>\n",
       "      <td>910</td>\n",
       "      <td>ak</td>\n",
       "      <td>10236031</td>\n",
       "      <td>3</td>\n",
       "      <td>Saturday, May 14, 2011 09:41:05 UTC</td>\n",
       "      <td>67.6223</td>\n",
       "      <td>-148.9734</td>\n",
       "      <td>1.5</td>\n",
       "      <td>9.9</td>\n",
       "      <td>8</td>\n",
       "      <td>northern Alaska</td>\n",
       "    </tr>\n",
       "  </tbody>\n",
       "</table>\n",
       "<p>911 rows × 10 columns</p>\n",
       "</div>"
      ],
      "text/plain": [
       "    Src      Eqid Version                             Datetime      Lat  \\\n",
       "0    ci  14988836       0  Saturday, May 21, 2011 09:06:50 UTC  33.9665   \n",
       "1    ak  10237914       2  Saturday, May 21, 2011 08:33:21 UTC  65.3689   \n",
       "2    ak  10237907       2  Saturday, May 21, 2011 07:42:46 UTC  58.1643   \n",
       "3    ci  14988828       0  Saturday, May 21, 2011 07:31:41 UTC  33.1555   \n",
       "4    nc  71573030       0  Saturday, May 21, 2011 07:21:41 UTC  36.7657   \n",
       "..   ..       ...     ...                                  ...      ...   \n",
       "906  ci  14985188       2  Saturday, May 14, 2011 10:10:13 UTC  32.6497   \n",
       "907  uu  05141006       2  Saturday, May 14, 2011 10:06:37 UTC  44.7355   \n",
       "908  pr  11134002       0  Saturday, May 14, 2011 10:05:46 UTC  18.3500   \n",
       "909  uu  05140948       2  Saturday, May 14, 2011 09:48:13 UTC  44.7340   \n",
       "910  ak  10236031       3  Saturday, May 14, 2011 09:41:05 UTC  67.6223   \n",
       "\n",
       "          Lon  Magnitude  Depth  NST                        Region  \n",
       "0   -116.5598        1.4    9.3   54           Southern California  \n",
       "1   -166.8913        5.2   19.2   22               northern Alaska  \n",
       "2   -151.4626        3.3   32.9   54  Kodiak Island region, Alaska  \n",
       "3   -116.1015        1.5    9.7   82           Southern California  \n",
       "4   -121.3738        1.2    4.9   11            Central California  \n",
       "..        ...        ...    ...  ...                           ...  \n",
       "906 -115.7418        1.2    5.3   13           Southern California  \n",
       "907 -111.2197        2.0    5.9   19               western Montana  \n",
       "908  -68.9359        3.5  100.0    5     Dominican Republic region  \n",
       "909 -111.2188        1.3    5.6   18               western Montana  \n",
       "910 -148.9734        1.5    9.9    8               northern Alaska  \n",
       "\n",
       "[911 rows x 10 columns]"
      ]
     },
     "execution_count": 46,
     "metadata": {},
     "output_type": "execute_result"
    }
   ],
   "source": [
    "eData"
   ]
  },
  {
   "cell_type": "markdown",
   "metadata": {},
   "source": [
    "Kürzere Darstellung mit head(): nur die ersten 5 Einträge des Tabellenkopfes"
   ]
  },
  {
   "cell_type": "code",
   "execution_count": 4,
   "metadata": {},
   "outputs": [
    {
     "data": {
      "text/html": [
       "<div>\n",
       "<style scoped>\n",
       "    .dataframe tbody tr th:only-of-type {\n",
       "        vertical-align: middle;\n",
       "    }\n",
       "\n",
       "    .dataframe tbody tr th {\n",
       "        vertical-align: top;\n",
       "    }\n",
       "\n",
       "    .dataframe thead th {\n",
       "        text-align: right;\n",
       "    }\n",
       "</style>\n",
       "<table border=\"1\" class=\"dataframe\">\n",
       "  <thead>\n",
       "    <tr style=\"text-align: right;\">\n",
       "      <th></th>\n",
       "      <th>Src</th>\n",
       "      <th>Eqid</th>\n",
       "      <th>Version</th>\n",
       "      <th>Datetime</th>\n",
       "      <th>Lat</th>\n",
       "      <th>Lon</th>\n",
       "      <th>Magnitude</th>\n",
       "      <th>Depth</th>\n",
       "      <th>NST</th>\n",
       "      <th>Region</th>\n",
       "    </tr>\n",
       "  </thead>\n",
       "  <tbody>\n",
       "    <tr>\n",
       "      <td>0</td>\n",
       "      <td>ci</td>\n",
       "      <td>14988836</td>\n",
       "      <td>0</td>\n",
       "      <td>Saturday, May 21, 2011 09:06:50 UTC</td>\n",
       "      <td>33.9665</td>\n",
       "      <td>-116.5598</td>\n",
       "      <td>1.4</td>\n",
       "      <td>9.3</td>\n",
       "      <td>54</td>\n",
       "      <td>Southern California</td>\n",
       "    </tr>\n",
       "    <tr>\n",
       "      <td>1</td>\n",
       "      <td>ak</td>\n",
       "      <td>10237914</td>\n",
       "      <td>2</td>\n",
       "      <td>Saturday, May 21, 2011 08:33:21 UTC</td>\n",
       "      <td>65.3689</td>\n",
       "      <td>-166.8913</td>\n",
       "      <td>5.2</td>\n",
       "      <td>19.2</td>\n",
       "      <td>22</td>\n",
       "      <td>northern Alaska</td>\n",
       "    </tr>\n",
       "    <tr>\n",
       "      <td>2</td>\n",
       "      <td>ak</td>\n",
       "      <td>10237907</td>\n",
       "      <td>2</td>\n",
       "      <td>Saturday, May 21, 2011 07:42:46 UTC</td>\n",
       "      <td>58.1643</td>\n",
       "      <td>-151.4626</td>\n",
       "      <td>3.3</td>\n",
       "      <td>32.9</td>\n",
       "      <td>54</td>\n",
       "      <td>Kodiak Island region, Alaska</td>\n",
       "    </tr>\n",
       "    <tr>\n",
       "      <td>3</td>\n",
       "      <td>ci</td>\n",
       "      <td>14988828</td>\n",
       "      <td>0</td>\n",
       "      <td>Saturday, May 21, 2011 07:31:41 UTC</td>\n",
       "      <td>33.1555</td>\n",
       "      <td>-116.1015</td>\n",
       "      <td>1.5</td>\n",
       "      <td>9.7</td>\n",
       "      <td>82</td>\n",
       "      <td>Southern California</td>\n",
       "    </tr>\n",
       "    <tr>\n",
       "      <td>4</td>\n",
       "      <td>nc</td>\n",
       "      <td>71573030</td>\n",
       "      <td>0</td>\n",
       "      <td>Saturday, May 21, 2011 07:21:41 UTC</td>\n",
       "      <td>36.7657</td>\n",
       "      <td>-121.3738</td>\n",
       "      <td>1.2</td>\n",
       "      <td>4.9</td>\n",
       "      <td>11</td>\n",
       "      <td>Central California</td>\n",
       "    </tr>\n",
       "  </tbody>\n",
       "</table>\n",
       "</div>"
      ],
      "text/plain": [
       "  Src      Eqid Version                             Datetime      Lat  \\\n",
       "0  ci  14988836       0  Saturday, May 21, 2011 09:06:50 UTC  33.9665   \n",
       "1  ak  10237914       2  Saturday, May 21, 2011 08:33:21 UTC  65.3689   \n",
       "2  ak  10237907       2  Saturday, May 21, 2011 07:42:46 UTC  58.1643   \n",
       "3  ci  14988828       0  Saturday, May 21, 2011 07:31:41 UTC  33.1555   \n",
       "4  nc  71573030       0  Saturday, May 21, 2011 07:21:41 UTC  36.7657   \n",
       "\n",
       "        Lon  Magnitude  Depth  NST                        Region  \n",
       "0 -116.5598        1.4    9.3   54           Southern California  \n",
       "1 -166.8913        5.2   19.2   22               northern Alaska  \n",
       "2 -151.4626        3.3   32.9   54  Kodiak Island region, Alaska  \n",
       "3 -116.1015        1.5    9.7   82           Southern California  \n",
       "4 -121.3738        1.2    4.9   11            Central California  "
      ]
     },
     "execution_count": 4,
     "metadata": {},
     "output_type": "execute_result"
    }
   ],
   "source": [
    "eData.head()"
   ]
  },
  {
   "cell_type": "markdown",
   "metadata": {},
   "source": [
    "Anzahl der Reihen und Spalten mit Numpy shape()."
   ]
  },
  {
   "cell_type": "code",
   "execution_count": 5,
   "metadata": {},
   "outputs": [
    {
     "data": {
      "text/plain": [
       "(911, 10)"
      ]
     },
     "execution_count": 5,
     "metadata": {},
     "output_type": "execute_result"
    }
   ],
   "source": [
    "np.shape(eData)"
   ]
  },
  {
   "cell_type": "markdown",
   "metadata": {},
   "source": [
    "Anzeige der einzelnen Spaltennamen mit Attribut DataFrame.columns"
   ]
  },
  {
   "cell_type": "code",
   "execution_count": 6,
   "metadata": {},
   "outputs": [
    {
     "data": {
      "text/plain": [
       "Index(['Src', 'Eqid', 'Version', 'Datetime', 'Lat', 'Lon', 'Magnitude',\n",
       "       'Depth', 'NST', 'Region'],\n",
       "      dtype='object')"
      ]
     },
     "execution_count": 6,
     "metadata": {},
     "output_type": "execute_result"
    }
   ],
   "source": [
    "eData.columns"
   ]
  },
  {
   "cell_type": "markdown",
   "metadata": {},
   "source": [
    "Datentyp der einzelnen Variablen mit Attribut DataFrame.dtypes"
   ]
  },
  {
   "cell_type": "code",
   "execution_count": 7,
   "metadata": {},
   "outputs": [
    {
     "data": {
      "text/plain": [
       "Src           object\n",
       "Eqid          object\n",
       "Version       object\n",
       "Datetime      object\n",
       "Lat          float64\n",
       "Lon          float64\n",
       "Magnitude    float64\n",
       "Depth        float64\n",
       "NST            int64\n",
       "Region        object\n",
       "dtype: object"
      ]
     },
     "execution_count": 7,
     "metadata": {},
     "output_type": "execute_result"
    }
   ],
   "source": [
    "eData.dtypes"
   ]
  },
  {
   "cell_type": "markdown",
   "metadata": {},
   "source": [
    "2. Aufbereitung des Datensatzes\n",
    "-------------------------------\n",
    "\n",
    "Überprüfen, ob Tabelle NaN enthält, mit DataFrame.isnull().any()"
   ]
  },
  {
   "cell_type": "code",
   "execution_count": 8,
   "metadata": {},
   "outputs": [
    {
     "data": {
      "text/plain": [
       "Src          False\n",
       "Eqid         False\n",
       "Version      False\n",
       "Datetime     False\n",
       "Lat          False\n",
       "Lon          False\n",
       "Magnitude    False\n",
       "Depth        False\n",
       "NST          False\n",
       "Region       False\n",
       "dtype: bool"
      ]
     },
     "execution_count": 8,
     "metadata": {},
     "output_type": "execute_result"
    }
   ],
   "source": [
    "eData.isna().any()"
   ]
  },
  {
   "cell_type": "markdown",
   "metadata": {},
   "source": [
    "Entfernung aller Zeilen bzw. Messungen mit NaNs durch DataFrame.dropna()"
   ]
  },
  {
   "cell_type": "code",
   "execution_count": 9,
   "metadata": {},
   "outputs": [
    {
     "data": {
      "text/html": [
       "<div>\n",
       "<style scoped>\n",
       "    .dataframe tbody tr th:only-of-type {\n",
       "        vertical-align: middle;\n",
       "    }\n",
       "\n",
       "    .dataframe tbody tr th {\n",
       "        vertical-align: top;\n",
       "    }\n",
       "\n",
       "    .dataframe thead th {\n",
       "        text-align: right;\n",
       "    }\n",
       "</style>\n",
       "<table border=\"1\" class=\"dataframe\">\n",
       "  <thead>\n",
       "    <tr style=\"text-align: right;\">\n",
       "      <th></th>\n",
       "      <th>Src</th>\n",
       "      <th>Eqid</th>\n",
       "      <th>Version</th>\n",
       "      <th>Datetime</th>\n",
       "      <th>Lat</th>\n",
       "      <th>Lon</th>\n",
       "      <th>Magnitude</th>\n",
       "      <th>Depth</th>\n",
       "      <th>NST</th>\n",
       "      <th>Region</th>\n",
       "    </tr>\n",
       "  </thead>\n",
       "  <tbody>\n",
       "    <tr>\n",
       "      <td>0</td>\n",
       "      <td>ci</td>\n",
       "      <td>14988836</td>\n",
       "      <td>0</td>\n",
       "      <td>Saturday, May 21, 2011 09:06:50 UTC</td>\n",
       "      <td>33.9665</td>\n",
       "      <td>-116.5598</td>\n",
       "      <td>1.4</td>\n",
       "      <td>9.3</td>\n",
       "      <td>54</td>\n",
       "      <td>Southern California</td>\n",
       "    </tr>\n",
       "    <tr>\n",
       "      <td>1</td>\n",
       "      <td>ak</td>\n",
       "      <td>10237914</td>\n",
       "      <td>2</td>\n",
       "      <td>Saturday, May 21, 2011 08:33:21 UTC</td>\n",
       "      <td>65.3689</td>\n",
       "      <td>-166.8913</td>\n",
       "      <td>5.2</td>\n",
       "      <td>19.2</td>\n",
       "      <td>22</td>\n",
       "      <td>northern Alaska</td>\n",
       "    </tr>\n",
       "    <tr>\n",
       "      <td>2</td>\n",
       "      <td>ak</td>\n",
       "      <td>10237907</td>\n",
       "      <td>2</td>\n",
       "      <td>Saturday, May 21, 2011 07:42:46 UTC</td>\n",
       "      <td>58.1643</td>\n",
       "      <td>-151.4626</td>\n",
       "      <td>3.3</td>\n",
       "      <td>32.9</td>\n",
       "      <td>54</td>\n",
       "      <td>Kodiak Island region, Alaska</td>\n",
       "    </tr>\n",
       "    <tr>\n",
       "      <td>3</td>\n",
       "      <td>ci</td>\n",
       "      <td>14988828</td>\n",
       "      <td>0</td>\n",
       "      <td>Saturday, May 21, 2011 07:31:41 UTC</td>\n",
       "      <td>33.1555</td>\n",
       "      <td>-116.1015</td>\n",
       "      <td>1.5</td>\n",
       "      <td>9.7</td>\n",
       "      <td>82</td>\n",
       "      <td>Southern California</td>\n",
       "    </tr>\n",
       "    <tr>\n",
       "      <td>4</td>\n",
       "      <td>nc</td>\n",
       "      <td>71573030</td>\n",
       "      <td>0</td>\n",
       "      <td>Saturday, May 21, 2011 07:21:41 UTC</td>\n",
       "      <td>36.7657</td>\n",
       "      <td>-121.3738</td>\n",
       "      <td>1.2</td>\n",
       "      <td>4.9</td>\n",
       "      <td>11</td>\n",
       "      <td>Central California</td>\n",
       "    </tr>\n",
       "  </tbody>\n",
       "</table>\n",
       "</div>"
      ],
      "text/plain": [
       "  Src      Eqid Version                             Datetime      Lat  \\\n",
       "0  ci  14988836       0  Saturday, May 21, 2011 09:06:50 UTC  33.9665   \n",
       "1  ak  10237914       2  Saturday, May 21, 2011 08:33:21 UTC  65.3689   \n",
       "2  ak  10237907       2  Saturday, May 21, 2011 07:42:46 UTC  58.1643   \n",
       "3  ci  14988828       0  Saturday, May 21, 2011 07:31:41 UTC  33.1555   \n",
       "4  nc  71573030       0  Saturday, May 21, 2011 07:21:41 UTC  36.7657   \n",
       "\n",
       "        Lon  Magnitude  Depth  NST                        Region  \n",
       "0 -116.5598        1.4    9.3   54           Southern California  \n",
       "1 -166.8913        5.2   19.2   22               northern Alaska  \n",
       "2 -151.4626        3.3   32.9   54  Kodiak Island region, Alaska  \n",
       "3 -116.1015        1.5    9.7   82           Southern California  \n",
       "4 -121.3738        1.2    4.9   11            Central California  "
      ]
     },
     "execution_count": 9,
     "metadata": {},
     "output_type": "execute_result"
    }
   ],
   "source": [
    "eData = eData.dropna()\n",
    "eData.head()"
   ]
  },
  {
   "cell_type": "code",
   "execution_count": 10,
   "metadata": {},
   "outputs": [
    {
     "data": {
      "text/plain": [
       "Src          False\n",
       "Eqid         False\n",
       "Version      False\n",
       "Datetime     False\n",
       "Lat          False\n",
       "Lon          False\n",
       "Magnitude    False\n",
       "Depth        False\n",
       "NST          False\n",
       "Region       False\n",
       "dtype: bool"
      ]
     },
     "execution_count": 10,
     "metadata": {},
     "output_type": "execute_result"
    }
   ],
   "source": [
    "eData.isnull().any()"
   ]
  },
  {
   "cell_type": "markdown",
   "metadata": {},
   "source": [
    "Überprüfen, ob Zeilen bzw. Messungen doppelt vorkommen, mit DataFrame.duplicated()"
   ]
  },
  {
   "cell_type": "code",
   "execution_count": 11,
   "metadata": {},
   "outputs": [
    {
     "data": {
      "text/plain": [
       "False"
      ]
     },
     "execution_count": 11,
     "metadata": {},
     "output_type": "execute_result"
    }
   ],
   "source": [
    "eData.duplicated().any()"
   ]
  },
  {
   "cell_type": "markdown",
   "metadata": {},
   "source": [
    "Es kommen also keine Duplikate vor. Bei Bedarf mit *DataFrame.drop_duplicates()* entfernen.\n",
    "\n",
    "3. Explorative Statistiken\n",
    "--------------------------\n",
    "\n",
    "Statistische Beschreibung der numerischen Variablen mit Dataframe.describe() (count: Anzahl Messungen, mean: Mittelwert, std: Standardabweichung, min: Minimum, 25%: 25-Perzentil, ...)"
   ]
  },
  {
   "cell_type": "code",
   "execution_count": 12,
   "metadata": {},
   "outputs": [
    {
     "data": {
      "text/html": [
       "<div>\n",
       "<style scoped>\n",
       "    .dataframe tbody tr th:only-of-type {\n",
       "        vertical-align: middle;\n",
       "    }\n",
       "\n",
       "    .dataframe tbody tr th {\n",
       "        vertical-align: top;\n",
       "    }\n",
       "\n",
       "    .dataframe thead th {\n",
       "        text-align: right;\n",
       "    }\n",
       "</style>\n",
       "<table border=\"1\" class=\"dataframe\">\n",
       "  <thead>\n",
       "    <tr style=\"text-align: right;\">\n",
       "      <th></th>\n",
       "      <th>Lat</th>\n",
       "      <th>Lon</th>\n",
       "      <th>Magnitude</th>\n",
       "      <th>Depth</th>\n",
       "      <th>NST</th>\n",
       "    </tr>\n",
       "  </thead>\n",
       "  <tbody>\n",
       "    <tr>\n",
       "      <td>count</td>\n",
       "      <td>911.000000</td>\n",
       "      <td>911.000000</td>\n",
       "      <td>911.000000</td>\n",
       "      <td>911.000000</td>\n",
       "      <td>911.000000</td>\n",
       "    </tr>\n",
       "    <tr>\n",
       "      <td>mean</td>\n",
       "      <td>39.535118</td>\n",
       "      <td>-102.933544</td>\n",
       "      <td>2.103513</td>\n",
       "      <td>26.873985</td>\n",
       "      <td>33.315038</td>\n",
       "    </tr>\n",
       "    <tr>\n",
       "      <td>std</td>\n",
       "      <td>18.895694</td>\n",
       "      <td>79.619962</td>\n",
       "      <td>1.184900</td>\n",
       "      <td>53.237200</td>\n",
       "      <td>44.279241</td>\n",
       "    </tr>\n",
       "    <tr>\n",
       "      <td>min</td>\n",
       "      <td>-58.019200</td>\n",
       "      <td>-179.667800</td>\n",
       "      <td>1.000000</td>\n",
       "      <td>0.000000</td>\n",
       "      <td>3.000000</td>\n",
       "    </tr>\n",
       "    <tr>\n",
       "      <td>25%</td>\n",
       "      <td>34.016250</td>\n",
       "      <td>-147.437600</td>\n",
       "      <td>1.300000</td>\n",
       "      <td>4.300000</td>\n",
       "      <td>13.000000</td>\n",
       "    </tr>\n",
       "    <tr>\n",
       "      <td>50%</td>\n",
       "      <td>38.430700</td>\n",
       "      <td>-120.776500</td>\n",
       "      <td>1.700000</td>\n",
       "      <td>8.800000</td>\n",
       "      <td>20.000000</td>\n",
       "    </tr>\n",
       "    <tr>\n",
       "      <td>75%</td>\n",
       "      <td>53.213450</td>\n",
       "      <td>-116.229850</td>\n",
       "      <td>2.400000</td>\n",
       "      <td>27.900000</td>\n",
       "      <td>39.000000</td>\n",
       "    </tr>\n",
       "    <tr>\n",
       "      <td>max</td>\n",
       "      <td>72.814800</td>\n",
       "      <td>179.996500</td>\n",
       "      <td>6.500000</td>\n",
       "      <td>623.700000</td>\n",
       "      <td>440.000000</td>\n",
       "    </tr>\n",
       "  </tbody>\n",
       "</table>\n",
       "</div>"
      ],
      "text/plain": [
       "              Lat         Lon   Magnitude       Depth         NST\n",
       "count  911.000000  911.000000  911.000000  911.000000  911.000000\n",
       "mean    39.535118 -102.933544    2.103513   26.873985   33.315038\n",
       "std     18.895694   79.619962    1.184900   53.237200   44.279241\n",
       "min    -58.019200 -179.667800    1.000000    0.000000    3.000000\n",
       "25%     34.016250 -147.437600    1.300000    4.300000   13.000000\n",
       "50%     38.430700 -120.776500    1.700000    8.800000   20.000000\n",
       "75%     53.213450 -116.229850    2.400000   27.900000   39.000000\n",
       "max     72.814800  179.996500    6.500000  623.700000  440.000000"
      ]
     },
     "execution_count": 12,
     "metadata": {},
     "output_type": "execute_result"
    }
   ],
   "source": [
    "eData.describe()"
   ]
  },
  {
   "cell_type": "markdown",
   "metadata": {},
   "source": [
    "Streumatrix für alle numerischen Variablen mit Pandas *scattermatrix()*:"
   ]
  },
  {
   "cell_type": "code",
   "execution_count": 13,
   "metadata": {},
   "outputs": [],
   "source": [
    "pd.plotting.scatter_matrix(eData, figsize=(14,14), marker='o');"
   ]
  },
  {
   "cell_type": "markdown",
   "metadata": {},
   "source": [
    "4. Analyse von Untermengen\n",
    "--------------------------\n",
    "\n",
    "Zugriff auf die Variable 'Lat' (latitude):"
   ]
  },
  {
   "cell_type": "code",
   "execution_count": 14,
   "metadata": {},
   "outputs": [
    {
     "data": {
      "text/plain": [
       "0      33.9665\n",
       "1      65.3689\n",
       "2      58.1643\n",
       "3      33.1555\n",
       "4      36.7657\n",
       "        ...   \n",
       "906    32.6497\n",
       "907    44.7355\n",
       "908    18.3500\n",
       "909    44.7340\n",
       "910    67.6223\n",
       "Name: Lat, Length: 911, dtype: float64"
      ]
     },
     "execution_count": 14,
     "metadata": {},
     "output_type": "execute_result"
    }
   ],
   "source": [
    "eData['Lat']"
   ]
  },
  {
   "cell_type": "markdown",
   "metadata": {},
   "source": [
    "Welche Erdbeben fanden oberhalb einer geographischen Breite von 40 Grad statt?"
   ]
  },
  {
   "cell_type": "code",
   "execution_count": 15,
   "metadata": {},
   "outputs": [
    {
     "data": {
      "text/plain": [
       "0      False\n",
       "1       True\n",
       "2       True\n",
       "3      False\n",
       "4      False\n",
       "       ...  \n",
       "906    False\n",
       "907     True\n",
       "908    False\n",
       "909     True\n",
       "910     True\n",
       "Name: Lat, Length: 911, dtype: bool"
      ]
     },
     "execution_count": 15,
     "metadata": {},
     "output_type": "execute_result"
    }
   ],
   "source": [
    "eData['Lat'] > 40.0"
   ]
  },
  {
   "cell_type": "markdown",
   "metadata": {},
   "source": [
    "Gab es überhaupt Erdbeben oberhalb 50 Grad Breite?"
   ]
  },
  {
   "cell_type": "code",
   "execution_count": 16,
   "metadata": {},
   "outputs": [
    {
     "data": {
      "text/plain": [
       "True"
      ]
     },
     "execution_count": 16,
     "metadata": {},
     "output_type": "execute_result"
    }
   ],
   "source": [
    "(eData['Lat'] > 40.0).any()"
   ]
  },
  {
   "cell_type": "markdown",
   "metadata": {},
   "source": [
    "Gab es also. Haben alle verzeichneten Erdbeben eine Breite größer als 18 Grad?"
   ]
  },
  {
   "cell_type": "code",
   "execution_count": 17,
   "metadata": {},
   "outputs": [
    {
     "data": {
      "text/plain": [
       "False"
      ]
     },
     "execution_count": 17,
     "metadata": {},
     "output_type": "execute_result"
    }
   ],
   "source": [
    "(eData['Lat'] > 18.0).all()"
   ]
  },
  {
   "cell_type": "markdown",
   "metadata": {},
   "source": [
    "Es sind also auch Erdbeben unterhalb von 18 Grad verzeichnet.\n",
    "\n",
    "Alle unterschiedlichen Werte der kategorischen Variable 'Version' mit Dataframe['Variablenname'].*unique()*"
   ]
  },
  {
   "cell_type": "code",
   "execution_count": 18,
   "metadata": {},
   "outputs": [
    {
     "data": {
      "text/plain": [
       "array(['0', '2', '7', '1', '5', '8', '3', '6', '4', '9', 'B', 'C', 'A',\n",
       "       'E', 'F', 'a', 'H'], dtype=object)"
      ]
     },
     "execution_count": 18,
     "metadata": {},
     "output_type": "execute_result"
    }
   ],
   "source": [
    "eData['Version'].unique()"
   ]
  },
  {
   "cell_type": "markdown",
   "metadata": {},
   "source": [
    "Häufigkeit der verschiedenen Kategorien in 'Version' mit Dataframe['Variablenname'].*value_counts()*:"
   ]
  },
  {
   "cell_type": "code",
   "execution_count": 19,
   "metadata": {},
   "outputs": [
    {
     "data": {
      "text/plain": [
       "2    394\n",
       "3    134\n",
       "7    103\n",
       "0     76\n",
       "1     72\n",
       "4     40\n",
       "6     26\n",
       "5     23\n",
       "8     16\n",
       "A     11\n",
       "9      8\n",
       "a      2\n",
       "B      2\n",
       "F      1\n",
       "H      1\n",
       "C      1\n",
       "E      1\n",
       "Name: Version, dtype: int64"
      ]
     },
     "execution_count": 19,
     "metadata": {},
     "output_type": "execute_result"
    }
   ],
   "source": [
    "eData['Version'].value_counts()"
   ]
  },
  {
   "cell_type": "markdown",
   "metadata": {},
   "source": [
    "Häufigkeit von Wertepaaren der beiden kategorischen Variablen 'Version' und 'Src' mit Pandas *crosstab()*:"
   ]
  },
  {
   "cell_type": "code",
   "execution_count": 20,
   "metadata": {},
   "outputs": [
    {
     "data": {
      "text/html": [
       "<div>\n",
       "<style scoped>\n",
       "    .dataframe tbody tr th:only-of-type {\n",
       "        vertical-align: middle;\n",
       "    }\n",
       "\n",
       "    .dataframe tbody tr th {\n",
       "        vertical-align: top;\n",
       "    }\n",
       "\n",
       "    .dataframe thead th {\n",
       "        text-align: right;\n",
       "    }\n",
       "</style>\n",
       "<table border=\"1\" class=\"dataframe\">\n",
       "  <thead>\n",
       "    <tr style=\"text-align: right;\">\n",
       "      <th>Version</th>\n",
       "      <th>0</th>\n",
       "      <th>1</th>\n",
       "      <th>2</th>\n",
       "      <th>3</th>\n",
       "      <th>4</th>\n",
       "      <th>5</th>\n",
       "      <th>6</th>\n",
       "      <th>7</th>\n",
       "      <th>8</th>\n",
       "      <th>9</th>\n",
       "      <th>A</th>\n",
       "      <th>B</th>\n",
       "      <th>C</th>\n",
       "      <th>E</th>\n",
       "      <th>F</th>\n",
       "      <th>H</th>\n",
       "      <th>a</th>\n",
       "    </tr>\n",
       "    <tr>\n",
       "      <th>Src</th>\n",
       "      <th></th>\n",
       "      <th></th>\n",
       "      <th></th>\n",
       "      <th></th>\n",
       "      <th></th>\n",
       "      <th></th>\n",
       "      <th></th>\n",
       "      <th></th>\n",
       "      <th></th>\n",
       "      <th></th>\n",
       "      <th></th>\n",
       "      <th></th>\n",
       "      <th></th>\n",
       "      <th></th>\n",
       "      <th></th>\n",
       "      <th></th>\n",
       "      <th></th>\n",
       "    </tr>\n",
       "  </thead>\n",
       "  <tbody>\n",
       "    <tr>\n",
       "      <td>ak</td>\n",
       "      <td>0</td>\n",
       "      <td>32</td>\n",
       "      <td>170</td>\n",
       "      <td>52</td>\n",
       "      <td>3</td>\n",
       "      <td>0</td>\n",
       "      <td>0</td>\n",
       "      <td>0</td>\n",
       "      <td>0</td>\n",
       "      <td>0</td>\n",
       "      <td>0</td>\n",
       "      <td>0</td>\n",
       "      <td>0</td>\n",
       "      <td>0</td>\n",
       "      <td>0</td>\n",
       "      <td>0</td>\n",
       "      <td>0</td>\n",
       "    </tr>\n",
       "    <tr>\n",
       "      <td>at</td>\n",
       "      <td>0</td>\n",
       "      <td>1</td>\n",
       "      <td>0</td>\n",
       "      <td>0</td>\n",
       "      <td>0</td>\n",
       "      <td>0</td>\n",
       "      <td>0</td>\n",
       "      <td>0</td>\n",
       "      <td>0</td>\n",
       "      <td>0</td>\n",
       "      <td>0</td>\n",
       "      <td>0</td>\n",
       "      <td>0</td>\n",
       "      <td>0</td>\n",
       "      <td>0</td>\n",
       "      <td>0</td>\n",
       "      <td>0</td>\n",
       "    </tr>\n",
       "    <tr>\n",
       "      <td>ci</td>\n",
       "      <td>28</td>\n",
       "      <td>0</td>\n",
       "      <td>102</td>\n",
       "      <td>19</td>\n",
       "      <td>10</td>\n",
       "      <td>2</td>\n",
       "      <td>2</td>\n",
       "      <td>1</td>\n",
       "      <td>0</td>\n",
       "      <td>0</td>\n",
       "      <td>0</td>\n",
       "      <td>0</td>\n",
       "      <td>0</td>\n",
       "      <td>0</td>\n",
       "      <td>0</td>\n",
       "      <td>0</td>\n",
       "      <td>0</td>\n",
       "    </tr>\n",
       "    <tr>\n",
       "      <td>hv</td>\n",
       "      <td>0</td>\n",
       "      <td>12</td>\n",
       "      <td>0</td>\n",
       "      <td>0</td>\n",
       "      <td>0</td>\n",
       "      <td>0</td>\n",
       "      <td>0</td>\n",
       "      <td>0</td>\n",
       "      <td>0</td>\n",
       "      <td>0</td>\n",
       "      <td>0</td>\n",
       "      <td>0</td>\n",
       "      <td>0</td>\n",
       "      <td>0</td>\n",
       "      <td>0</td>\n",
       "      <td>0</td>\n",
       "      <td>0</td>\n",
       "    </tr>\n",
       "    <tr>\n",
       "      <td>mb</td>\n",
       "      <td>0</td>\n",
       "      <td>1</td>\n",
       "      <td>3</td>\n",
       "      <td>0</td>\n",
       "      <td>0</td>\n",
       "      <td>0</td>\n",
       "      <td>0</td>\n",
       "      <td>0</td>\n",
       "      <td>0</td>\n",
       "      <td>0</td>\n",
       "      <td>0</td>\n",
       "      <td>0</td>\n",
       "      <td>0</td>\n",
       "      <td>0</td>\n",
       "      <td>0</td>\n",
       "      <td>0</td>\n",
       "      <td>0</td>\n",
       "    </tr>\n",
       "    <tr>\n",
       "      <td>nc</td>\n",
       "      <td>20</td>\n",
       "      <td>2</td>\n",
       "      <td>100</td>\n",
       "      <td>59</td>\n",
       "      <td>17</td>\n",
       "      <td>2</td>\n",
       "      <td>3</td>\n",
       "      <td>0</td>\n",
       "      <td>0</td>\n",
       "      <td>0</td>\n",
       "      <td>1</td>\n",
       "      <td>0</td>\n",
       "      <td>0</td>\n",
       "      <td>0</td>\n",
       "      <td>0</td>\n",
       "      <td>0</td>\n",
       "      <td>0</td>\n",
       "    </tr>\n",
       "    <tr>\n",
       "      <td>ne</td>\n",
       "      <td>0</td>\n",
       "      <td>0</td>\n",
       "      <td>0</td>\n",
       "      <td>0</td>\n",
       "      <td>0</td>\n",
       "      <td>0</td>\n",
       "      <td>0</td>\n",
       "      <td>0</td>\n",
       "      <td>0</td>\n",
       "      <td>0</td>\n",
       "      <td>0</td>\n",
       "      <td>0</td>\n",
       "      <td>0</td>\n",
       "      <td>0</td>\n",
       "      <td>0</td>\n",
       "      <td>0</td>\n",
       "      <td>2</td>\n",
       "    </tr>\n",
       "    <tr>\n",
       "      <td>nm</td>\n",
       "      <td>0</td>\n",
       "      <td>0</td>\n",
       "      <td>0</td>\n",
       "      <td>0</td>\n",
       "      <td>0</td>\n",
       "      <td>0</td>\n",
       "      <td>0</td>\n",
       "      <td>0</td>\n",
       "      <td>0</td>\n",
       "      <td>0</td>\n",
       "      <td>7</td>\n",
       "      <td>1</td>\n",
       "      <td>0</td>\n",
       "      <td>0</td>\n",
       "      <td>0</td>\n",
       "      <td>0</td>\n",
       "      <td>0</td>\n",
       "    </tr>\n",
       "    <tr>\n",
       "      <td>nn</td>\n",
       "      <td>0</td>\n",
       "      <td>0</td>\n",
       "      <td>0</td>\n",
       "      <td>0</td>\n",
       "      <td>0</td>\n",
       "      <td>0</td>\n",
       "      <td>0</td>\n",
       "      <td>78</td>\n",
       "      <td>0</td>\n",
       "      <td>0</td>\n",
       "      <td>0</td>\n",
       "      <td>0</td>\n",
       "      <td>0</td>\n",
       "      <td>0</td>\n",
       "      <td>0</td>\n",
       "      <td>0</td>\n",
       "      <td>0</td>\n",
       "    </tr>\n",
       "    <tr>\n",
       "      <td>pr</td>\n",
       "      <td>27</td>\n",
       "      <td>0</td>\n",
       "      <td>1</td>\n",
       "      <td>0</td>\n",
       "      <td>0</td>\n",
       "      <td>0</td>\n",
       "      <td>0</td>\n",
       "      <td>0</td>\n",
       "      <td>0</td>\n",
       "      <td>0</td>\n",
       "      <td>0</td>\n",
       "      <td>0</td>\n",
       "      <td>0</td>\n",
       "      <td>0</td>\n",
       "      <td>0</td>\n",
       "      <td>0</td>\n",
       "      <td>0</td>\n",
       "    </tr>\n",
       "    <tr>\n",
       "      <td>us</td>\n",
       "      <td>0</td>\n",
       "      <td>3</td>\n",
       "      <td>1</td>\n",
       "      <td>4</td>\n",
       "      <td>10</td>\n",
       "      <td>19</td>\n",
       "      <td>21</td>\n",
       "      <td>24</td>\n",
       "      <td>16</td>\n",
       "      <td>8</td>\n",
       "      <td>3</td>\n",
       "      <td>1</td>\n",
       "      <td>1</td>\n",
       "      <td>1</td>\n",
       "      <td>1</td>\n",
       "      <td>1</td>\n",
       "      <td>0</td>\n",
       "    </tr>\n",
       "    <tr>\n",
       "      <td>uu</td>\n",
       "      <td>0</td>\n",
       "      <td>0</td>\n",
       "      <td>17</td>\n",
       "      <td>0</td>\n",
       "      <td>0</td>\n",
       "      <td>0</td>\n",
       "      <td>0</td>\n",
       "      <td>0</td>\n",
       "      <td>0</td>\n",
       "      <td>0</td>\n",
       "      <td>0</td>\n",
       "      <td>0</td>\n",
       "      <td>0</td>\n",
       "      <td>0</td>\n",
       "      <td>0</td>\n",
       "      <td>0</td>\n",
       "      <td>0</td>\n",
       "    </tr>\n",
       "    <tr>\n",
       "      <td>uw</td>\n",
       "      <td>1</td>\n",
       "      <td>21</td>\n",
       "      <td>0</td>\n",
       "      <td>0</td>\n",
       "      <td>0</td>\n",
       "      <td>0</td>\n",
       "      <td>0</td>\n",
       "      <td>0</td>\n",
       "      <td>0</td>\n",
       "      <td>0</td>\n",
       "      <td>0</td>\n",
       "      <td>0</td>\n",
       "      <td>0</td>\n",
       "      <td>0</td>\n",
       "      <td>0</td>\n",
       "      <td>0</td>\n",
       "      <td>0</td>\n",
       "    </tr>\n",
       "  </tbody>\n",
       "</table>\n",
       "</div>"
      ],
      "text/plain": [
       "Version   0   1    2   3   4   5   6   7   8  9  A  B  C  E  F  H  a\n",
       "Src                                                                 \n",
       "ak        0  32  170  52   3   0   0   0   0  0  0  0  0  0  0  0  0\n",
       "at        0   1    0   0   0   0   0   0   0  0  0  0  0  0  0  0  0\n",
       "ci       28   0  102  19  10   2   2   1   0  0  0  0  0  0  0  0  0\n",
       "hv        0  12    0   0   0   0   0   0   0  0  0  0  0  0  0  0  0\n",
       "mb        0   1    3   0   0   0   0   0   0  0  0  0  0  0  0  0  0\n",
       "nc       20   2  100  59  17   2   3   0   0  0  1  0  0  0  0  0  0\n",
       "ne        0   0    0   0   0   0   0   0   0  0  0  0  0  0  0  0  2\n",
       "nm        0   0    0   0   0   0   0   0   0  0  7  1  0  0  0  0  0\n",
       "nn        0   0    0   0   0   0   0  78   0  0  0  0  0  0  0  0  0\n",
       "pr       27   0    1   0   0   0   0   0   0  0  0  0  0  0  0  0  0\n",
       "us        0   3    1   4  10  19  21  24  16  8  3  1  1  1  1  1  0\n",
       "uu        0   0   17   0   0   0   0   0   0  0  0  0  0  0  0  0  0\n",
       "uw        1  21    0   0   0   0   0   0   0  0  0  0  0  0  0  0  0"
      ]
     },
     "execution_count": 20,
     "metadata": {},
     "output_type": "execute_result"
    }
   ],
   "source": [
    "pd.crosstab(eData['Src'], eData['Version'])"
   ]
  },
  {
   "cell_type": "markdown",
   "metadata": {},
   "source": [
    "Darstellung der Häufigkeitsverteilung der Erdbebenstärken für die verschiedenen Quellen mit einer Kastengraphik durch Pandas *boxplot()*:"
   ]
  },
  {
   "cell_type": "code",
   "execution_count": 22,
   "metadata": {},
   "outputs": [
    {
     "data": {
      "image/png": "[encoded data removed]",
      "text/plain": [
       "<Figure size 432x288 with 1 Axes>"
      ]
     },
     "metadata": {
      "needs_background": "light"
     },
     "output_type": "display_data"
    }
   ],
   "source": [
    "pd.DataFrame.boxplot(eData, column='Magnitude', by='Src');"
   ]
  },
  {
   "cell_type": "code",
   "execution_count": null,
   "metadata": {},
   "outputs": [],
   "source": []
  }
 ],
 "metadata": {
  "kernelspec": {
   "display_name": "Python 3",
   "language": "python",
   "name": "python3"
  },
  "language_info": {
   "codemirror_mode": {
    "name": "ipython",
    "version": 3
   },
   "file_extension": ".py",
   "mimetype": "text/x-python",
   "name": "python",
   "nbconvert_exporter": "python",
   "pygments_lexer": "ipython3",
   "version": "3.7.4"
  }
 },
 "nbformat": 4,
 "nbformat_minor": 1
}
