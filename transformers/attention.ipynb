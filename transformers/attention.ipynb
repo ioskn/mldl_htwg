{
 "cells": [
  {
   "cell_type": "markdown",
   "metadata": {},
   "source": [
    "# Demonstrations of Attention\n",
    "\n",
    "This notebook demonstrates the attention mechanism in the transformer model, such as the GPT-X models. And is meant to be as lecture notes for the course.\n",
    "\n",
    "It's motivated by the tutorial from Andrej Karpathy ( \n",
    "[youtube](https://www.youtube.com/watch?v=kCc8FmEb1nY&t=5191s), [code](https://github.com/karpathy/ng-video-lecture/blob/master/gpt.py)) but we use numpy here and just explain the intuition and the foreward pass. Another good source is his guest lecture at Stanford [youtube](https://youtu.be/XfpMkf4rD6E?si=_qjYgLXL-BVZjWc-&t=1388)"
   ]
  },
  {
   "cell_type": "markdown",
   "metadata": {},
   "source": [
    "##  Dimensions and Intuition\n",
    "\n",
    "\n",
    "We are looking at word embeddings $\\vec{x}_i$ of dimension $\\mathbb{R}^C$. The index $i=1 \\ldots T$ is the position of the word in a sentence. \n",
    "\n",
    "Example:\n",
    "```text\n",
    "Emma hates games but she is a  great friend.\n",
    "```\n",
    "$$ \n",
    "\\vec{x}_1, \\vec{x}_2,\\vec{x}_3,\\vec{x}_4,\\vec{x}_5,\\vec{x}_6,\\vec{x}_7,\\vec{x}_7,\\vec{x}_8,\\vec{x}_9\n",
    "$$\n",
    "\n",
    "The word \"friend\" is at position $i=9$ not all words are equally important for that word. For example the word \"friend\" strongly depends on the word \"Emma\" but not so much on the word \"hates\". We will derive a weight matrix $W_{\\text{to}, \\text{from} }$. In this example we would expect $W_{9,1} \\gg W_{9,2}$.\n",
    "\n",
    "##### Tensors for efficient computation\n",
    "To work efficiently with tensors, we use batch processing. The complete input $x$ is a tensor of dimension $\\mathbb{R}^{B \\times T \\times C}$."
   ]
  },
  {
   "cell_type": "code",
   "execution_count": 81,
   "metadata": {},
   "outputs": [
    {
     "data": {
      "text/plain": [
       "array([[ 1.62, -0.61, -0.53, -1.07],\n",
       "       [ 0.87, -2.3 ,  1.74, -0.76],\n",
       "       [ 0.32, -0.25,  1.46, -2.06],\n",
       "       [-0.32, -0.38,  1.13, -1.1 ],\n",
       "       [-0.17, -0.88,  0.04,  0.58],\n",
       "       [-1.1 ,  1.14,  0.9 ,  0.5 ],\n",
       "       [ 0.9 , -0.68, -0.12, -0.94],\n",
       "       [-0.27,  0.53, -0.69, -0.4 ],\n",
       "       [-0.69, -0.85, -0.67, -0.01]])"
      ]
     },
     "execution_count": 81,
     "metadata": {},
     "output_type": "execute_result"
    }
   ],
   "source": [
    "import numpy as np\n",
    "np.random.seed(1)\n",
    "B,T,C = 2, 9, 4\n",
    "x = np.random.normal(size=(B,T,C))\n",
    "x.shape\n",
    "np.round(x[0], 2)"
   ]
  },
  {
   "cell_type": "markdown",
   "metadata": {},
   "source": [
    "### A (side) Note on Tensor Dimensions and the Einstein summation \n",
    "The complete input $x$ is a tensor of dimension $\\mathbb{R}^{B \\times T \\times C}$.\n",
    "\n",
    "Since we work in at least a 3-dimensional space, talking about operations like transposing or matrix multiplication can be a bit confusing. \n",
    "A more intuitive way to think about matrix multiplication in this setting is by considering it as a summing-out operation. For instance, if we have two matrices $ A $ and $ B $ of dimensions $ \\mathbb{R}^{n \\times k} $ and $ \\mathbb{R}^{k \\times m} $ respectively, then the matrix product is a matrix $ C $ of dimensions $ \\mathbb{R}^{n \\times m} $, defined as follows:\n",
    "\n",
    "$$\n",
    "C_{ij} = \\sum_{l=1}^k A_{il} B_{lj}\n",
    "$$\n",
    "\n",
    "In this expression, we're **summing out** the shared dimension $ k $ to obtain the resulting matrix $ C $. This \"summing out\" is akin to the idea of \"abspuren\" or tracing out in tensor operations, where we reduce the dimensions by summing over one or more indices. There is a pattern, that the summing-out is done over adjacent indices. This is the idea of the Einstein summation convention, where we omit the summation symbol and assume that the summation is done over adjacent indices. For instance, the above expression can be written as:\n",
    "$$\n",
    "C_{ij} = A_{il} B_{lj}\n",
    "$$\n",
    "where the summation is implied over the index $ l $. So multiplying two matrices (N,K) and (K,M) results in a matrix of dimension (N,M). In numpy we can use this Einstein summation convention with the `einsum` function."
   ]
  },
  {
   "cell_type": "code",
   "execution_count": 82,
   "metadata": {},
   "outputs": [
    {
     "data": {
      "text/plain": [
       "(array([[-2.96,  0.31],\n",
       "        [ 0.36,  0.67],\n",
       "        [ 0.6 ,  0.2 ]]),\n",
       " array([[-2.96,  0.31],\n",
       "        [ 0.36,  0.67],\n",
       "        [ 0.6 ,  0.2 ]]))"
      ]
     },
     "execution_count": 82,
     "metadata": {},
     "output_type": "execute_result"
    }
   ],
   "source": [
    "A = np.round(np.random.normal(size=(3,4)),1)\n",
    "B = np.round(np.random.normal(size=(4,2)),1)\n",
    "A @ B, np.einsum('ik,kj', A, B)\n"
   ]
  },
  {
   "cell_type": "markdown",
   "metadata": {},
   "source": [
    "Note that $A B^\\top$ is not a valid matrix multiplication, since the adjacent indices are not the same. We can however use the Einstein summation convention to express this operation as:"
   ]
  },
  {
   "cell_type": "code",
   "execution_count": 83,
   "metadata": {},
   "outputs": [
    {
     "data": {
      "text/plain": [
       "array([[-2.96,  0.31],\n",
       "       [ 0.36,  0.67],\n",
       "       [ 0.6 ,  0.2 ]])"
      ]
     },
     "execution_count": 83,
     "metadata": {},
     "output_type": "execute_result"
    }
   ],
   "source": [
    "#np.einsum('ik,kj', A, B.T) # not working\n",
    "np.einsum('ik,jk', A, B.T) # working and same as above"
   ]
  },
  {
   "cell_type": "markdown",
   "metadata": {},
   "source": [
    "\n",
    "#### General remarks about Tensors\n",
    "When thinking of tensors it's better not (at least first) to think as matrices but as a multidimensional array, and try working in a 3-dimensional (or more dimensional) space. For effeciency it might be better to use matrix or vector operations.\n",
    "\n",
    "#### The vector symbol \n",
    "We wrote $\\vec{x}_9$ to denote a vector that, lives in the embedding space $C$. This is important to build intuition, for example the dot product is the similarity. \n",
    "\n"
   ]
  },
  {
   "cell_type": "markdown",
   "metadata": {},
   "source": [
    "### Query, Key \n",
    "\n",
    "To model this dependency, we introduce a query $\\vec{q}^i$ and a key vectors $\\vec{k}^j$ for each word. The idea about the query vector $\\vec{q}^{i=9}$ is to let the word \"friend\" ask a question to all other words. This question is encoded in the query vector. The query vector might lives in a diffent space the the word embedding. In fact it does, and we will see later when talking about muti-head attention that this is quite convenient to set the dimension $m$ of the query vector is smaller than $C$. We obtain the $\\vec{q}^i$ by a linear transformation (or a full connected NN) of the word embedding \n",
    "\n",
    "$$\n",
    "    \\vec{q}^i= W^q \\vec{x}^i\n",
    "$$ \n",
    "\n",
    "\n",
    "The key vector is the answer to the question. It's also a linear transformation of the word embedding $\\vec{k}^i= W^k \\vec{x}^i$. The querry and key vectors have the same dimension, instead of living in $\\mathbb{R}^C$ these vectors live in $\\mathbb{R}^m$. \n",
    "So we have $W^q , W^k \\in \\mathbb{R}^{m \\times C}$. $m$ is called head size / dimension. Notation of the original paper \n",
    "\n",
    "* $m$ is also called $d_k$ \n",
    "* $C$ is called $d_\\text{model}$ and they set $m=C/h$ with $h=8$."
   ]
  },
  {
   "cell_type": "markdown",
   "metadata": {},
   "source": [
    "### The query and key in tensor notation\n",
    "\n",
    "Since x has the dimension (B,T,C) we can transform it to (B,T,m) by multiplying it with $W^q$ and $W^k$."
   ]
  },
  {
   "cell_type": "code",
   "execution_count": 91,
   "metadata": {},
   "outputs": [
    {
     "data": {
      "text/plain": [
       "((2, 9, 8), (2, 9, 8), True)"
      ]
     },
     "execution_count": 91,
     "metadata": {},
     "output_type": "execute_result"
    }
   ],
   "source": [
    "m = 8\n",
    "wk = np.random.normal(size=(C, m))\n",
    "K_einsum = np.einsum('btc, cm->btm', x, wk) # (B, T, C) * (C, m) = (B, T, m) note in this case we have to state the dimension of the output\n",
    "K = np.matmul(x, wk) # (B, T, C) * (C, m) = (B, T, m)\n",
    "\n",
    "wq = np.random.normal(size=(C, m))\n",
    "Q = np.matmul(x, wq) # (B, T, C) * (C, m) = (B, T, m)\n",
    "Q.shape, K.shape, np.allclose(K, K_einsum)"
   ]
  },
  {
   "cell_type": "markdown",
   "metadata": {},
   "source": [
    "### Similarity between Query and Key\n",
    "\n",
    "The similarity between the key and the query is computed by the dot product $\\vec{q}^i \\cdot \\vec{k}^j$. The dot is reduced over the $m$-dimension and is a similarity measure. The dot product is high if the vectors are pointing in the same direction. The dot product is low if the vectors are orthogonal. We get the dot product, for a given batch $b$ and a given position $t$ by \n",
    "\n",
    "$$\n",
    "    z_{b,j, i} = \\sum_m Q_{b,j,m} K_{b,i,m} \n",
    "$$\n",
    "\n",
    "Viewed as a tensor $z$ is $z \\in \\mathbb{R}^{B \\times T \\times T}$. "
   ]
  },
  {
   "cell_type": "markdown",
   "metadata": {},
   "source": [
    "This quantity can be easily computed using the `np.einsum` function."
   ]
  },
  {
   "cell_type": "code",
   "execution_count": 96,
   "metadata": {},
   "outputs": [
    {
     "data": {
      "text/plain": [
       "(6.015555366132908, (2, 9, 9))"
      ]
     },
     "execution_count": 96,
     "metadata": {},
     "output_type": "execute_result"
    }
   ],
   "source": [
    "z = np.einsum('bjm,bim->bji', Q, K) \n",
    "z[1,2,3], z.shape"
   ]
  },
  {
   "cell_type": "markdown",
   "metadata": {},
   "source": [
    "####  As (batched) matrix multiplication\n",
    "\n",
    "You often see this code in (batched) matrix notations. Therefore, you have to (kind of transpose K), yielding the dimensions\n",
    "\n",
    "(B, T, m) * (B, m,  T)\n",
    "\n",
    "In this case of each batch a standard matrix multiplication between (T,m) and (m,T) is performed for each member. In generally the two rightmost dimensions are used for the matrix multiplication.\n",
    "\n",
    "I don't like it, because it's not clear what's going on. But it might be faster and if training your models costs millions of dollars, you might want to use this notation."
   ]
  },
  {
   "cell_type": "code",
   "execution_count": 99,
   "metadata": {},
   "outputs": [
    {
     "data": {
      "text/plain": [
       "((2, 9, 8), (2, 8, 9), (2, 9, 9), 6.015555366132908, True)"
      ]
     },
     "execution_count": 99,
     "metadata": {},
     "output_type": "execute_result"
    }
   ],
   "source": [
    "zd = Q @ K.swapaxes(-2,-1) # (B, T, m) * (B, m,  T) = (B, T, T)\n",
    "Q.shape, K.swapaxes(-2,-1).shape, zd.shape, z[1,2,3], np.allclose(z, zd)"
   ]
  },
  {
   "cell_type": "markdown",
   "metadata": {},
   "source": [
    "### Softmax to be interpreted as weights\n",
    "\n",
    "While the z holds the similarities between $i$ and $j$. We want to normalize it, so that it can be seen as a weight in a weighted average procedure. We normalize it by the softmax function."
   ]
  },
  {
   "cell_type": "code",
   "execution_count": 98,
   "metadata": {},
   "outputs": [],
   "source": [
    "# Unfortunately, softmax is not part of the numpy\n",
    "def softmax(z, axis=-1):\n",
    "    exp_z = np.exp(z - np.max(z, axis=axis, keepdims=True))  # Subtract max for numerical stability\n",
    "    sum_exp_z = np.sum(exp_z, axis=axis, keepdims=True)\n",
    "    softmax_output = exp_z / sum_exp_z\n",
    "    return softmax_output"
   ]
  },
  {
   "cell_type": "code",
   "execution_count": 100,
   "metadata": {},
   "outputs": [
    {
     "data": {
      "text/plain": [
       "array([[0.  , 1.  , 0.  , 0.  , 0.  , 0.  , 0.  , 0.  , 0.  ],\n",
       "       [0.  , 1.  , 0.  , 0.  , 0.  , 0.  , 0.  , 0.  , 0.  ],\n",
       "       [1.  , 0.  , 0.  , 0.  , 0.  , 0.  , 0.  , 0.  , 0.  ],\n",
       "       [0.97, 0.01, 0.  , 0.  , 0.  , 0.  , 0.02, 0.  , 0.01],\n",
       "       [0.  , 0.35, 0.35, 0.18, 0.  , 0.11, 0.  , 0.  , 0.  ],\n",
       "       [0.57, 0.  , 0.  , 0.  , 0.  , 0.  , 0.  , 0.43, 0.  ],\n",
       "       [0.  , 1.  , 0.  , 0.  , 0.  , 0.  , 0.  , 0.  , 0.  ],\n",
       "       [0.37, 0.07, 0.  , 0.  , 0.35, 0.09, 0.08, 0.03, 0.01],\n",
       "       [0.  , 1.  , 0.  , 0.  , 0.  , 0.  , 0.  , 0.  , 0.  ]])"
      ]
     },
     "execution_count": 100,
     "metadata": {},
     "output_type": "execute_result"
    }
   ],
   "source": [
    "np.round(softmax(z)[0],2)"
   ]
  },
  {
   "cell_type": "markdown",
   "metadata": {},
   "source": [
    "This matrix now reads contains the weights for each word (column) to each predecessor (row). Two addtions\n",
    "\n",
    "#### Flattening the softmax\n",
    "The softmax is a quite peacky function. Change $m$ in the code above, and you will see that the peakyness depends on $m$. So we divide by $\\sqrt{m}$ to make it more flat. \n",
    "\n",
    "<details>\n",
    "  <summary>Sidenote Scaling as Temperature</summary>\n",
    "\n",
    "  Sidenote this is similar to the idea of temperature when sampling from LLM. \n",
    "</details>\n"
   ]
  },
  {
   "cell_type": "code",
   "execution_count": 57,
   "metadata": {},
   "outputs": [
    {
     "data": {
      "text/plain": [
       "array([[0.32, 0.02, 0.09, 0.05, 0.04, 0.02, 0.17, 0.19, 0.1 ],\n",
       "       [0.  , 0.  , 0.  , 0.  , 0.  , 0.  , 0.  , 0.02, 0.98],\n",
       "       [0.  , 0.  , 0.  , 0.  , 0.  , 0.  , 0.  , 0.45, 0.55],\n",
       "       [0.  , 0.  , 0.  , 0.  , 0.  , 0.  , 0.  , 0.2 , 0.8 ],\n",
       "       [0.02, 0.69, 0.03, 0.06, 0.09, 0.01, 0.03, 0.01, 0.07],\n",
       "       [0.03, 0.  , 0.03, 0.04, 0.03, 0.4 , 0.03, 0.35, 0.08],\n",
       "       [0.12, 0.01, 0.03, 0.04, 0.05, 0.01, 0.1 , 0.24, 0.39],\n",
       "       [0.09, 0.45, 0.1 , 0.07, 0.07, 0.11, 0.07, 0.02, 0.01],\n",
       "       [0.  , 0.97, 0.  , 0.01, 0.02, 0.  , 0.  , 0.  , 0.  ]])"
      ]
     },
     "execution_count": 57,
     "metadata": {},
     "output_type": "execute_result"
    }
   ],
   "source": [
    "np.round(softmax(z/np.sqrt(m))[0],2)"
   ]
  },
  {
   "cell_type": "markdown",
   "metadata": {},
   "source": [
    "### Causal Mask\n",
    "\n",
    "The second addition is the causal mask. When we use attention in the decoder, we sample word by word and don't want to look into the future. So we set all weights to zero that are not causal. We do this by setting the weights to $-\\infty$ before the softmax. The softmax of $-\\infty$ is zero. When using the attention in the encoder (for example in the Bart Language Model), you don't need to do the masking."
   ]
  },
  {
   "cell_type": "code",
   "execution_count": 59,
   "metadata": {},
   "outputs": [
    {
     "data": {
      "text/plain": [
       "array([[1.  , 0.  , 0.  , 0.  , 0.  , 0.  , 0.  , 0.  , 0.  ],\n",
       "       [0.98, 0.02, 0.  , 0.  , 0.  , 0.  , 0.  , 0.  , 0.  ],\n",
       "       [0.67, 0.02, 0.31, 0.  , 0.  , 0.  , 0.  , 0.  , 0.  ],\n",
       "       [0.1 , 0.14, 0.06, 0.7 , 0.  , 0.  , 0.  , 0.  , 0.  ],\n",
       "       [0.27, 0.15, 0.53, 0.01, 0.05, 0.  , 0.  , 0.  , 0.  ],\n",
       "       [0.03, 0.  , 0.01, 0.13, 0.  , 0.83, 0.  , 0.  , 0.  ],\n",
       "       [0.03, 0.04, 0.02, 0.17, 0.09, 0.15, 0.49, 0.  , 0.  ],\n",
       "       [0.08, 0.02, 0.01, 0.2 , 0.1 , 0.08, 0.49, 0.02, 0.  ],\n",
       "       [0.03, 0.01, 0.09, 0.02, 0.  , 0.09, 0.  , 0.46, 0.29]])"
      ]
     },
     "execution_count": 59,
     "metadata": {},
     "output_type": "execute_result"
    }
   ],
   "source": [
    "### Set the upper diagonal to -inf\n",
    "upper_tri_indices = np.triu_indices(z.shape[1], k=1)\n",
    "# Iterate over the first dimension of z\n",
    "for i in range(z.shape[0]):\n",
    "    # Set the upper triangular elements of each (9, 9) slice to -inf\n",
    "    z[i][upper_tri_indices] = -np.inf\n",
    "\n",
    "np.round(softmax(z/np.sqrt(m))[1],2)"
   ]
  },
  {
   "cell_type": "markdown",
   "metadata": {},
   "source": [
    "## The Value\n",
    "\n",
    "So far we have the strength of attention (weight) from a word $i$ to earlier words $j$. Now we need to compute the value. In the example of the weighted average the the value itself. The intuition in the Karpathy tutorial is that the value the public value broadcasted from the private $\\vec{x}_i$.\n",
    "\n",
    "The value is a linear transformation of the word embedding $\\vec{v}^i= W^v \\vec{x}^i$. In principle the value could have another dimension $d_v$ but they set it to $m$."
   ]
  },
  {
   "cell_type": "code",
   "execution_count": 60,
   "metadata": {},
   "outputs": [
    {
     "data": {
      "text/plain": [
       "(2, 9, 8)"
      ]
     },
     "execution_count": 60,
     "metadata": {},
     "output_type": "execute_result"
    }
   ],
   "source": [
    "wv = np.random.normal(size=(C, m))\n",
    "q = np.matmul(x, wv)\n",
    "q.shape # (B, T, m)"
   ]
  },
  {
   "attachments": {
    "image.png": {
     "image/png": "[encoded data removed]"
    }
   },
   "cell_type": "markdown",
   "metadata": {},
   "source": [
    "### Putting it all together (a single self attention head)\n",
    "\n",
    "![image.png](attachment:image.png)\n",
    "$$\n",
    "x \\in \\mathbb{R}^{B,T,C} \\rightarrow x^{new} = \\text{softmax}\\left(\\frac{z}{\\sqrt{m}}\\right) \\cdot {W^v} x \\in \\mathbb{R}^{B,T,m}\n",
    "$$\n",
    "\n"
   ]
  },
  {
   "cell_type": "markdown",
   "metadata": {},
   "source": [
    "So all in all we have three linear transformations $W^q, W^k, W^v$ with $3 \\cdot m \\cdot C$ parameters.\n"
   ]
  },
  {
   "attachments": {
    "image.png": {
     "image/png": "[encoded data removed]"
    }
   },
   "cell_type": "markdown",
   "metadata": {},
   "source": [
    "#### Multi Head Attention (Running several heads in parallel, wide)\n",
    "\n",
    "In the transformers, we use multiple heads. Each of the $H$ head gets as input $x \\in \\mathbb{R}^{B,T,C}$ and outputs $x^{new} \\in \\mathbb{R}^{B,T,m}$. The heads are concatenated to a tensor of dimension $\\mathbb{R}^{B,T,H m}$. \n",
    "\n",
    "In the paper, this output is again linearly transformed with a matrix $W^O$ to $\\mathbb{R}^{B,T,C}$. Called projection in the youtube video.\n",
    "\n",
    "A typical choice of $m$ is $C/H$. So that the the embedding dimension $C$ is preserved. In the notation of the paper $d_k=d_v=d_\\text{model}/h = 64$ and they choose $h=8$.\n",
    "\n",
    "\n",
    "![image.png](attachment:image.png)\n",
    "\n",
    "After all the multi-head transformer blocks takes and input of dimension $\\mathbb{R}^{B,T,C}$ and outputs a tensor of dimension $\\mathbb{R}^{B,T,C}$.\n"
   ]
  },
  {
   "cell_type": "markdown",
   "metadata": {},
   "source": [
    "### Feed Foreward Network \n",
    "\n",
    "\n",
    "The feed forward is a two layer neural network with a ReLU activation inbetween. In the tutorial is is given by:\n",
    "\n",
    "```python\n",
    "self.net = nn.Sequential(\n",
    "            nn.Linear(n_embd, 4 * n_embd),\n",
    "            nn.ReLU(),\n",
    "            nn.Linear(4 * n_embd, n_embd),\n",
    "            nn.Dropout(dropout),\n",
    "        ) \n",
    "```"
   ]
  },
  {
   "cell_type": "markdown",
   "metadata": {},
   "source": [
    "Motivation on the feed forward network. The attention mechanism tells which words are important for another word. Karpathy explains calls this communication. The feed forward network is the computation part. Note that the feed forward network is the same, shared for all words and applied independently to each word. This is weight sharing."
   ]
  },
  {
   "attachments": {
    "image.png": {
     "image/png": "[encoded data removed]"
    }
   },
   "cell_type": "markdown",
   "metadata": {},
   "source": [
    "## Building the block\n",
    "\n",
    "A hole block is then given by:\n",
    "\n",
    "1. Layer Norm\n",
    "2. Multi Head Attention\n",
    "3. Residual Connection\n",
    "4. Layer Norm\n",
    "5. Feed Forward\n",
    "6. Residual Connection\n",
    "\n",
    "#### In code\n",
    "\n",
    "The following is from the code of the youtube tutorial.\n",
    "\n",
    "```python\n",
    "class Block(nn.Module):\n",
    "    \"\"\" Transformer block: communication followed by computation \"\"\"\n",
    "\n",
    "    def __init__(self, n_embd, n_head):\n",
    "        # n_embd: embedding dimension, n_head: the number of heads we'd like\n",
    "        super().__init__()\n",
    "        head_size = n_embd // n_head\n",
    "        self.sa = MultiHeadAttention(n_head, head_size)\n",
    "        self.ffwd = FeedFoward(n_embd)\n",
    "        self.ln1 = nn.LayerNorm(n_embd)\n",
    "        self.ln2 = nn.LayerNorm(n_embd)\n",
    "\n",
    "    def forward(self, x):\n",
    "        x = x + self.sa(self.ln1(x))\n",
    "        x = x + self.ffwd(self.ln2(x))\n",
    "        return x\n",
    "```\n",
    "\n",
    "\n",
    "#### In the paper\n",
    "In the paper the block is shown as follows. \n",
    "\n",
    "![image.png](attachment:image.png)"
   ]
  },
  {
   "cell_type": "markdown",
   "metadata": {},
   "source": [
    "In contrast to the paper. \n",
    "\n",
    "1. Lower Part First the normalization (Norm) is done then the multihead attention and then the residual connection (add)\n",
    "2. Upper Part First the normalization is done then Feed Forward and then the residual connection."
   ]
  },
  {
   "cell_type": "markdown",
   "metadata": {},
   "source": []
  },
  {
   "cell_type": "markdown",
   "metadata": {},
   "source": [
    "## All weights\n",
    "\n",
    "For each Attention Block we have the following weights\n",
    "\n",
    "* $w^q \\in \\mathbb{R}^{C \\times m}$\n",
    "* $w^r \\in \\mathbb{R}^{C \\times m}$\n",
    "* $w^v \\in \\mathbb{R}^{C \\times m}$\n",
    "\n",
    "If we have $H$ heads, and choose $m=C/H$, we have $3 \\cdot H \\cdot C / m \\cdot m = 3 \\cdot T \\cdot H$ parameters.\n",
    "\n",
    "A projetion adds another $(T, C)$ matrix. So the multihead attention block has $4 \\cdot T \\cdot C$ parameters. The feed forward network has a single hidden layer with dimension $d_\\text{ff}$ and so $C \\cdot d_\\text{ff} \\cdot 2$ parameters. So in total we have\n",
    "\n",
    "$$\n",
    "    4 \\cdot T \\cdot C + 2 \\cdot C \\cdot d_\\text{ff}\n",
    "$$\n",
    "\n",
    "parameters per block."
   ]
  },
  {
   "cell_type": "code",
   "execution_count": 66,
   "metadata": {},
   "outputs": [
    {
     "data": {
      "text/plain": [
       "132120576"
      ]
     },
     "execution_count": 66,
     "metadata": {},
     "output_type": "execute_result"
    }
   ],
   "source": [
    "#GPT-3 small\n",
    "T = 2048  #Context Window Size \n",
    "C = 768   #Embedding Size called d_model in the paper\n",
    "nlayer = 12 #Number of layers\n",
    "dff = 4*C #Dimension of the feed forward network\n",
    "num_per_block = 4*T*C+2*C*dff\n",
    "num_per_block * nlayer"
   ]
  },
  {
   "cell_type": "code",
   "execution_count": 70,
   "metadata": {},
   "outputs": [
    {
     "data": {
      "text/plain": [
       "125.627793408"
      ]
     },
     "execution_count": 70,
     "metadata": {},
     "output_type": "execute_result"
    }
   ],
   "source": [
    "#GPT-3 175B\n",
    "T = 2048    #Context Window Size \n",
    "C = 12288   #Embedding Size called d_model in the paper\n",
    "nlayer = 96 #Number of layers\n",
    "dff = 4*C #Dimension of the feed forward network\n",
    "num_per_block = 4*T*C+2*C*dff\n",
    "num_per_block * nlayer / 1e9"
   ]
  },
  {
   "cell_type": "code",
   "execution_count": null,
   "metadata": {},
   "outputs": [],
   "source": []
  }
 ],
 "metadata": {
  "kernelspec": {
   "display_name": "mldl_htwg",
   "language": "python",
   "name": "python3"
  },
  "language_info": {
   "codemirror_mode": {
    "name": "ipython",
    "version": 3
   },
   "file_extension": ".py",
   "mimetype": "text/x-python",
   "name": "python",
   "nbconvert_exporter": "python",
   "pygments_lexer": "ipython3",
   "version": "3.9.6"
  }
 },
 "nbformat": 4,
 "nbformat_minor": 2
}
