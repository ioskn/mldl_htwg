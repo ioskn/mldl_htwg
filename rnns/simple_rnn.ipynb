{
  "cells": [
    {
      "cell_type": "markdown",
      "metadata": {
        "id": "ORk7IEfRnNdO"
      },
      "source": [
        "# Simple RNN \n",
        "\n",
        "In this notebook we consider a simple example of an RNN and used a quite artifical data generating process (if you have a better idea / story please contact me). \n",
        "\n",
        "The example has been motivated by:\n",
        "http://r2rt.com/recurrent-neural-networks-in-tensorflow-i.html. \n",
        "\n",
        "Other Resources for RNNs:\n",
        "\n",
        "* http://www.wildml.com/2015/09/recurrent-neural-networks-tutorial-part-1-introduction-to-rnns/\n",
        "* http://r2rt.com/recurrent-neural-networks-in-tensorflow-i.html\n",
        "* http://karpathy.github.io/2015/05/21/rnn-effectiveness/\n",
        "* http://colah.github.io/posts/2015-08-Understanding-LSTMs/\n",
        "* http://www.deeplearningbook.org/contents/rnn.html"
      ]
    },
    {
      "cell_type": "code",
      "execution_count": 22,
      "metadata": {
        "colab": {
          "base_uri": "https://localhost:8080/"
        },
        "id": "LrsZGNr-nNdS",
        "outputId": "dd3be0b6-f082-4cff-9457-319e48fd645d"
      },
      "outputs": [
        {
          "data": {
            "text/plain": [
              "('2.15.0',\n",
              " sys.version_info(major=3, minor=10, micro=13, releaselevel='final', serial=0))"
            ]
          },
          "execution_count": 22,
          "metadata": {},
          "output_type": "execute_result"
        }
      ],
      "source": [
        "from six.moves.cPickle import loads\n",
        "import numpy as np\n",
        "import sys\n",
        "np.random.seed(42)\n",
        "import tensorflow as tf\n",
        "tf.random.set_seed(1)\n",
        "\n",
        "import tensorflow\n",
        "import tensorflow as tf\n",
        "keras = tensorflow.keras\n",
        "%matplotlib inline\n",
        "import matplotlib.pyplot as plt\n",
        "tf.__version__, sys.version_info"
      ]
    },
    {
      "cell_type": "code",
      "execution_count": 23,
      "metadata": {
        "id": "WkWMDn1gnNdT"
      },
      "outputs": [],
      "source": [
        "# Global config variables (see below)\n",
        "num_steps = 40     # number of truncated backprop steps\n",
        "batch_size = 200  # number of minibatches b\n",
        "num_classes_in = 3   # number of classes in the input\n",
        "num_classes_out = 2   # number of classes in the output\n",
        "state_size = 4    # number of classes in the state\n",
        "learning_rate = 0.1\n",
        "\n",
        "# Helper functions\n",
        "def one_hot(Y, max):\n",
        "    d = np.zeros((len(Y),max), dtype='int32')\n",
        "    for row,col in enumerate(Y):\n",
        "        d[row, col] = 1\n",
        "    return d    "
      ]
    },
    {
      "cell_type": "markdown",
      "metadata": {
        "id": "O_abito8nNdU"
      },
      "source": [
        "### Definition of the task\n",
        "\n",
        "We consider a network which predicts at each point in time a variable $\\hat{y}_t$ based on earlier values of $\\hat{y}_{t'}$ covariates $x_t$. "
      ]
    },
    {
      "cell_type": "markdown",
      "metadata": {
        "id": "WHII6zIHnNdU"
      },
      "source": [
        "### Example data  (I screama, you screama, we all screama for I screama)\n",
        "\n",
        "We need some data to play around with RNNs. They are capable of doing quite complicated things such as language models and so on. For this example, we want to generate the data ourself. We have to come up with a process which creates $x_t$ which itself can be influcenced by events $x_{t'}$ which happend before $t$. Further, we have to come up with $y_t$ which depends on $x_t'$ for timepoints $t' \\le t$. \n",
        "\n",
        "To keep it simple, we analyse the following quite artifical process in which the weather $x_{t'}$ for $t' \\le t$ influences our stock on icecream $y_t$. We then see if the RNN is capable of reconstructing that process.\n",
        "\n",
        "#### Definition of the simple process\n",
        "The weather $x_t$ at a certain point in time $t$ has three states (sunny, rainy, cloudy), which we model as $x_t = (1,0,0)$, $x_t = (0,1,0)$, and $x_t = (0,0,1)$ repectively. We assume that the weather is completly random (of course we could model more complex scenarios). \n",
        "\n",
        "We have an icecream store capable of holding 2 units of icecream and we start with a full store. When it is sunny we sell one unit of icecream. We have the strange policy that we order  on unit of icecream when it's cloudy. It takes 3 days to deliever the ice cream, we accept the ice cream if we do not have a full stock.\n",
        "\n",
        "This enables us to model $y_t$ the state of the store $(1,0)$ for out of stock and $(0,1)$ for in stock. We create the one-hot-encoded data in the graph later. For now we use integers but keep in mind that the data is categorical. \n",
        "\n",
        "** The important part is that, we have values $y_t$ which can be prediced from earlier** $x_t$s"
      ]
    },
    {
      "cell_type": "code",
      "execution_count": 24,
      "metadata": {
        "id": "wv49fA2bnNdU"
      },
      "outputs": [],
      "source": [
        "def gen_data(size=1000000):\n",
        "    Xs = np.array(np.random.choice(3, size=(size,))) #Random Weather\n",
        "    Y = []\n",
        "    ice = 2 #Our stock of icecream at start\n",
        "    for t,x in enumerate(Xs):\n",
        "        # (t-3) >= 0 the first ice cream could be delivered on day 3\n",
        "        # Xs[t - 3] claudy three days before today => we ordered ice cream\n",
        "        # ice < 2 not full\n",
        "        if (t - 3) >= 0 and Xs[t - 3] == 1 and ice < 2: \n",
        "            ice += 1\n",
        "        if x == 0: # It is sunny we therefore sell ice, if we have\n",
        "            if ice > 0: # We have ice cream\n",
        "                ice -= 1\n",
        "        if ice > 0: #We are not out of stock\n",
        "            Y.append(1)\n",
        "        else:\n",
        "            Y.append(0)\n",
        "    return Xs, np.array(Y)"
      ]
    },
    {
      "cell_type": "code",
      "execution_count": 25,
      "metadata": {
        "colab": {
          "base_uri": "https://localhost:8080/"
        },
        "id": "KwDJUmFFnNdV",
        "outputId": "77ae5392-e406-4456-c6c7-e996945c26eb"
      },
      "outputs": [
        {
          "data": {
            "text/plain": [
              "(array([2, 0, 2, 2, 0, 0, 2, 1, 2, 2, 2, 2, 0, 2, 1, 0, 1, 1, 1, 1, 0, 0,\n",
              "        1, 1, 0, 0, 0, 2, 2, 2, 1, 2, 1, 1, 2, 1, 2, 2, 0, 2, 0, 2, 2, 0,\n",
              "        0, 2, 1, 0, 1, 1]),\n",
              " array([1, 1, 1, 1, 0, 0, 0, 0, 0, 0, 1, 1, 0, 0, 0, 0, 0, 1, 1, 1, 1, 1,\n",
              "        1, 1, 1, 1, 1, 1, 1, 1, 1, 1, 1, 1, 1, 1, 1, 1, 1, 1, 0, 0, 0, 0,\n",
              "        0, 0, 0, 0, 0, 1]))"
            ]
          },
          "execution_count": 25,
          "metadata": {},
          "output_type": "execute_result"
        }
      ],
      "source": [
        "X_train, Y_train = gen_data(50000) #Global variables holding the input and output\n",
        "(X_train[0:50], Y_train[0:50])"
      ]
    },
    {
      "cell_type": "markdown",
      "metadata": {
        "id": "gL6n3fqynNdV"
      },
      "source": [
        "# Forward pass in numpy\n",
        "To better illustrate the used method, we first do a forward-pass of the RNN using numpy. We load the weights which we calculated previously with the cells below."
      ]
    },
    {
      "cell_type": "code",
      "execution_count": 26,
      "metadata": {
        "colab": {
          "base_uri": "https://localhost:8080/"
        },
        "id": "1LEkG78cJaiR",
        "outputId": "9a114c4d-d6d4-4558-b538-e3c9cd311440"
      },
      "outputs": [
        {
          "name": "stdout",
          "output_type": "stream",
          "text": [
            "--2023-12-13 15:20:47--  https://raw.githubusercontent.com/ioskn/mldl_htwg/master/rnns/rnn_weights_tf1.npy\n",
            "Resolving raw.githubusercontent.com (raw.githubusercontent.com)... 185.199.109.133, 185.199.110.133, 185.199.111.133, ...\n",
            "Connecting to raw.githubusercontent.com (raw.githubusercontent.com)|185.199.109.133|:443... connected.\n",
            "HTTP request sent, awaiting response... "
          ]
        },
        {
          "name": "stdout",
          "output_type": "stream",
          "text": [
            "200 OK\n",
            "Length: 774 [application/octet-stream]\n",
            "Saving to: ‘rnn_weights_tf1.npy.2’\n",
            "\n",
            "rnn_weights_tf1.npy 100%[===================>]     774  --.-KB/s    in 0s      \n",
            "\n",
            "2023-12-13 15:20:47 (43,4 MB/s) - ‘rnn_weights_tf1.npy.2’ saved [774/774]\n",
            "\n"
          ]
        }
      ],
      "source": [
        "!wget 'https://raw.githubusercontent.com/ioskn/mldl_htwg/master/rnns/rnn_weights_tf1.npy' "
      ]
    },
    {
      "cell_type": "code",
      "execution_count": 27,
      "metadata": {
        "id": "9kjxPh-XnNdV"
      },
      "outputs": [],
      "source": [
        "np.load('rnn_weights_tf1.npy', allow_pickle=True)\n",
        "W_, b_, V_, bv_ = np.load('rnn_weights_tf1.npy', allow_pickle=True)"
      ]
    },
    {
      "cell_type": "markdown",
      "metadata": {
        "id": "n0scP6j3nNdV"
      },
      "source": [
        "### Architecture of the network \n",
        "We now define the network, we do not consider the output nodes yet.\n",
        "A single RNN cell is shown in the figure below in the middle:\n",
        "\n",
        "![](http://colah.github.io/posts/2015-08-Understanding-LSTMs/img/LSTM3-SimpleRNN.png)\n",
        "Image taken from: [Colah's RNN Blog](http://colah.github.io/posts/2015-08-Understanding-LSTMs/)\n",
        "\n",
        "The joining of the two lines coming from the previous state $h_{t-1}$ and the current x-values $x_t$ is a concantination to a vector  $[h_{t-1}, x_{t}]$ of size `state_size + num_classes_in`. Alternatively, instead of concatinating, one could also use two matrices $W_x$ and $W_h$ and keep the states seperate. This is mathematically completely identical. The new state $h_t$ is then calculated as:\n",
        "\n",
        "$$\n",
        "    h_{t} = \\tanh([h_{t-1}, x_{t}] \\cdot W + b) = \\tanh(h_{t-1} \\cdot W_h + x_{t} \\cdot U + b)\n",
        "$$\n",
        "\n",
        "The dynamic of the hidden state $h_{t}$ is determined by $W$ (and $b$):"
      ]
    },
    {
      "cell_type": "code",
      "execution_count": 28,
      "metadata": {
        "colab": {
          "base_uri": "https://localhost:8080/"
        },
        "id": "qfm4sKQVnNdW",
        "outputId": "3d90fa9d-6f92-47dc-89e4-3aaaead32985"
      },
      "outputs": [
        {
          "name": "stdout",
          "output_type": "stream",
          "text": [
            "(7, 4)\n",
            "(4,)\n"
          ]
        },
        {
          "data": {
            "text/plain": [
              "(array([[-0.19089293,  1.2079829 ,  0.00908419, -0.9110236 ],\n",
              "        [-1.0788563 , -0.34288317,  0.7271212 ,  1.4178839 ],\n",
              "        [-0.20597383, -0.19254826,  0.7025221 , -0.54543966],\n",
              "        [ 1.0341463 ,  0.67596245, -0.93610775,  0.37894768],\n",
              "        [-0.16711316,  1.0264009 , -0.89726377, -0.42267284],\n",
              "        [ 0.20204762, -1.2146151 ,  0.02345279,  0.41776735],\n",
              "        [-1.4482121 ,  0.28976035, -1.8760067 , -1.1563133 ]],\n",
              "       dtype=float32),\n",
              " array([ 0.1347418 ,  0.28151226,  0.17300364, -0.321079  ], dtype=float32))"
            ]
          },
          "execution_count": 28,
          "metadata": {},
          "output_type": "execute_result"
        }
      ],
      "source": [
        "#Internal states\n",
        "print(W_.shape)\n",
        "print(b_.shape)\n",
        "W_, b_"
      ]
    },
    {
      "cell_type": "code",
      "execution_count": 29,
      "metadata": {
        "colab": {
          "base_uri": "https://localhost:8080/"
        },
        "id": "ncXYqITTnNdW",
        "outputId": "748e08e1-bbb6-4e84-9671-598f12393bab"
      },
      "outputs": [
        {
          "name": "stdout",
          "output_type": "stream",
          "text": [
            "(4, 2)\n",
            "(2,)\n"
          ]
        },
        {
          "data": {
            "text/plain": [
              "(array([[-0.18110763,  0.14144787],\n",
              "        [ 2.2433083 , -3.244251  ],\n",
              "        [-0.05769794,  0.35383844],\n",
              "        [ 0.0802527 , -0.5142712 ]], dtype=float32),\n",
              " array([-0.35922614,  0.35923496], dtype=float32))"
            ]
          },
          "execution_count": 29,
          "metadata": {},
          "output_type": "execute_result"
        }
      ],
      "source": [
        "#Connecting to the output\n",
        "print(V_.shape)\n",
        "print(bv_.shape)\n",
        "V_, bv_"
      ]
    },
    {
      "cell_type": "code",
      "execution_count": 30,
      "metadata": {
        "colab": {
          "base_uri": "https://localhost:8080/"
        },
        "id": "srUfVMPHnNdW",
        "outputId": "ed47a8a3-b1f1-4490-a0f7-7f33b6613ff8"
      },
      "outputs": [
        {
          "name": "stdout",
          "output_type": "stream",
          "text": [
            "[0. 0. 0. 0.] ---> [-0.0711118   0.08873004  0.70417075 -0.69960102]\n"
          ]
        }
      ],
      "source": [
        "# The first state\n",
        "h0 = np.zeros(state_size) #We start with 0 initial state\n",
        "x1 = one_hot(X_train, num_classes_in)[0] #Make a vector\n",
        "h1 = np.tanh(np.matmul(np.concatenate([x1, h0]), W_) + b_)\n",
        "print(h0, \"--->\", h1)"
      ]
    },
    {
      "cell_type": "markdown",
      "metadata": {
        "id": "A9lBoX_xnNdW"
      },
      "source": [
        "We could repeat those transitions of the hidden states to get a sequence of hidden states:\n",
        "\n",
        "$h_0 \\rightarrow h_1 \\rightarrow h_2 \\rightarrow h_3 \\rightarrow h_4 \\ldots $"
      ]
    },
    {
      "cell_type": "code",
      "execution_count": 31,
      "metadata": {
        "id": "_7OQe-qdnNdX"
      },
      "outputs": [],
      "source": [
        "def rnn_forward(state, X_train):\n",
        "    hs = []\n",
        "    for t in range(len(X_train)):\n",
        "        # Note that TF concatenates [Input, State]\n",
        "        state = np.tanh(np.matmul(np.concatenate([X_train[t,:],state]), W_) + b_)\n",
        "        hs.append(state)\n",
        "    return hs"
      ]
    },
    {
      "cell_type": "code",
      "execution_count": 32,
      "metadata": {
        "colab": {
          "base_uri": "https://localhost:8080/"
        },
        "id": "bk51T20hnNdX",
        "outputId": "50eb235f-1f21-45f8-c7ad-b491f75e41ad"
      },
      "outputs": [
        {
          "data": {
            "text/plain": [
              "[array([-0.0711118 ,  0.08873004,  0.70417075, -0.69960102]),\n",
              " array([ 0.76614542,  0.4418166 ,  0.90478852, -0.19104017]),\n",
              " array([ 0.80289923, -0.09371934,  0.14058029, -0.16258438]),\n",
              " array([ 0.77733682,  0.30737024,  0.47485703, -0.26912559]),\n",
              " array([ 0.82809942,  0.93229872, -0.29620752, -0.50640012])]"
            ]
          },
          "execution_count": 32,
          "metadata": {},
          "output_type": "execute_result"
        }
      ],
      "source": [
        "rnn_forward(h0, one_hot(X_train[0:5],num_classes_in))"
      ]
    },
    {
      "cell_type": "markdown",
      "metadata": {
        "id": "kHG7eaa4nNdX"
      },
      "source": [
        "We add some output. For each time step the output is produced by multiplying the hidden state with:\n",
        "\n",
        "$o_t = h_t \\cdot V + b_{\\tt{v}}$\n",
        "\n",
        "This is a logit, the final the probability of output class is the softmax of the logit."
      ]
    },
    {
      "cell_type": "code",
      "execution_count": 33,
      "metadata": {
        "colab": {
          "base_uri": "https://localhost:8080/"
        },
        "id": "Ic9nxmMtnNdX",
        "outputId": "bb7593ca-a145-49e7-e2d4-3f5947da317c"
      },
      "outputs": [
        {
          "data": {
            "text/plain": [
              "(array([-0.24407249,  0.67026118]), array([0.28611385, 0.71388615]))"
            ]
          },
          "execution_count": 33,
          "metadata": {},
          "output_type": "execute_result"
        }
      ],
      "source": [
        "#<---- your code here (calculate the output state o1 for timestep 1 from h1, V_ and the bias bv_) ---->\n",
        "o1 = np.matmul(h1, V_) + bv_\n",
        "#<---- your code here (calculate probability from the state o1) using softmax ---->\n",
        "prob_1 = np.exp(o1)/np.sum(np.exp(o1))\n",
        "#<---- end your code here  ---->\n",
        "o1, prob_1"
      ]
    },
    {
      "cell_type": "code",
      "execution_count": 34,
      "metadata": {
        "id": "yMy2z_NMnNdY"
      },
      "outputs": [],
      "source": [
        "h = rnn_forward(h0, one_hot(X_train,3))\n",
        "pt = []\n",
        "for t in range(len(h)):\n",
        "    ot = np.matmul(h[t], V_) + bv_\n",
        "    pt.append(np.exp(ot)/np.sum(np.exp(ot)))"
      ]
    },
    {
      "cell_type": "code",
      "execution_count": 35,
      "metadata": {
        "colab": {
          "base_uri": "https://localhost:8080/"
        },
        "id": "NyrWKuKonNdY",
        "outputId": "f43ea891-85e0-465c-c077-d73899810103"
      },
      "outputs": [
        {
          "data": {
            "text/plain": [
              "([array([0.28611385, 0.71388615]),\n",
              "  array([0.72571267, 0.27428733]),\n",
              "  array([0.16161706, 0.83838294]),\n",
              "  array([0.58954736, 0.41045264]),\n",
              "  array([0.98113328, 0.01886672]),\n",
              "  array([0.98589376, 0.01410624]),\n",
              "  array([0.9805026, 0.0194974]),\n",
              "  array([0.97813046, 0.02186954]),\n",
              "  array([0.98805885, 0.01194115]),\n",
              "  array([0.96179709, 0.03820291])],\n",
              " array([1, 0, 1, 0, 0, 0, 0, 0, 0, 0, 1, 1, 0, 0, 0, 0, 0, 1, 1, 1, 1, 1,\n",
              "        1, 1, 1, 1, 1, 1, 1, 0]),\n",
              " array([1, 1, 1, 1, 0, 0, 0, 0, 0, 0, 1, 1, 0, 0, 0, 0, 0, 1, 1, 1, 1, 1,\n",
              "        1, 1, 1, 1, 1, 1, 1, 1]))"
            ]
          },
          "execution_count": 35,
          "metadata": {},
          "output_type": "execute_result"
        }
      ],
      "source": [
        "pt[0:10], np.argmax(pt[0:30],axis=1), Y_train[0:30]"
      ]
    },
    {
      "cell_type": "code",
      "execution_count": 36,
      "metadata": {
        "colab": {
          "base_uri": "https://localhost:8080/"
        },
        "id": "mi-PvY0jnNdY",
        "outputId": "447ec963-cd2e-43fb-afdc-96bcaa257a31"
      },
      "outputs": [
        {
          "data": {
            "text/plain": [
              "0.98318"
            ]
          },
          "execution_count": 36,
          "metadata": {},
          "output_type": "execute_result"
        }
      ],
      "source": [
        "np.average(np.argmax(pt, axis=1) == Y_train)"
      ]
    },
    {
      "cell_type": "code",
      "execution_count": 37,
      "metadata": {
        "id": "SeXUWg9RnNdY"
      },
      "outputs": [],
      "source": [
        "tot_loss = 0\n",
        "for i in range(len(Y_train)):\n",
        "    tot_loss += -np.log(pt[i][Y_train[i]])"
      ]
    },
    {
      "cell_type": "code",
      "execution_count": 38,
      "metadata": {
        "colab": {
          "base_uri": "https://localhost:8080/"
        },
        "id": "oPK9SD2mnNda",
        "outputId": "599a17ba-6386-4b1e-f782-f31e1674aa01"
      },
      "outputs": [
        {
          "data": {
            "text/plain": [
              "0.06928991983381633"
            ]
          },
          "execution_count": 38,
          "metadata": {},
          "output_type": "execute_result"
        }
      ],
      "source": [
        "tot_loss / len(Y_train)"
      ]
    },
    {
      "cell_type": "markdown",
      "metadata": {
        "id": "4LhUX-xInNda"
      },
      "source": [
        "# Training of the network\n",
        "## Preparation of the Minibatch\n",
        "\n",
        "In this example, we have in principle a large stream of data $x$ and $y$. For efficiency reason we split the stream in minibatches of a certain length. For this task we could also imagin to have several realizations of that icecream process, so that it would also be natural to split the process into mini batches. \n",
        "\n",
        "For simplicity, we create the minibatch by randomly cutting out `batch_size` entries of fixed length `num_steps`. Other, more advanced ways of doing so are possible. See e.g. https://danijar.com/variable-sequence-lengths-in-tensorflow/. For the time being, we thus consider the input tensor $X_{btc}$ for the minibatch to be of the following form:\n",
        "\n",
        "* $b$ having `batch_size` entries\n",
        "* $t$ loops over the unrolled timestamps (`num_steps`)\n",
        "* $c$ has the dimension of the one-hot-coded input classes "
      ]
    },
    {
      "cell_type": "code",
      "execution_count": 39,
      "metadata": {
        "id": "H9Dmftz1nNda"
      },
      "outputs": [],
      "source": [
        "def data_matrix(Xs, Ys, size = 32, num_steps = 50):\n",
        "    data_x = np.zeros([size, num_steps, 3], dtype=np.int32)\n",
        "    data_y = np.zeros([size, num_steps, 2], dtype=np.int32)\n",
        "    for i in range(1,size):\n",
        "        s = int(np.random.uniform(0, len(Xs) - num_steps))\n",
        "        data_x[i] = one_hot(Xs[s : s + num_steps],3)\n",
        "        data_y[i] = one_hot(Ys[s : s + num_steps],2)\n",
        "    return data_x, data_y"
      ]
    },
    {
      "cell_type": "code",
      "execution_count": 40,
      "metadata": {
        "colab": {
          "base_uri": "https://localhost:8080/"
        },
        "id": "eDf8RVD6nNda",
        "outputId": "60e0bb3d-6378-47c2-a90b-a0fae74d40b4"
      },
      "outputs": [
        {
          "data": {
            "text/plain": [
              "((10000, 40, 3), (10000, 40, 2))"
            ]
          },
          "execution_count": 40,
          "metadata": {},
          "output_type": "execute_result"
        }
      ],
      "source": [
        "X, Y = data_matrix(X_train, Y_train, size=10000, num_steps=num_steps)\n",
        "X.shape, Y.shape\n",
        "#print (X[0:2,0:5])\n",
        "#print (Y[0:2,0:5])"
      ]
    },
    {
      "cell_type": "markdown",
      "metadata": {
        "id": "c9BtVQrDnNda"
      },
      "source": [
        "## Building the model with keras\n",
        "\n",
        "**Keras assumes (batch, time, input_dimension)** as input tensor. The batch dimension needs not to be specified (side note that specifying it to `None` would not work).\n",
        "\n",
        "\n",
        "In our model we calculate the loss using all hidden timepoints. This is many-to-many situation is different for example to a sentiment classifier, where we we have a many-to-one situation. \n",
        "\n",
        "But here we use all outputs, not just the latest one (in time) and hence we set `return_sequences=True`."
      ]
    },
    {
      "cell_type": "code",
      "execution_count": 41,
      "metadata": {
        "colab": {
          "base_uri": "https://localhost:8080/"
        },
        "id": "9ryBjmmDnNdb",
        "outputId": "f8c0794e-b590-43ae-b68c-daede2c9d197"
      },
      "outputs": [
        {
          "data": {
            "text/html": [
              "<pre style=\"white-space:pre;overflow-x:auto;line-height:normal;font-family:Menlo,'DejaVu Sans Mono',consolas,'Courier New',monospace\"><span style=\"font-weight: bold\">Model: \"sequential_1\"</span>\n",
              "</pre>\n"
            ],
            "text/plain": [
              "\u001b[1mModel: \"sequential_1\"\u001b[0m\n"
            ]
          },
          "metadata": {},
          "output_type": "display_data"
        },
        {
          "data": {
            "text/html": [
              "<pre style=\"white-space:pre;overflow-x:auto;line-height:normal;font-family:Menlo,'DejaVu Sans Mono',consolas,'Courier New',monospace\">┏━━━━━━━━━━━━━━━━━━━━━━━━━━━━━━━━━┳━━━━━━━━━━━━━━━━━━━━━━━━━━━┳━━━━━━━━━━━━┓\n",
              "┃<span style=\"font-weight: bold\"> Layer (type)                    </span>┃<span style=\"font-weight: bold\"> Output Shape              </span>┃<span style=\"font-weight: bold\">    Param # </span>┃\n",
              "┡━━━━━━━━━━━━━━━━━━━━━━━━━━━━━━━━━╇━━━━━━━━━━━━━━━━━━━━━━━━━━━╇━━━━━━━━━━━━┩\n",
              "│ RNN (<span style=\"color: #0087ff; text-decoration-color: #0087ff\">SimpleRNN</span>)                 │ (<span style=\"color: #00d7ff; text-decoration-color: #00d7ff\">None</span>, <span style=\"color: #00af00; text-decoration-color: #00af00\">40</span>, <span style=\"color: #00af00; text-decoration-color: #00af00\">4</span>)             │         <span style=\"color: #00af00; text-decoration-color: #00af00\">32</span> │\n",
              "├─────────────────────────────────┼───────────────────────────┼────────────┤\n",
              "│ dense_1 (<span style=\"color: #0087ff; text-decoration-color: #0087ff\">Dense</span>)                 │ (<span style=\"color: #00d7ff; text-decoration-color: #00d7ff\">None</span>, <span style=\"color: #00af00; text-decoration-color: #00af00\">40</span>, <span style=\"color: #00af00; text-decoration-color: #00af00\">2</span>)             │         <span style=\"color: #00af00; text-decoration-color: #00af00\">10</span> │\n",
              "└─────────────────────────────────┴───────────────────────────┴────────────┘\n",
              "</pre>\n"
            ],
            "text/plain": [
              "┏━━━━━━━━━━━━━━━━━━━━━━━━━━━━━━━━━┳━━━━━━━━━━━━━━━━━━━━━━━━━━━┳━━━━━━━━━━━━┓\n",
              "┃\u001b[1m \u001b[0m\u001b[1mLayer (type)                   \u001b[0m\u001b[1m \u001b[0m┃\u001b[1m \u001b[0m\u001b[1mOutput Shape             \u001b[0m\u001b[1m \u001b[0m┃\u001b[1m \u001b[0m\u001b[1m   Param #\u001b[0m\u001b[1m \u001b[0m┃\n",
              "┡━━━━━━━━━━━━━━━━━━━━━━━━━━━━━━━━━╇━━━━━━━━━━━━━━━━━━━━━━━━━━━╇━━━━━━━━━━━━┩\n",
              "│ RNN (\u001b[38;5;33mSimpleRNN\u001b[0m)                 │ (\u001b[38;5;45mNone\u001b[0m, \u001b[38;5;34m40\u001b[0m, \u001b[38;5;34m4\u001b[0m)             │         \u001b[38;5;34m32\u001b[0m │\n",
              "├─────────────────────────────────┼───────────────────────────┼────────────┤\n",
              "│ dense_1 (\u001b[38;5;33mDense\u001b[0m)                 │ (\u001b[38;5;45mNone\u001b[0m, \u001b[38;5;34m40\u001b[0m, \u001b[38;5;34m2\u001b[0m)             │         \u001b[38;5;34m10\u001b[0m │\n",
              "└─────────────────────────────────┴───────────────────────────┴────────────┘\n"
            ]
          },
          "metadata": {},
          "output_type": "display_data"
        },
        {
          "data": {
            "text/html": [
              "<pre style=\"white-space:pre;overflow-x:auto;line-height:normal;font-family:Menlo,'DejaVu Sans Mono',consolas,'Courier New',monospace\"><span style=\"font-weight: bold\"> Total params: </span><span style=\"color: #00af00; text-decoration-color: #00af00\">42</span> (168.00 B)\n",
              "</pre>\n"
            ],
            "text/plain": [
              "\u001b[1m Total params: \u001b[0m\u001b[38;5;34m42\u001b[0m (168.00 B)\n"
            ]
          },
          "metadata": {},
          "output_type": "display_data"
        },
        {
          "data": {
            "text/html": [
              "<pre style=\"white-space:pre;overflow-x:auto;line-height:normal;font-family:Menlo,'DejaVu Sans Mono',consolas,'Courier New',monospace\"><span style=\"font-weight: bold\"> Trainable params: </span><span style=\"color: #00af00; text-decoration-color: #00af00\">42</span> (168.00 B)\n",
              "</pre>\n"
            ],
            "text/plain": [
              "\u001b[1m Trainable params: \u001b[0m\u001b[38;5;34m42\u001b[0m (168.00 B)\n"
            ]
          },
          "metadata": {},
          "output_type": "display_data"
        },
        {
          "data": {
            "text/html": [
              "<pre style=\"white-space:pre;overflow-x:auto;line-height:normal;font-family:Menlo,'DejaVu Sans Mono',consolas,'Courier New',monospace\"><span style=\"font-weight: bold\"> Non-trainable params: </span><span style=\"color: #00af00; text-decoration-color: #00af00\">0</span> (0.00 B)\n",
              "</pre>\n"
            ],
            "text/plain": [
              "\u001b[1m Non-trainable params: \u001b[0m\u001b[38;5;34m0\u001b[0m (0.00 B)\n"
            ]
          },
          "metadata": {},
          "output_type": "display_data"
        }
      ],
      "source": [
        "model = keras.models.Sequential()\n",
        "rnn = keras.layers.SimpleRNN(state_size, input_shape=(num_steps, 3), return_sequences=True, name='RNN')\n",
        "model.add(rnn) \n",
        "#model.input_shape --> (None, 40, 3)\n",
        "#model.output_shape --> (None, 40, 4) \n",
        "\n",
        "# <-- Your code here \n",
        "# Add an output layer connecting with the hidden state of the RNN\n",
        "model.add(keras.layers.Dense(2))\n",
        "# <-- End code here \n",
        "\n",
        "#model.output_shape --> (None, 40, 2) \n",
        "model.compile(loss='binary_crossentropy', optimizer='rmsprop', metrics=['accuracy'])\n",
        "model.summary()"
      ]
    },
    {
      "cell_type": "markdown",
      "metadata": {
        "id": "8ZB577WNnNdb"
      },
      "source": [
        "For the RNN we have: \n",
        "\n",
        "Internal: (4+3)*4 + 4 = 32\n",
        "\n",
        "Output: 4*2+2 = 10"
      ]
    },
    {
      "cell_type": "code",
      "execution_count": 42,
      "metadata": {
        "colab": {
          "base_uri": "https://localhost:8080/",
          "height": 800
        },
        "id": "eB368pnWnNdb",
        "outputId": "33d0e8e9-5b45-4d29-ae1f-b91ce693e79a"
      },
      "outputs": [
        {
          "name": "stdout",
          "output_type": "stream",
          "text": [
            "Epoch 1/100\n",
            "297/297 - 1s - 3ms/step - accuracy: 0.5705 - loss: 2.8152 - val_accuracy: 0.6036 - val_loss: 1.8705\n",
            "Epoch 2/100\n",
            "297/297 - 0s - 2ms/step - accuracy: 0.6362 - loss: 1.2146 - val_accuracy: 0.6442 - val_loss: 0.6762\n",
            "Epoch 3/100\n",
            "297/297 - 0s - 2ms/step - accuracy: 0.6751 - loss: 0.6237 - val_accuracy: 0.6926 - val_loss: 0.6035\n",
            "Epoch 4/100\n",
            "297/297 - 0s - 2ms/step - accuracy: 0.6947 - loss: 0.5935 - val_accuracy: 0.6988 - val_loss: 0.5804\n",
            "Epoch 5/100\n",
            "297/297 - 0s - 2ms/step - accuracy: 0.7822 - loss: 0.4893 - val_accuracy: 0.8202 - val_loss: 0.4342\n",
            "Epoch 6/100\n",
            "297/297 - 0s - 2ms/step - accuracy: 0.8265 - loss: 0.4174 - val_accuracy: 0.8291 - val_loss: 0.4152\n",
            "Epoch 7/100\n",
            "297/297 - 0s - 2ms/step - accuracy: 0.8312 - loss: 0.4062 - val_accuracy: 0.8327 - val_loss: 0.4064\n",
            "Epoch 8/100\n",
            "297/297 - 0s - 2ms/step - accuracy: 0.8345 - loss: 0.3984 - val_accuracy: 0.8372 - val_loss: 0.3985\n",
            "Epoch 9/100\n",
            "297/297 - 0s - 2ms/step - accuracy: 0.8403 - loss: 0.3869 - val_accuracy: 0.8434 - val_loss: 0.3790\n",
            "Epoch 10/100\n",
            "297/297 - 0s - 2ms/step - accuracy: 0.8484 - loss: 0.3689 - val_accuracy: 0.8506 - val_loss: 0.3655\n",
            "Epoch 11/100\n",
            "297/297 - 0s - 2ms/step - accuracy: 0.8584 - loss: 0.3475 - val_accuracy: 0.8629 - val_loss: 0.3454\n",
            "Epoch 12/100\n",
            "297/297 - 0s - 2ms/step - accuracy: 0.8714 - loss: 0.3197 - val_accuracy: 0.8733 - val_loss: 0.3123\n",
            "Epoch 13/100\n",
            "297/297 - 0s - 2ms/step - accuracy: 0.8831 - loss: 0.2967 - val_accuracy: 0.8863 - val_loss: 0.2934\n",
            "Epoch 14/100\n",
            "297/297 - 0s - 2ms/step - accuracy: 0.8936 - loss: 0.2783 - val_accuracy: 0.8976 - val_loss: 0.2820\n",
            "Epoch 15/100\n",
            "297/297 - 0s - 2ms/step - accuracy: 0.9024 - loss: 0.2670 - val_accuracy: 0.9068 - val_loss: 0.2743\n",
            "Epoch 16/100\n",
            "297/297 - 0s - 2ms/step - accuracy: 0.9084 - loss: 0.2608 - val_accuracy: 0.9098 - val_loss: 0.2692\n",
            "Epoch 17/100\n",
            "297/297 - 0s - 2ms/step - accuracy: 0.9135 - loss: 0.2546 - val_accuracy: 0.9136 - val_loss: 0.2634\n",
            "Epoch 18/100\n",
            "297/297 - 0s - 2ms/step - accuracy: 0.9160 - loss: 0.2513 - val_accuracy: 0.9164 - val_loss: 0.2603\n",
            "Epoch 19/100\n",
            "297/297 - 0s - 2ms/step - accuracy: 0.9178 - loss: 0.2487 - val_accuracy: 0.9178 - val_loss: 0.2582\n",
            "Epoch 20/100\n",
            "297/297 - 0s - 2ms/step - accuracy: 0.9189 - loss: 0.2466 - val_accuracy: 0.9188 - val_loss: 0.2563\n",
            "Epoch 21/100\n",
            "297/297 - 0s - 2ms/step - accuracy: 0.9198 - loss: 0.2449 - val_accuracy: 0.9122 - val_loss: 0.2643\n",
            "Epoch 22/100\n",
            "297/297 - 0s - 2ms/step - accuracy: 0.9198 - loss: 0.2436 - val_accuracy: 0.9198 - val_loss: 0.2546\n",
            "Epoch 23/100\n",
            "297/297 - 0s - 2ms/step - accuracy: 0.9207 - loss: 0.2426 - val_accuracy: 0.9209 - val_loss: 0.2533\n",
            "Epoch 24/100\n",
            "297/297 - 0s - 2ms/step - accuracy: 0.9215 - loss: 0.2415 - val_accuracy: 0.9212 - val_loss: 0.2524\n",
            "Epoch 25/100\n",
            "297/297 - 0s - 2ms/step - accuracy: 0.9221 - loss: 0.2410 - val_accuracy: 0.9226 - val_loss: 0.2509\n",
            "Epoch 26/100\n",
            "297/297 - 0s - 2ms/step - accuracy: 0.9224 - loss: 0.2401 - val_accuracy: 0.9230 - val_loss: 0.2508\n",
            "Epoch 27/100\n",
            "297/297 - 0s - 2ms/step - accuracy: 0.9228 - loss: 0.2395 - val_accuracy: 0.9236 - val_loss: 0.2486\n",
            "Epoch 28/100\n",
            "297/297 - 0s - 2ms/step - accuracy: 0.9234 - loss: 0.2391 - val_accuracy: 0.9242 - val_loss: 0.2513\n",
            "Epoch 29/100\n",
            "297/297 - 0s - 2ms/step - accuracy: 0.9239 - loss: 0.2390 - val_accuracy: 0.9245 - val_loss: 0.2474\n",
            "Epoch 30/100\n",
            "297/297 - 0s - 2ms/step - accuracy: 0.9242 - loss: 0.2384 - val_accuracy: 0.9245 - val_loss: 0.2499\n",
            "Epoch 31/100\n",
            "297/297 - 0s - 2ms/step - accuracy: 0.9246 - loss: 0.2384 - val_accuracy: 0.9256 - val_loss: 0.2500\n",
            "Epoch 32/100\n",
            "297/297 - 0s - 2ms/step - accuracy: 0.9252 - loss: 0.2384 - val_accuracy: 0.9258 - val_loss: 0.2490\n",
            "Epoch 33/100\n",
            "297/297 - 0s - 2ms/step - accuracy: 0.9256 - loss: 0.2377 - val_accuracy: 0.9259 - val_loss: 0.2489\n",
            "Epoch 34/100\n",
            "297/297 - 0s - 2ms/step - accuracy: 0.9260 - loss: 0.2372 - val_accuracy: 0.9239 - val_loss: 0.2467\n",
            "Epoch 35/100\n",
            "297/297 - 0s - 2ms/step - accuracy: 0.9262 - loss: 0.2364 - val_accuracy: 0.9264 - val_loss: 0.2476\n",
            "Epoch 36/100\n",
            "297/297 - 0s - 2ms/step - accuracy: 0.9260 - loss: 0.2373 - val_accuracy: 0.9263 - val_loss: 0.2459\n",
            "Epoch 37/100\n",
            "297/297 - 0s - 2ms/step - accuracy: 0.9259 - loss: 0.2368 - val_accuracy: 0.9259 - val_loss: 0.2465\n",
            "Epoch 38/100\n",
            "297/297 - 0s - 2ms/step - accuracy: 0.9263 - loss: 0.2366 - val_accuracy: 0.9271 - val_loss: 0.2452\n",
            "Epoch 39/100\n",
            "297/297 - 0s - 2ms/step - accuracy: 0.9269 - loss: 0.2359 - val_accuracy: 0.9272 - val_loss: 0.2447\n",
            "Epoch 40/100\n",
            "297/297 - 1s - 2ms/step - accuracy: 0.9266 - loss: 0.2361 - val_accuracy: 0.9276 - val_loss: 0.2420\n",
            "Epoch 41/100\n",
            "297/297 - 0s - 2ms/step - accuracy: 0.9268 - loss: 0.2354 - val_accuracy: 0.9271 - val_loss: 0.2446\n",
            "Epoch 42/100\n",
            "297/297 - 0s - 2ms/step - accuracy: 0.9264 - loss: 0.2361 - val_accuracy: 0.9165 - val_loss: 0.2514\n",
            "Epoch 43/100\n",
            "297/297 - 0s - 2ms/step - accuracy: 0.9268 - loss: 0.2350 - val_accuracy: 0.9268 - val_loss: 0.2439\n",
            "Epoch 44/100\n",
            "297/297 - 0s - 2ms/step - accuracy: 0.9270 - loss: 0.2365 - val_accuracy: 0.9275 - val_loss: 0.2436\n",
            "Epoch 45/100\n",
            "297/297 - 0s - 2ms/step - accuracy: 0.9270 - loss: 0.2352 - val_accuracy: 0.9271 - val_loss: 0.2434\n",
            "Epoch 46/100\n",
            "297/297 - 0s - 2ms/step - accuracy: 0.9275 - loss: 0.2347 - val_accuracy: 0.9113 - val_loss: 0.2586\n",
            "Epoch 47/100\n",
            "297/297 - 0s - 2ms/step - accuracy: 0.9268 - loss: 0.2349 - val_accuracy: 0.9288 - val_loss: 0.2428\n",
            "Epoch 48/100\n",
            "297/297 - 1s - 2ms/step - accuracy: 0.9274 - loss: 0.2346 - val_accuracy: 0.9258 - val_loss: 0.2454\n",
            "Epoch 49/100\n",
            "297/297 - 0s - 2ms/step - accuracy: 0.9279 - loss: 0.2346 - val_accuracy: 0.9273 - val_loss: 0.2427\n",
            "Epoch 50/100\n",
            "297/297 - 0s - 2ms/step - accuracy: 0.9275 - loss: 0.2337 - val_accuracy: 0.9279 - val_loss: 0.2425\n",
            "Epoch 51/100\n",
            "297/297 - 0s - 2ms/step - accuracy: 0.9278 - loss: 0.2348 - val_accuracy: 0.9275 - val_loss: 0.2424\n",
            "Epoch 52/100\n",
            "297/297 - 0s - 2ms/step - accuracy: 0.9272 - loss: 0.2342 - val_accuracy: 0.9275 - val_loss: 0.2424\n",
            "Epoch 53/100\n",
            "297/297 - 0s - 2ms/step - accuracy: 0.9260 - loss: 0.2353 - val_accuracy: 0.9285 - val_loss: 0.2391\n",
            "Epoch 54/100\n",
            "297/297 - 0s - 2ms/step - accuracy: 0.9276 - loss: 0.2341 - val_accuracy: 0.9238 - val_loss: 0.2417\n",
            "Epoch 55/100\n",
            "297/297 - 0s - 2ms/step - accuracy: 0.9279 - loss: 0.2331 - val_accuracy: 0.9282 - val_loss: 0.2419\n",
            "Epoch 56/100\n",
            "297/297 - 0s - 2ms/step - accuracy: 0.9278 - loss: 0.2336 - val_accuracy: 0.9280 - val_loss: 0.2419\n",
            "Epoch 57/100\n",
            "297/297 - 0s - 2ms/step - accuracy: 0.9275 - loss: 0.2333 - val_accuracy: 0.9283 - val_loss: 0.2417\n",
            "Epoch 58/100\n",
            "297/297 - 0s - 2ms/step - accuracy: 0.9278 - loss: 0.2332 - val_accuracy: 0.9286 - val_loss: 0.2418\n",
            "Epoch 59/100\n",
            "297/297 - 0s - 2ms/step - accuracy: 0.9280 - loss: 0.2335 - val_accuracy: 0.9287 - val_loss: 0.2416\n",
            "Epoch 60/100\n",
            "297/297 - 0s - 2ms/step - accuracy: 0.9261 - loss: 0.2347 - val_accuracy: 0.9296 - val_loss: 0.2384\n",
            "Epoch 61/100\n",
            "297/297 - 0s - 2ms/step - accuracy: 0.9271 - loss: 0.2338 - val_accuracy: 0.9296 - val_loss: 0.2412\n",
            "Epoch 62/100\n",
            "297/297 - 0s - 2ms/step - accuracy: 0.9284 - loss: 0.2329 - val_accuracy: 0.9296 - val_loss: 0.2384\n",
            "Epoch 63/100\n",
            "297/297 - 0s - 2ms/step - accuracy: 0.9283 - loss: 0.2336 - val_accuracy: 0.9292 - val_loss: 0.2414\n",
            "Epoch 64/100\n",
            "297/297 - 0s - 2ms/step - accuracy: 0.9285 - loss: 0.2331 - val_accuracy: 0.9291 - val_loss: 0.2412\n",
            "Epoch 65/100\n",
            "297/297 - 0s - 2ms/step - accuracy: 0.9282 - loss: 0.2324 - val_accuracy: 0.9290 - val_loss: 0.2410\n",
            "Epoch 66/100\n",
            "297/297 - 0s - 2ms/step - accuracy: 0.9285 - loss: 0.2330 - val_accuracy: 0.9300 - val_loss: 0.2390\n",
            "Epoch 67/100\n",
            "297/297 - 0s - 2ms/step - accuracy: 0.9289 - loss: 0.2330 - val_accuracy: 0.9288 - val_loss: 0.2379\n",
            "Epoch 68/100\n",
            "297/297 - 0s - 2ms/step - accuracy: 0.9288 - loss: 0.2323 - val_accuracy: 0.9188 - val_loss: 0.2439\n",
            "Epoch 69/100\n",
            "297/297 - 0s - 2ms/step - accuracy: 0.9282 - loss: 0.2323 - val_accuracy: 0.9243 - val_loss: 0.2409\n",
            "Epoch 70/100\n",
            "297/297 - 0s - 2ms/step - accuracy: 0.9291 - loss: 0.2324 - val_accuracy: 0.9257 - val_loss: 0.2393\n",
            "Epoch 71/100\n",
            "297/297 - 0s - 2ms/step - accuracy: 0.9292 - loss: 0.2318 - val_accuracy: 0.9297 - val_loss: 0.2391\n",
            "Epoch 72/100\n",
            "297/297 - 0s - 2ms/step - accuracy: 0.9287 - loss: 0.2323 - val_accuracy: 0.9260 - val_loss: 0.2395\n",
            "Epoch 73/100\n",
            "297/297 - 0s - 2ms/step - accuracy: 0.9291 - loss: 0.2319 - val_accuracy: 0.9298 - val_loss: 0.2373\n",
            "Epoch 74/100\n",
            "297/297 - 0s - 2ms/step - accuracy: 0.9296 - loss: 0.2317 - val_accuracy: 0.9305 - val_loss: 0.2400\n",
            "Epoch 75/100\n",
            "297/297 - 0s - 2ms/step - accuracy: 0.9292 - loss: 0.2320 - val_accuracy: 0.9276 - val_loss: 0.2405\n",
            "Epoch 76/100\n",
            "297/297 - 0s - 2ms/step - accuracy: 0.9294 - loss: 0.2314 - val_accuracy: 0.9303 - val_loss: 0.2396\n",
            "Epoch 77/100\n",
            "297/297 - 0s - 2ms/step - accuracy: 0.9293 - loss: 0.2320 - val_accuracy: 0.9299 - val_loss: 0.2356\n",
            "Epoch 78/100\n",
            "297/297 - 0s - 2ms/step - accuracy: 0.9288 - loss: 0.2313 - val_accuracy: 0.9306 - val_loss: 0.2359\n",
            "Epoch 79/100\n",
            "297/297 - 0s - 2ms/step - accuracy: 0.9293 - loss: 0.2315 - val_accuracy: 0.9303 - val_loss: 0.2360\n",
            "Epoch 80/100\n",
            "297/297 - 0s - 2ms/step - accuracy: 0.9291 - loss: 0.2335 - val_accuracy: 0.9308 - val_loss: 0.2358\n",
            "Epoch 81/100\n",
            "297/297 - 0s - 2ms/step - accuracy: 0.9301 - loss: 0.2303 - val_accuracy: 0.9307 - val_loss: 0.2354\n",
            "Epoch 82/100\n",
            "297/297 - 0s - 2ms/step - accuracy: 0.9303 - loss: 0.2304 - val_accuracy: 0.9283 - val_loss: 0.2368\n",
            "Epoch 83/100\n",
            "297/297 - 0s - 2ms/step - accuracy: 0.9299 - loss: 0.2311 - val_accuracy: 0.9296 - val_loss: 0.2362\n",
            "Epoch 84/100\n",
            "297/297 - 0s - 2ms/step - accuracy: 0.9297 - loss: 0.2320 - val_accuracy: 0.9310 - val_loss: 0.2345\n",
            "Epoch 85/100\n",
            "297/297 - 0s - 2ms/step - accuracy: 0.9302 - loss: 0.2305 - val_accuracy: 0.9305 - val_loss: 0.2349\n",
            "Epoch 86/100\n",
            "297/297 - 0s - 2ms/step - accuracy: 0.9306 - loss: 0.2309 - val_accuracy: 0.9308 - val_loss: 0.2384\n",
            "Epoch 87/100\n",
            "297/297 - 0s - 2ms/step - accuracy: 0.9303 - loss: 0.2308 - val_accuracy: 0.9302 - val_loss: 0.2397\n",
            "Epoch 88/100\n",
            "297/297 - 0s - 2ms/step - accuracy: 0.9300 - loss: 0.2302 - val_accuracy: 0.9308 - val_loss: 0.2348\n",
            "Epoch 89/100\n",
            "297/297 - 0s - 2ms/step - accuracy: 0.9300 - loss: 0.2310 - val_accuracy: 0.9310 - val_loss: 0.2380\n",
            "Epoch 90/100\n",
            "297/297 - 0s - 2ms/step - accuracy: 0.9306 - loss: 0.2307 - val_accuracy: 0.9312 - val_loss: 0.2354\n",
            "Epoch 91/100\n",
            "297/297 - 0s - 2ms/step - accuracy: 0.9308 - loss: 0.2304 - val_accuracy: 0.9319 - val_loss: 0.2339\n",
            "Epoch 92/100\n",
            "297/297 - 0s - 2ms/step - accuracy: 0.9310 - loss: 0.2297 - val_accuracy: 0.9309 - val_loss: 0.2343\n",
            "Epoch 93/100\n",
            "297/297 - 0s - 2ms/step - accuracy: 0.9309 - loss: 0.2304 - val_accuracy: 0.9308 - val_loss: 0.2344\n",
            "Epoch 94/100\n",
            "297/297 - 1s - 2ms/step - accuracy: 0.9312 - loss: 0.2292 - val_accuracy: 0.9317 - val_loss: 0.2340\n",
            "Epoch 95/100\n",
            "297/297 - 1s - 2ms/step - accuracy: 0.9313 - loss: 0.2287 - val_accuracy: 0.9293 - val_loss: 0.2366\n",
            "Epoch 96/100\n",
            "297/297 - 0s - 2ms/step - accuracy: 0.9323 - loss: 0.2292 - val_accuracy: 0.9322 - val_loss: 0.2331\n",
            "Epoch 97/100\n",
            "297/297 - 1s - 2ms/step - accuracy: 0.9319 - loss: 0.2287 - val_accuracy: 0.9315 - val_loss: 0.2337\n",
            "Epoch 98/100\n",
            "297/297 - 0s - 2ms/step - accuracy: 0.9323 - loss: 0.2292 - val_accuracy: 0.9328 - val_loss: 0.2329\n",
            "Epoch 99/100\n",
            "297/297 - 1s - 2ms/step - accuracy: 0.9325 - loss: 0.2287 - val_accuracy: 0.9317 - val_loss: 0.2340\n",
            "Epoch 100/100\n",
            "297/297 - 1s - 2ms/step - accuracy: 0.9323 - loss: 0.2303 - val_accuracy: 0.9321 - val_loss: 0.2339\n"
          ]
        }
      ],
      "source": [
        "history = model.fit(X, Y, epochs=100, verbose=2, validation_split=0.05)"
      ]
    },
    {
      "cell_type": "code",
      "execution_count": 43,
      "metadata": {
        "colab": {
          "base_uri": "https://localhost:8080/",
          "height": 484
        },
        "id": "R2exjxsynNdb",
        "outputId": "e8bd83bb-d172-4cda-a45b-db102c45b9b6"
      },
      "outputs": [
        {
          "data": {
            "text/plain": [
              "<matplotlib.legend.Legend at 0x2998c5fc0>"
            ]
          },
          "execution_count": 43,
          "metadata": {},
          "output_type": "execute_result"
        },
        {
          "data": {
            "image/png": "[encoded data removed]",
            "text/plain": [
              "<Figure size 1200x400 with 2 Axes>"
            ]
          },
          "metadata": {},
          "output_type": "display_data"
        }
      ],
      "source": [
        "# plot the development of the accuracy and loss during training\n",
        "plt.figure(figsize=(12,4))\n",
        "plt.subplot(1,2,(1))\n",
        "plt.plot(history.history['accuracy'],linestyle='-.')\n",
        "plt.plot(history.history['val_accuracy'])\n",
        "plt.title('model accuracy')\n",
        "plt.ylabel('accuracy')\n",
        "plt.xlabel('epoch')\n",
        "plt.legend(['train', 'valid'], loc='lower right')\n",
        "plt.subplot(1,2,(2))\n",
        "plt.plot(history.history['loss'],linestyle='-.')\n",
        "plt.plot(history.history['val_loss'])\n",
        "plt.title('model loss')\n",
        "plt.ylabel('loss')\n",
        "plt.xlabel('epoch')\n",
        "plt.legend(['train', 'valid'], loc='upper right')"
      ]
    },
    {
      "cell_type": "code",
      "execution_count": 44,
      "metadata": {
        "id": "wRD9uGUmnNdc"
      },
      "outputs": [
        {
          "data": {
            "text/plain": [
              "[0.23923437297344208, 0.9351750016212463]"
            ]
          },
          "execution_count": 44,
          "metadata": {},
          "output_type": "execute_result"
        }
      ],
      "source": [
        "# We use the training, since we did use only a random subset of the data\n",
        "X, Y = data_matrix(X_train, Y_train, size=1000, num_steps=num_steps)\n",
        "model.evaluate(X,Y, verbose=0)"
      ]
    },
    {
      "cell_type": "code",
      "execution_count": 45,
      "metadata": {
        "id": "tjCCeYc3nNdc"
      },
      "outputs": [
        {
          "data": {
            "text/plain": [
              "[array([[-0.8468584 ,  0.23309182,  0.25325173,  0.28533852],\n",
              "        [ 0.17670046, -0.19301051,  0.26833636,  0.34520915],\n",
              "        [-0.4420239 ,  0.36240602, -0.07733704,  0.36794186]],\n",
              "       dtype=float32),\n",
              " array([[ 0.26642746,  0.00298711, -0.1875347 ,  0.89632004],\n",
              "        [ 0.27788785,  0.31175807,  0.33123088, -1.1528157 ],\n",
              "        [-0.6951235 , -0.29799044,  0.7358814 ,  0.10866537],\n",
              "        [-0.08859909, -0.14595848, -0.96387583, -0.39711943]],\n",
              "       dtype=float32),\n",
              " array([ 0.01230585, -0.21024525, -0.19797523,  0.11608056], dtype=float32)]"
            ]
          },
          "execution_count": 45,
          "metadata": {},
          "output_type": "execute_result"
        }
      ],
      "source": [
        "rnn.get_weights()"
      ]
    },
    {
      "cell_type": "markdown",
      "metadata": {
        "id": "uKm3zOWpnNdc"
      },
      "source": [
        "## Stacking"
      ]
    },
    {
      "cell_type": "code",
      "execution_count": 50,
      "metadata": {
        "id": "VW7IWDQanNdc"
      },
      "outputs": [
        {
          "data": {
            "text/html": [
              "<pre style=\"white-space:pre;overflow-x:auto;line-height:normal;font-family:Menlo,'DejaVu Sans Mono',consolas,'Courier New',monospace\"><span style=\"font-weight: bold\">Model: \"sequential_6\"</span>\n",
              "</pre>\n"
            ],
            "text/plain": [
              "\u001b[1mModel: \"sequential_6\"\u001b[0m\n"
            ]
          },
          "metadata": {},
          "output_type": "display_data"
        },
        {
          "data": {
            "text/html": [
              "<pre style=\"white-space:pre;overflow-x:auto;line-height:normal;font-family:Menlo,'DejaVu Sans Mono',consolas,'Courier New',monospace\">┏━━━━━━━━━━━━━━━━━━━━━━━━━━━━━━━━━┳━━━━━━━━━━━━━━━━━━━━━━━━━━━┳━━━━━━━━━━━━┓\n",
              "┃<span style=\"font-weight: bold\"> Layer (type)                    </span>┃<span style=\"font-weight: bold\"> Output Shape              </span>┃<span style=\"font-weight: bold\">    Param # </span>┃\n",
              "┡━━━━━━━━━━━━━━━━━━━━━━━━━━━━━━━━━╇━━━━━━━━━━━━━━━━━━━━━━━━━━━╇━━━━━━━━━━━━┩\n",
              "│ gru_4 (<span style=\"color: #0087ff; text-decoration-color: #0087ff\">GRU</span>)                     │ (<span style=\"color: #00d7ff; text-decoration-color: #00d7ff\">None</span>, <span style=\"color: #00af00; text-decoration-color: #00af00\">40</span>, <span style=\"color: #00af00; text-decoration-color: #00af00\">4</span>)             │        <span style=\"color: #00af00; text-decoration-color: #00af00\">108</span> │\n",
              "├─────────────────────────────────┼───────────────────────────┼────────────┤\n",
              "│ lstm_8 (<span style=\"color: #0087ff; text-decoration-color: #0087ff\">LSTM</span>)                   │ (<span style=\"color: #00d7ff; text-decoration-color: #00d7ff\">None</span>, <span style=\"color: #00af00; text-decoration-color: #00af00\">40</span>, <span style=\"color: #00af00; text-decoration-color: #00af00\">4</span>)             │        <span style=\"color: #00af00; text-decoration-color: #00af00\">144</span> │\n",
              "├─────────────────────────────────┼───────────────────────────┼────────────┤\n",
              "│ lstm_9 (<span style=\"color: #0087ff; text-decoration-color: #0087ff\">LSTM</span>)                   │ (<span style=\"color: #00d7ff; text-decoration-color: #00d7ff\">None</span>, <span style=\"color: #00af00; text-decoration-color: #00af00\">40</span>, <span style=\"color: #00af00; text-decoration-color: #00af00\">4</span>)             │        <span style=\"color: #00af00; text-decoration-color: #00af00\">144</span> │\n",
              "├─────────────────────────────────┼───────────────────────────┼────────────┤\n",
              "│ lstm_10 (<span style=\"color: #0087ff; text-decoration-color: #0087ff\">LSTM</span>)                  │ (<span style=\"color: #00d7ff; text-decoration-color: #00d7ff\">None</span>, <span style=\"color: #00af00; text-decoration-color: #00af00\">40</span>, <span style=\"color: #00af00; text-decoration-color: #00af00\">4</span>)             │        <span style=\"color: #00af00; text-decoration-color: #00af00\">144</span> │\n",
              "├─────────────────────────────────┼───────────────────────────┼────────────┤\n",
              "│ dense_6 (<span style=\"color: #0087ff; text-decoration-color: #0087ff\">Dense</span>)                 │ (<span style=\"color: #00d7ff; text-decoration-color: #00d7ff\">None</span>, <span style=\"color: #00af00; text-decoration-color: #00af00\">40</span>, <span style=\"color: #00af00; text-decoration-color: #00af00\">2</span>)             │         <span style=\"color: #00af00; text-decoration-color: #00af00\">10</span> │\n",
              "└─────────────────────────────────┴───────────────────────────┴────────────┘\n",
              "</pre>\n"
            ],
            "text/plain": [
              "┏━━━━━━━━━━━━━━━━━━━━━━━━━━━━━━━━━┳━━━━━━━━━━━━━━━━━━━━━━━━━━━┳━━━━━━━━━━━━┓\n",
              "┃\u001b[1m \u001b[0m\u001b[1mLayer (type)                   \u001b[0m\u001b[1m \u001b[0m┃\u001b[1m \u001b[0m\u001b[1mOutput Shape             \u001b[0m\u001b[1m \u001b[0m┃\u001b[1m \u001b[0m\u001b[1m   Param #\u001b[0m\u001b[1m \u001b[0m┃\n",
              "┡━━━━━━━━━━━━━━━━━━━━━━━━━━━━━━━━━╇━━━━━━━━━━━━━━━━━━━━━━━━━━━╇━━━━━━━━━━━━┩\n",
              "│ gru_4 (\u001b[38;5;33mGRU\u001b[0m)                     │ (\u001b[38;5;45mNone\u001b[0m, \u001b[38;5;34m40\u001b[0m, \u001b[38;5;34m4\u001b[0m)             │        \u001b[38;5;34m108\u001b[0m │\n",
              "├─────────────────────────────────┼───────────────────────────┼────────────┤\n",
              "│ lstm_8 (\u001b[38;5;33mLSTM\u001b[0m)                   │ (\u001b[38;5;45mNone\u001b[0m, \u001b[38;5;34m40\u001b[0m, \u001b[38;5;34m4\u001b[0m)             │        \u001b[38;5;34m144\u001b[0m │\n",
              "├─────────────────────────────────┼───────────────────────────┼────────────┤\n",
              "│ lstm_9 (\u001b[38;5;33mLSTM\u001b[0m)                   │ (\u001b[38;5;45mNone\u001b[0m, \u001b[38;5;34m40\u001b[0m, \u001b[38;5;34m4\u001b[0m)             │        \u001b[38;5;34m144\u001b[0m │\n",
              "├─────────────────────────────────┼───────────────────────────┼────────────┤\n",
              "│ lstm_10 (\u001b[38;5;33mLSTM\u001b[0m)                  │ (\u001b[38;5;45mNone\u001b[0m, \u001b[38;5;34m40\u001b[0m, \u001b[38;5;34m4\u001b[0m)             │        \u001b[38;5;34m144\u001b[0m │\n",
              "├─────────────────────────────────┼───────────────────────────┼────────────┤\n",
              "│ dense_6 (\u001b[38;5;33mDense\u001b[0m)                 │ (\u001b[38;5;45mNone\u001b[0m, \u001b[38;5;34m40\u001b[0m, \u001b[38;5;34m2\u001b[0m)             │         \u001b[38;5;34m10\u001b[0m │\n",
              "└─────────────────────────────────┴───────────────────────────┴────────────┘\n"
            ]
          },
          "metadata": {},
          "output_type": "display_data"
        },
        {
          "data": {
            "text/html": [
              "<pre style=\"white-space:pre;overflow-x:auto;line-height:normal;font-family:Menlo,'DejaVu Sans Mono',consolas,'Courier New',monospace\"><span style=\"font-weight: bold\"> Total params: </span><span style=\"color: #00af00; text-decoration-color: #00af00\">550</span> (2.15 KB)\n",
              "</pre>\n"
            ],
            "text/plain": [
              "\u001b[1m Total params: \u001b[0m\u001b[38;5;34m550\u001b[0m (2.15 KB)\n"
            ]
          },
          "metadata": {},
          "output_type": "display_data"
        },
        {
          "data": {
            "text/html": [
              "<pre style=\"white-space:pre;overflow-x:auto;line-height:normal;font-family:Menlo,'DejaVu Sans Mono',consolas,'Courier New',monospace\"><span style=\"font-weight: bold\"> Trainable params: </span><span style=\"color: #00af00; text-decoration-color: #00af00\">550</span> (2.15 KB)\n",
              "</pre>\n"
            ],
            "text/plain": [
              "\u001b[1m Trainable params: \u001b[0m\u001b[38;5;34m550\u001b[0m (2.15 KB)\n"
            ]
          },
          "metadata": {},
          "output_type": "display_data"
        },
        {
          "data": {
            "text/html": [
              "<pre style=\"white-space:pre;overflow-x:auto;line-height:normal;font-family:Menlo,'DejaVu Sans Mono',consolas,'Courier New',monospace\"><span style=\"font-weight: bold\"> Non-trainable params: </span><span style=\"color: #00af00; text-decoration-color: #00af00\">0</span> (0.00 B)\n",
              "</pre>\n"
            ],
            "text/plain": [
              "\u001b[1m Non-trainable params: \u001b[0m\u001b[38;5;34m0\u001b[0m (0.00 B)\n"
            ]
          },
          "metadata": {},
          "output_type": "display_data"
        }
      ],
      "source": [
        "model = keras.models.Sequential()\n",
        "model.add(keras.layers.GRU(state_size, return_sequences=True, input_shape=(num_steps, 3)))\n",
        "model.add(keras.layers.LSTM(state_size, return_sequences=True)) \n",
        "model.add(keras.layers.LSTM(state_size, return_sequences=True))  #State Size could be different\n",
        "model.add(keras.layers.LSTM(state_size, return_sequences=True)) \n",
        "#model.input_shape --> (None, 40, 3)\n",
        "#model.output_shape --> (None, 40, 4) \n",
        "\n",
        "model.add(keras.layers.Dense(2))\n",
        "model.compile(loss='binary_crossentropy', optimizer='rmsprop', metrics=['accuracy'])\n",
        "model.summary()"
      ]
    },
    {
      "cell_type": "code",
      "execution_count": null,
      "metadata": {},
      "outputs": [],
      "source": []
    }
  ],
  "metadata": {
    "colab": {
      "name": "simple_rnn.ipynb",
      "provenance": [],
      "toc_visible": true
    },
    "kernelspec": {
      "display_name": "Python 3",
      "language": "python",
      "name": "python3"
    },
    "language_info": {
      "codemirror_mode": {
        "name": "ipython",
        "version": 3
      },
      "file_extension": ".py",
      "mimetype": "text/x-python",
      "name": "python",
      "nbconvert_exporter": "python",
      "pygments_lexer": "ipython3",
      "version": "3.10.13"
    }
  },
  "nbformat": 4,
  "nbformat_minor": 0
}
