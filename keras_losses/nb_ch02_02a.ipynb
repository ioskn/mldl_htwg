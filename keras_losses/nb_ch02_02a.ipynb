{
  "cells": [
    {
      "cell_type": "markdown",
      "metadata": {
        "id": "tbTYFRhJoaBu"
      },
      "source": [
        "# MNIST digit classification with a fully connected network (fcNN)\n",
        "\n",
        "\n",
        "**Goal:** In this notebook you will see how to use a fully connected networks (fcNN) in an classification task for images.\n",
        "\n",
        "**Usage:** The idea of the notebook is that you try to understand the provided code by running it, checking the output and playing with it by slightly changing the code and rerunning it.\n",
        "\n",
        "**Dataset:** You work with the MNIST dataset. We have 60'000 28x28 pixel greyscale images of digits and want to classify them into the right label (0-9).\n",
        "\n",
        "**Content:**\n",
        "* load the MNIST data\n",
        "* transform the labels into the one hot encoding\n",
        "* visualize samples of the data\n",
        "* flatten the 2D images into a 1D vector\n",
        "* use keras to train a fcNN and look at the perfomance on new unseen test data\n",
        "* use different activation functions and more hidden layers\n",
        "\n",
        "| [open in colab](https://colab.research.google.com/github/tensorchiefs/dl_book/blob/master/chapter_02/nb_ch02_02a.ipynb)\n",
        "\n"
      ]
    },
    {
      "cell_type": "markdown",
      "metadata": {
        "id": "dpZJ7RaO4io_"
      },
      "source": [
        "#### Install correct TF version (colab only)"
      ]
    },
    {
      "cell_type": "markdown",
      "metadata": {
        "id": "PEIS4WvpsT5t"
      },
      "source": [
        "#### Imports\n",
        "\n",
        "In the next two cells, we load all the required libraries and functions."
      ]
    },
    {
      "cell_type": "code",
      "execution_count": 10,
      "metadata": {},
      "outputs": [
        {
          "name": "stdout",
          "output_type": "stream",
          "text": [
            "Requirement already satisfied: keras>=3 in /Users/oli/miniforge3/envs/mldl_htwg/lib/python3.10/site-packages (3.0.0)\n",
            "Requirement already satisfied: absl-py in /Users/oli/miniforge3/envs/mldl_htwg/lib/python3.10/site-packages (from keras>=3) (2.0.0)\n",
            "Requirement already satisfied: numpy in /Users/oli/miniforge3/envs/mldl_htwg/lib/python3.10/site-packages (from keras>=3) (1.26.0)\n",
            "Requirement already satisfied: rich in /Users/oli/miniforge3/envs/mldl_htwg/lib/python3.10/site-packages (from keras>=3) (13.7.0)\n",
            "Requirement already satisfied: namex in /Users/oli/miniforge3/envs/mldl_htwg/lib/python3.10/site-packages (from keras>=3) (0.0.7)\n",
            "Requirement already satisfied: h5py in /Users/oli/miniforge3/envs/mldl_htwg/lib/python3.10/site-packages (from keras>=3) (3.10.0)\n",
            "Requirement already satisfied: dm-tree in /Users/oli/miniforge3/envs/mldl_htwg/lib/python3.10/site-packages (from keras>=3) (0.1.8)\n",
            "Requirement already satisfied: markdown-it-py>=2.2.0 in /Users/oli/miniforge3/envs/mldl_htwg/lib/python3.10/site-packages (from rich->keras>=3) (3.0.0)\n",
            "Requirement already satisfied: pygments<3.0.0,>=2.13.0 in /Users/oli/miniforge3/envs/mldl_htwg/lib/python3.10/site-packages (from rich->keras>=3) (2.16.1)\n",
            "Requirement already satisfied: mdurl~=0.1 in /Users/oli/miniforge3/envs/mldl_htwg/lib/python3.10/site-packages (from markdown-it-py>=2.2.0->rich->keras>=3) (0.1.2)\n",
            "2.15.0\n"
          ]
        }
      ],
      "source": [
        "!pip install \"keras>=3\"\n",
        "import keras\n",
        "print(keras.__version__) #gives 2.15.0"
      ]
    },
    {
      "cell_type": "code",
      "execution_count": null,
      "metadata": {
        "id": "2sz4dJr01FGF"
      },
      "outputs": [],
      "source": [
        "try: #If running in colab\n",
        "    import google.colab\n",
        "    IN_COLAB = True\n",
        "    %tensorflow_version 2.x\n",
        "except:\n",
        "    IN_COLAB = False"
      ]
    },
    {
      "cell_type": "code",
      "execution_count": null,
      "metadata": {
        "colab": {
          "base_uri": "https://localhost:8080/",
          "height": 34
        },
        "id": "JjmQOOt-1FGL",
        "outputId": "f42a19cb-c100-481d-f936-a1d4bf9da7e8"
      },
      "outputs": [
        {
          "name": "stdout",
          "output_type": "stream",
          "text": [
            "Tensorflow version:  2.0.0  running in colab?:  False\n"
          ]
        }
      ],
      "source": [
        "import tensorflow as tf\n",
        "if (not tf.__version__.startswith('2')): #Checking if tf 2.0 is installed\n",
        "    print('Please install tensorflow 2.0 to run this notebook')\n",
        "print('Tensorflow version: ',tf.__version__, ' running in colab?: ', IN_COLAB)"
      ]
    },
    {
      "cell_type": "code",
      "execution_count": null,
      "metadata": {
        "id": "Y6S_hQX5oaBw",
        "scrolled": true
      },
      "outputs": [],
      "source": [
        "# load required libraries:\n",
        "import numpy as np\n",
        "import matplotlib.pyplot as plt\n",
        "%matplotlib inline\n",
        "plt.style.use('default')\n",
        "from sklearn.metrics import confusion_matrix\n",
        "\n",
        "import tensorflow.keras as keras\n",
        "from tensorflow.keras.models import Sequential\n",
        "from tensorflow.keras.layers import Dense, Convolution2D, MaxPooling2D, Flatten , Activation\n",
        "from tensorflow.keras.utils import to_categorical\n",
        "from tensorflow.keras import optimizers"
      ]
    },
    {
      "cell_type": "markdown",
      "metadata": {
        "id": "4h_3TS0CtJJb"
      },
      "source": [
        "#### Loading and preparing the MNIST data and transfering the labels into the one hot encoding\n",
        "\n",
        "Here we load the MNIST dataset form keras. The 8-bit greyscale images have values form 0 to 255, we divide all values with 255 so that the values are in a range between 0 and 1. In additon we transform the true labels, which are the numbers from 0 to 9 (the digit on the image) into the one hot encoding. We do this to make use of linear algebra in the calculation of the crossentropy loss.  \n",
        "  \n",
        "The one hot encoding transforms the labels into a vector with the same length as we have labels (in our case 10). The resulting vector in the one hot encodig is zero everywhere except for the position of the true label, there it is 1. Let's look at some examples to make it more clear:  \n",
        "\n",
        "0 becomes [1,0,0,0,0,0,0,0,0,0]  \n",
        "1 becomes [0,1,0,0,0,0,0,0,0,0]  \n",
        "2 becomes [0,0,1,0,0,0,0,0,0,0]  \n",
        "...  \n",
        "9 becomes [0,0,0,0,0,0,0,0,0,1]  "
      ]
    },
    {
      "cell_type": "markdown",
      "metadata": {
        "id": "AwZaqsqG1Lba"
      },
      "source": [
        "#### Listing 2.3 Loading the MNIST data\n"
      ]
    },
    {
      "cell_type": "code",
      "execution_count": null,
      "metadata": {
        "colab": {
          "base_uri": "https://localhost:8080/",
          "height": 153
        },
        "id": "4sZ8lqFfoaB2",
        "outputId": "1617996c-6da2-4e1c-a037-3cc04f6c1485"
      },
      "outputs": [
        {
          "name": "stdout",
          "output_type": "stream",
          "text": [
            "(50000, 28, 28, 1)\n",
            "(10000, 28, 28, 1)\n",
            "(10000, 28, 28, 1)\n",
            "(50000, 10)\n",
            "(10000, 10)\n",
            "(10000, 10)\n"
          ]
        }
      ],
      "source": [
        "from tensorflow.keras.datasets import mnist\n",
        "(x_train, y_train), (x_test, y_test) = mnist.load_data()\n",
        "\n",
        "# separate x_train in X_train and X_val, same for y_train\n",
        "X_train=x_train[0:50000] / 255 #divide by 255 so that they are in range 0 to 1\n",
        "Y_train=keras.utils.to_categorical(y_train[0:50000],10) # one-hot encoding\n",
        "\n",
        "X_val=x_train[50000:60000] / 255\n",
        "Y_val=keras.utils.to_categorical(y_train[50000:60000],10)\n",
        "\n",
        "X_test=x_test / 255\n",
        "Y_test=keras.utils.to_categorical(y_test,10)\n",
        "\n",
        "del x_train, y_train, x_test, y_test\n",
        "\n",
        "X_train=np.reshape(X_train, (X_train.shape[0],28,28,1))\n",
        "X_val=np.reshape(X_val, (X_val.shape[0],28,28,1))\n",
        "X_test=np.reshape(X_test, (X_test.shape[0],28,28,1))\n",
        "\n",
        "print(X_train.shape)\n",
        "print(X_val.shape)\n",
        "print(X_test.shape)\n",
        "print(Y_train.shape)\n",
        "print(Y_val.shape)\n",
        "print(Y_test.shape)"
      ]
    },
    {
      "cell_type": "markdown",
      "metadata": {
        "id": "3ly7CrHtLUP9"
      },
      "source": [
        "Let's visualize the first 4 mnist images. It is very easy to recognise the true label of the digits."
      ]
    },
    {
      "cell_type": "code",
      "execution_count": null,
      "metadata": {
        "colab": {
          "base_uri": "https://localhost:8080/",
          "height": 285
        },
        "id": "c4gUgwGUeftF",
        "outputId": "5127a9ce-80b9-45ce-8620-4e5776bbd895"
      },
      "outputs": [
        {
          "data": {
            "image/png": "[encoded data removed]",
            "text/plain": [
              "<Figure size 864x864 with 4 Axes>"
            ]
          },
          "metadata": {
            "needs_background": "light"
          },
          "output_type": "display_data"
        }
      ],
      "source": [
        "# visualize the 4 first mnist images before shuffling the pixels\n",
        "plt.figure(figsize=(12,12))\n",
        "for i in range(0,4):\n",
        "    plt.subplot(1,4,(i+1))\n",
        "    plt.imshow((X_train[i,:,:,0]),cmap=\"gray\")\n",
        "    plt.title('true label: '+np.str(np.argmax(Y_train,axis=1)[i]))\n",
        "    #plt.axis('off')"
      ]
    },
    {
      "cell_type": "markdown",
      "metadata": {
        "id": "trSndjWX4HO7"
      },
      "source": [
        "## fcNN as classification model for MNIST data\n",
        "Now we want to train a fcNN to classify the MNIST data.\n",
        "* we use a fcNN with 2 hidden layers and use the sigmoid activation function\n",
        "* train it on train data and check the performance on the test data"
      ]
    },
    {
      "cell_type": "markdown",
      "metadata": {
        "id": "LB_m8HJaOMsY"
      },
      "source": [
        "\n",
        "#### Flatten the the images into vectors\n",
        "\n",
        "Because we will use fcNN our input cannot be matrices or tensors. We need to flatten our inuput into a 1d vector. We do this in the next cell with reshap and look at the resulting shape of the flattened data."
      ]
    },
    {
      "cell_type": "code",
      "execution_count": null,
      "metadata": {
        "colab": {
          "base_uri": "https://localhost:8080/",
          "height": 85
        },
        "id": "CoSUhNzRfbj4",
        "outputId": "1f88f5ba-8c4d-449d-a7df-0bde6d747fbf"
      },
      "outputs": [
        {
          "name": "stdout",
          "output_type": "stream",
          "text": [
            "(50000, 784)\n",
            "(50000, 10)\n",
            "(10000, 784)\n",
            "(10000, 10)\n"
          ]
        }
      ],
      "source": [
        "# prepare data for fcNN - we need a vector as input\n",
        "\n",
        "X_train_flat = X_train.reshape([X_train.shape[0], 784])\n",
        "X_val_flat = X_val.reshape([X_val.shape[0], 784])\n",
        "X_test_flat = X_test.reshape([X_test.shape[0], 784])\n",
        "\n",
        "# check the shape\n",
        "print(X_train_flat.shape)\n",
        "print(Y_train.shape)\n",
        "print(X_val_flat.shape)\n",
        "print(Y_val.shape)"
      ]
    },
    {
      "cell_type": "markdown",
      "metadata": {
        "id": "uOYYJFOh62qC"
      },
      "source": [
        "### Train the fcNN"
      ]
    },
    {
      "cell_type": "markdown",
      "metadata": {
        "id": "bulk0OpFOpeO"
      },
      "source": [
        "Here we define the nework, we use two hidden layers with 100 and 50 nodes. In the output we predict the probability for the 10 digits with the softmax actication function, in the hidden layers we use the sigmoid activation function and our loss is the categroical crossentropy loss."
      ]
    },
    {
      "cell_type": "markdown",
      "metadata": {
        "id": "l_eV6OGV1RaC"
      },
      "source": [
        "#### Listing 2.4 Definition of an fcNN  for the MNIST data\n"
      ]
    },
    {
      "cell_type": "code",
      "execution_count": null,
      "metadata": {
        "id": "EAispBe0oaCH"
      },
      "outputs": [],
      "source": [
        "# define fcNN with 2 hidden layers\n",
        "model = Sequential()\n",
        "\n",
        "model.add(Dense(100, batch_input_shape=(None, 784)))\n",
        "model.add(Activation('sigmoid'))\n",
        "model.add(Dense(50))\n",
        "model.add(Activation('sigmoid'))\n",
        "model.add(Dense(10))\n",
        "model.add(Activation('softmax'))\n",
        "\n",
        "# compile model and intitialize weights\n",
        "model.compile(loss='categorical_crossentropy',\n",
        "              optimizer='adam',\n",
        "              metrics=['accuracy'])"
      ]
    },
    {
      "cell_type": "code",
      "execution_count": null,
      "metadata": {
        "colab": {
          "base_uri": "https://localhost:8080/",
          "height": 357
        },
        "id": "7xfW6yzqoaCK",
        "outputId": "9269228e-0a5f-4245-c79b-6b3d6e6e3885"
      },
      "outputs": [
        {
          "name": "stdout",
          "output_type": "stream",
          "text": [
            "Model: \"sequential\"\n",
            "_________________________________________________________________\n",
            "Layer (type)                 Output Shape              Param #   \n",
            "=================================================================\n",
            "dense (Dense)                (None, 100)               78500     \n",
            "_________________________________________________________________\n",
            "activation (Activation)      (None, 100)               0         \n",
            "_________________________________________________________________\n",
            "dense_1 (Dense)              (None, 50)                5050      \n",
            "_________________________________________________________________\n",
            "activation_1 (Activation)    (None, 50)                0         \n",
            "_________________________________________________________________\n",
            "dense_2 (Dense)              (None, 10)                510       \n",
            "_________________________________________________________________\n",
            "activation_2 (Activation)    (None, 10)                0         \n",
            "=================================================================\n",
            "Total params: 84,060\n",
            "Trainable params: 84,060\n",
            "Non-trainable params: 0\n",
            "_________________________________________________________________\n"
          ]
        }
      ],
      "source": [
        "# summarize model along with number of model weights\n",
        "model.summary()"
      ]
    },
    {
      "cell_type": "code",
      "execution_count": null,
      "metadata": {
        "colab": {
          "base_uri": "https://localhost:8080/",
          "height": 374
        },
        "id": "mhvTpCtfoaCQ",
        "outputId": "45afbc77-c753-4d47-a0bb-e35cdc470e62"
      },
      "outputs": [
        {
          "name": "stdout",
          "output_type": "stream",
          "text": [
            "Train on 50000 samples, validate on 10000 samples\n",
            "Epoch 1/10\n",
            "50000/50000 - 2s - loss: 1.0284 - accuracy: 0.7669 - val_loss: 0.4042 - val_accuracy: 0.9065\n",
            "Epoch 2/10\n",
            "50000/50000 - 1s - loss: 0.3373 - accuracy: 0.9115 - val_loss: 0.2546 - val_accuracy: 0.9312\n",
            "Epoch 3/10\n",
            "50000/50000 - 1s - loss: 0.2428 - accuracy: 0.9320 - val_loss: 0.2057 - val_accuracy: 0.9410\n",
            "Epoch 4/10\n",
            "50000/50000 - 1s - loss: 0.1957 - accuracy: 0.9442 - val_loss: 0.1731 - val_accuracy: 0.9515\n",
            "Epoch 5/10\n",
            "50000/50000 - 1s - loss: 0.1644 - accuracy: 0.9535 - val_loss: 0.1533 - val_accuracy: 0.9560\n",
            "Epoch 6/10\n",
            "50000/50000 - 1s - loss: 0.1407 - accuracy: 0.9591 - val_loss: 0.1379 - val_accuracy: 0.9610\n",
            "Epoch 7/10\n",
            "50000/50000 - 1s - loss: 0.1215 - accuracy: 0.9654 - val_loss: 0.1273 - val_accuracy: 0.9633\n",
            "Epoch 8/10\n",
            "50000/50000 - 1s - loss: 0.1056 - accuracy: 0.9702 - val_loss: 0.1145 - val_accuracy: 0.9679\n",
            "Epoch 9/10\n",
            "50000/50000 - 1s - loss: 0.0923 - accuracy: 0.9743 - val_loss: 0.1080 - val_accuracy: 0.9684\n",
            "Epoch 10/10\n",
            "50000/50000 - 1s - loss: 0.0818 - accuracy: 0.9771 - val_loss: 0.1013 - val_accuracy: 0.9697\n"
          ]
        }
      ],
      "source": [
        "# train the model\n",
        "history=model.fit(X_train_flat, Y_train,\n",
        "                  batch_size=128,\n",
        "                  epochs=10,\n",
        "                  verbose=2,\n",
        "                  validation_data=(X_val_flat, Y_val)\n",
        "                 )"
      ]
    },
    {
      "cell_type": "markdown",
      "metadata": {
        "id": "HvOuOKc01bqS"
      },
      "source": [
        "In the next cell we plot the accuray and loss of the train and validation vs the number of train eprochs to see how the development"
      ]
    },
    {
      "cell_type": "code",
      "execution_count": null,
      "metadata": {
        "colab": {
          "base_uri": "https://localhost:8080/",
          "height": 427
        },
        "id": "t39HSiHcoaCT",
        "outputId": "90e35d4f-e8db-40c7-fd78-80149d2864b9"
      },
      "outputs": [
        {
          "data": {
            "text/plain": [
              "<matplotlib.legend.Legend at 0x7f6edc3a3908>"
            ]
          },
          "execution_count": 10,
          "metadata": {},
          "output_type": "execute_result"
        },
        {
          "data": {
            "image/png": "[encoded data removed]",
            "text/plain": [
              "<Figure size 864x288 with 2 Axes>"
            ]
          },
          "metadata": {
            "needs_background": "light"
          },
          "output_type": "display_data"
        }
      ],
      "source": [
        "# plot the development of the accuracy and loss during training\n",
        "plt.figure(figsize=(12,4))\n",
        "plt.subplot(1,2,(1))\n",
        "plt.plot(history.history['accuracy'],linestyle='-.')\n",
        "plt.plot(history.history['val_accuracy'])\n",
        "plt.title('model accuracy')\n",
        "plt.ylabel('accuracy')\n",
        "plt.xlabel('epoch')\n",
        "plt.legend(['train', 'valid'], loc='lower right')\n",
        "plt.subplot(1,2,(2))\n",
        "plt.plot(history.history['loss'],linestyle='-.')\n",
        "plt.plot(history.history['val_loss'])\n",
        "plt.title('model loss')\n",
        "plt.ylabel('loss')\n",
        "plt.xlabel('epoch')\n",
        "plt.legend(['train', 'valid'], loc='upper right')"
      ]
    },
    {
      "cell_type": "markdown",
      "metadata": {
        "id": "iCaoy8l4oaCW"
      },
      "source": [
        "#### Prediction on the original test set after training on original data\n",
        "\n",
        "Now, let's use the fcNN that was trained on the flattened MNIST data to predict new unseen data (our testdata).\n",
        "We determine the confusion matrix and the accuracy on the testdata to evaluate the classification performance.\n"
      ]
    },
    {
      "cell_type": "code",
      "execution_count": null,
      "metadata": {
        "colab": {
          "base_uri": "https://localhost:8080/",
          "height": 204
        },
        "id": "z1U4S7o5oaCY",
        "outputId": "a844c91b-bc54-475a-94f2-4e963d453967"
      },
      "outputs": [
        {
          "name": "stdout",
          "output_type": "stream",
          "text": [
            "[[ 966    0    1    2    0    5    3    1    1    1]\n",
            " [   0 1121    4    0    0    1    4    1    4    0]\n",
            " [   5    2 1000    3    3    2    2    6    9    0]\n",
            " [   0    1    7  972    0   10    0   10   10    0]\n",
            " [   1    0    3    1  950    1    5    3    2   16]\n",
            " [   2    1    0    7    3  867    5    1    5    1]\n",
            " [   7    2    1    0    3   12  929    0    4    0]\n",
            " [   2    7   11    6    1    0    0  993    0    8]\n",
            " [   3    1    5    8    3    5    5    6  936    2]\n",
            " [   5    5    1    7   15    9    0   10    6  951]]\n",
            "Acc_fc_orig_flat =  0.9685\n"
          ]
        }
      ],
      "source": [
        "pred=model.predict(X_test_flat)\n",
        "print(confusion_matrix(np.argmax(Y_test,axis=1),np.argmax(pred,axis=1)))\n",
        "acc_fc_orig = np.sum(np.argmax(Y_test,axis=1)==np.argmax(pred,axis=1))/len(pred)\n",
        "print(\"Acc_fc_orig_flat = \" , acc_fc_orig)"
      ]
    },
    {
      "cell_type": "markdown",
      "metadata": {
        "id": "9n6WX-ClgypT"
      },
      "source": [
        "\n",
        "####  *We get an accuray of around 97% on the test data!*"
      ]
    },
    {
      "cell_type": "markdown",
      "metadata": {
        "id": "Wv898fZgjb-Z"
      },
      "source": [
        "#### Play the deep learning game and stack more layers and change the activation function from sigmoid to relu\n",
        "<img src=\"https://raw.githubusercontent.com/tensorchiefs/dl_book/master/imgs/paper-pen.png\" width=\"60\" align=\"left\" />  \n",
        "*Exercise: Try to improve the fcNN by adding more hidden layers and/or changing the activation function from \"sigmoid\" to \"relu\". What do you observe? can you improve the performace on the testset?*\n",
        "\n"
      ]
    },
    {
      "cell_type": "code",
      "execution_count": null,
      "metadata": {
        "id": "cJWBu7Troo5i"
      },
      "outputs": [],
      "source": []
    }
  ],
  "metadata": {
    "accelerator": "GPU",
    "colab": {
      "name": "nb_ch02_02a.ipynb",
      "provenance": []
    },
    "kernelspec": {
      "display_name": "Python 3",
      "language": "python",
      "name": "python3"
    },
    "language_info": {
      "codemirror_mode": {
        "name": "ipython",
        "version": 3
      },
      "file_extension": ".py",
      "mimetype": "text/x-python",
      "name": "python",
      "nbconvert_exporter": "python",
      "pygments_lexer": "ipython3",
      "version": "3.10.13"
    }
  },
  "nbformat": 4,
  "nbformat_minor": 0
}
