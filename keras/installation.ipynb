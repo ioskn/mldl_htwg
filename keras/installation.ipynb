{
 "cells": [
  {
   "cell_type": "markdown",
   "metadata": {},
   "source": [
    "# Simple Demo installation using Keras with Pytorch or JAX\n",
    "\n",
    "See also https://keras.io/\n",
    "\n",
    "## Note TF 2.15 kill Keras\n",
    "When you install TF 2.15, it will kill Keras. You will need to install Keras again. However, I did not get TF running at all with Keras. So maybe best to not install TF at all.\n",
    "\n",
    "```\n",
    "pip install --upgrade keras\n",
    "```\n",
    "\n",
    "For my setup, I have installed PyTorch and JAX. \n",
    "\n",
    "## Installing JAX, TensorFlow and PyTorch\n",
    "\n",
    "I did:\n",
    "```\n",
    "pip3 install torch torchvision torchaudio\n",
    "pip install -U jax\n",
    "#pip install tensorflow\n",
    "```\n",
    "\n",
    "Further information for installation:\n",
    "\n",
    "* JAX: https://jax.readthedocs.io/en/latest/installation.html\n",
    "* PyTorch: https://pytorch.org/get-started/locally/"
   ]
  },
  {
   "cell_type": "code",
   "execution_count": 7,
   "metadata": {},
   "outputs": [],
   "source": [
    "import os\n",
    "os.environ[\"PYTORCH_ENABLE_MPS_FALLBACK\"] = \"1\" #Needed on MAC to avoid MPS error (22 Nov 2024)"
   ]
  },
  {
   "cell_type": "code",
   "execution_count": 8,
   "metadata": {},
   "outputs": [
    {
     "name": "stdout",
     "output_type": "stream",
     "text": [
      "0.4.26\n",
      "2.1.2\n"
     ]
    }
   ],
   "source": [
    "#import tensorflow as tf\n",
    "#print(tf.__version__) # If you have the version == 2.15 make sure to update or reinstall keras 3 afterwards since it overwrites the keras installation\n",
    "\n",
    "import jax \n",
    "print(jax.__version__)\n",
    "\n",
    "import torch\n",
    "print(torch.__version__)"
   ]
  },
  {
   "cell_type": "code",
   "execution_count": 9,
   "metadata": {},
   "outputs": [
    {
     "name": "stdout",
     "output_type": "stream",
     "text": [
      "3.6.0\n"
     ]
    }
   ],
   "source": [
    "import os\n",
    "#os.environ[\"KERAS_BACKEND\"] = \"jax\" # set backend before importing keras    JAX 15ms/epoch finishes in approx 0.5 seconds\n",
    "os.environ[\"KERAS_BACKEND\"] = \"torch\" # set backend before importing keras   Pytorch 354ms/epoch finishes in approx 10 seconds\n",
    "\n",
    "import keras\n",
    "print(keras.__version__)"
   ]
  },
  {
   "cell_type": "markdown",
   "metadata": {},
   "source": [
    "### Selecting the JAX backend"
   ]
  },
  {
   "cell_type": "code",
   "execution_count": 10,
   "metadata": {},
   "outputs": [
    {
     "name": "stdout",
     "output_type": "stream",
     "text": [
      "Aktuell verwendetes Backend: torch\n"
     ]
    }
   ],
   "source": [
    "import keras\n",
    "import keras.backend as K\n",
    "\n",
    "backend_name = K.backend()\n",
    "print(\"Aktuell verwendetes Backend:\", backend_name)"
   ]
  },
  {
   "cell_type": "code",
   "execution_count": null,
   "metadata": {},
   "outputs": [
    {
     "name": "stdout",
     "output_type": "stream",
     "text": [
      "\u001b[1m1/1\u001b[0m \u001b[32m━━━━━━━━━━━━━━━━━━━━\u001b[0m\u001b[37m\u001b[0m \u001b[1m0s\u001b[0m 2ms/step\n",
      "Prediction for input 5:  [[10.812233]]\n"
     ]
    }
   ],
   "source": [
    "\n",
    "from keras.models import Sequential\n",
    "from keras.layers import Dense\n",
    "import numpy as np\n",
    "\n",
    "# Creating some example data\n",
    "x_train = np.array([[1], [2], [3], [4]], dtype=float)\n",
    "y_train = 2 * x_train + 1 + np.random.randn(4, 1) * 0.1\n",
    "\n",
    "# Defining the model\n",
    "model = Sequential([\n",
    "    Dense(64, activation='relu', input_shape=(1,)),\n",
    "    Dense(1)\n",
    "])\n",
    "\n",
    "# Compiling the model\n",
    "model.compile(optimizer='adam', loss='mean_squared_error')\n",
    "\n",
    "\n",
    "# Training the model\n",
    "model.fit(x_train, y_train, epochs=500, verbose=0)\n",
    "\n",
    "# Making a prediction\n",
    "print(\"Prediction for input 5: \", model.predict(np.array([[5]])))\n"
   ]
  }
 ],
 "metadata": {
  "kernelspec": {
   "display_name": "mldl_htwg",
   "language": "python",
   "name": "python3"
  },
  "language_info": {
   "codemirror_mode": {
    "name": "ipython",
    "version": 3
   },
   "file_extension": ".py",
   "mimetype": "text/x-python",
   "name": "python",
   "nbconvert_exporter": "python",
   "pygments_lexer": "ipython3",
   "version": "3.10.13"
  }
 },
 "nbformat": 4,
 "nbformat_minor": 2
}
