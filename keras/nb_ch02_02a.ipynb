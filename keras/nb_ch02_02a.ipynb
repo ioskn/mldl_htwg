{
 "cells": [
  {
   "cell_type": "markdown",
   "metadata": {
    "id": "tbTYFRhJoaBu"
   },
   "source": [
    "# MNIST digit classification with a fully connected network (fcNN)\n",
    "\n",
    "\n",
    "**Goal:** In this notebook you will see how to use a fully connected networks (fcNN) in an classification task for images.\n",
    "\n",
    "**Usage:** The idea of the notebook is that you try to understand the provided code by running it, checking the output and playing with it by slightly changing the code and rerunning it.\n",
    "\n",
    "**Dataset:** You work with the MNIST dataset. We have 60'000 28x28 pixel greyscale images of digits and want to classify them into the right label (0-9).\n",
    "\n",
    "**Content:**\n",
    "* load the MNIST data\n",
    "* transform the labels into the one hot encoding\n",
    "* visualize samples of the data\n",
    "* flatten the 2D images into a 1D vector\n",
    "* use keras to train a fcNN and look at the perfomance on new unseen test data\n",
    "* use different activation functions and more hidden layers\n",
    "\n",
    "| [open in colab](https://colab.research.google.com/github/tensorchiefs/dl_book/blob/master/chapter_02/nb_ch02_02a.ipynb)\n",
    "\n"
   ]
  },
  {
   "cell_type": "markdown",
   "metadata": {
    "id": "dpZJ7RaO4io_"
   },
   "source": [
    "#### Install correct TF version (colab only)"
   ]
  },
  {
   "cell_type": "markdown",
   "metadata": {
    "id": "PEIS4WvpsT5t"
   },
   "source": [
    "#### Imports and Versions"
   ]
  },
  {
   "cell_type": "code",
   "execution_count": 1,
   "metadata": {},
   "outputs": [
    {
     "name": "stdout",
     "output_type": "stream",
     "text": [
      "0.4.26\n",
      "3.6.0\n"
     ]
    }
   ],
   "source": [
    "##### We use the JAX backend for Keras\n",
    "import jax \n",
    "print(jax.__version__)\n",
    "\n",
    "##### We set the KERAS_BACKEND environment variable to \"jax\"\n",
    "import os\n",
    "os.environ[\"KERAS_BACKEND\"] = \"jax\"\n",
    "\n",
    "##### We import Keras\n",
    "import keras\n",
    "print(keras.__version__)"
   ]
  },
  {
   "cell_type": "code",
   "execution_count": 2,
   "metadata": {
    "id": "Y6S_hQX5oaBw",
    "scrolled": true
   },
   "outputs": [],
   "source": [
    "# load required libraries:\n",
    "import numpy as np\n",
    "import matplotlib.pyplot as plt\n",
    "%matplotlib inline\n",
    "plt.style.use('default')\n",
    "from sklearn.metrics import confusion_matrix\n",
    "\n",
    "\n",
    "from keras.models import Sequential\n",
    "from keras.layers import Dense, Convolution2D, MaxPooling2D, Flatten , Activation\n",
    "from keras.utils import to_categorical\n",
    "from keras import optimizers"
   ]
  },
  {
   "cell_type": "markdown",
   "metadata": {
    "id": "4h_3TS0CtJJb"
   },
   "source": [
    "#### Loading and preparing the MNIST data and transfering the labels into the one hot encoding\n",
    "\n",
    "Here we load the MNIST dataset form keras. The 8-bit greyscale images have values form 0 to 255, we divide all values with 255 so that the values are in a range between 0 and 1. In additon we transform the true labels, which are the numbers from 0 to 9 (the digit on the image) into the one hot encoding. We do this to make use of linear algebra in the calculation of the crossentropy loss.  \n",
    "  \n",
    "The one hot encoding transforms the labels into a vector with the same length as we have labels (in our case 10). The resulting vector in the one hot encodig is zero everywhere except for the position of the true label, there it is 1. Let's look at some examples to make it more clear:  \n",
    "\n",
    "0 becomes [1,0,0,0,0,0,0,0,0,0]  \n",
    "1 becomes [0,1,0,0,0,0,0,0,0,0]  \n",
    "2 becomes [0,0,1,0,0,0,0,0,0,0]  \n",
    "...  \n",
    "9 becomes [0,0,0,0,0,0,0,0,0,1]  "
   ]
  },
  {
   "cell_type": "markdown",
   "metadata": {
    "id": "AwZaqsqG1Lba"
   },
   "source": [
    "#### Listing 2.3 Loading the MNIST data\n"
   ]
  },
  {
   "cell_type": "code",
   "execution_count": 3,
   "metadata": {
    "colab": {
     "base_uri": "https://localhost:8080/",
     "height": 153
    },
    "id": "4sZ8lqFfoaB2",
    "outputId": "1617996c-6da2-4e1c-a037-3cc04f6c1485"
   },
   "outputs": [
    {
     "name": "stdout",
     "output_type": "stream",
     "text": [
      "(50000, 28, 28, 1)\n",
      "(10000, 28, 28, 1)\n",
      "(10000, 28, 28, 1)\n",
      "(50000, 10)\n",
      "(10000, 10)\n",
      "(10000, 10)\n"
     ]
    }
   ],
   "source": [
    "from keras.datasets import mnist\n",
    "(x_train, y_train), (x_test, y_test) = mnist.load_data()\n",
    "\n",
    "# separate x_train in X_train and X_val, same for y_train\n",
    "X_train=x_train[0:50000] / 255 #divide by 255 so that they are in range 0 to 1\n",
    "Y_train=keras.utils.to_categorical(y_train[0:50000],10) # one-hot encoding\n",
    "\n",
    "X_val=x_train[50000:60000] / 255\n",
    "Y_val=keras.utils.to_categorical(y_train[50000:60000],10)\n",
    "\n",
    "X_test=x_test / 255\n",
    "Y_test=keras.utils.to_categorical(y_test,10)\n",
    "\n",
    "del x_train, y_train, x_test, y_test\n",
    "\n",
    "X_train=np.reshape(X_train, (X_train.shape[0],28,28,1))\n",
    "X_val=np.reshape(X_val, (X_val.shape[0],28,28,1))\n",
    "X_test=np.reshape(X_test, (X_test.shape[0],28,28,1))\n",
    "\n",
    "print(X_train.shape)\n",
    "print(X_val.shape)\n",
    "print(X_test.shape)\n",
    "print(Y_train.shape)\n",
    "print(Y_val.shape)\n",
    "print(Y_test.shape)"
   ]
  },
  {
   "cell_type": "markdown",
   "metadata": {
    "id": "3ly7CrHtLUP9"
   },
   "source": [
    "Let's visualize the first 4 mnist images. It is very easy to recognise the true label of the digits."
   ]
  },
  {
   "cell_type": "code",
   "execution_count": 4,
   "metadata": {
    "colab": {
     "base_uri": "https://localhost:8080/",
     "height": 285
    },
    "id": "c4gUgwGUeftF",
    "outputId": "5127a9ce-80b9-45ce-8620-4e5776bbd895"
   },
   "outputs": [
    {
     "data": {
      "image/png": "[encoded data removed]",
      "text/plain": [
       "<Figure size 1200x1200 with 4 Axes>"
      ]
     },
     "metadata": {},
     "output_type": "display_data"
    }
   ],
   "source": [
    "# visualize the 4 first mnist images before shuffling the pixels\n",
    "plt.figure(figsize=(12,12))\n",
    "for i in range(0,4):\n",
    "    plt.subplot(1,4,(i+1))\n",
    "    plt.imshow((X_train[i,:,:,0]),cmap=\"gray\")\n",
    "    plt.title('true label: '+str(np.argmax(Y_train,axis=1)[i]))\n",
    "    #plt.axis('off')"
   ]
  },
  {
   "cell_type": "markdown",
   "metadata": {
    "id": "trSndjWX4HO7"
   },
   "source": [
    "## fcNN as classification model for MNIST data\n",
    "Now we want to train a fcNN to classify the MNIST data.\n",
    "* we use a fcNN with 2 hidden layers and use the sigmoid activation function\n",
    "* train it on train data and check the performance on the test data"
   ]
  },
  {
   "cell_type": "markdown",
   "metadata": {
    "id": "LB_m8HJaOMsY"
   },
   "source": [
    "\n",
    "#### Flatten the the images into vectors\n",
    "\n",
    "Because we will use fcNN our input cannot be matrices or tensors. We need to flatten our inuput into a 1d vector. We do this in the next cell with reshap and look at the resulting shape of the flattened data."
   ]
  },
  {
   "cell_type": "code",
   "execution_count": 5,
   "metadata": {
    "colab": {
     "base_uri": "https://localhost:8080/",
     "height": 85
    },
    "id": "CoSUhNzRfbj4",
    "outputId": "1f88f5ba-8c4d-449d-a7df-0bde6d747fbf"
   },
   "outputs": [
    {
     "name": "stdout",
     "output_type": "stream",
     "text": [
      "(50000, 784)\n",
      "(50000, 10)\n",
      "(10000, 784)\n",
      "(10000, 10)\n"
     ]
    }
   ],
   "source": [
    "# prepare data for fcNN - we need a vector as input\n",
    "\n",
    "X_train_flat = X_train.reshape([X_train.shape[0], 784])\n",
    "X_val_flat = X_val.reshape([X_val.shape[0], 784])\n",
    "X_test_flat = X_test.reshape([X_test.shape[0], 784])\n",
    "\n",
    "# check the shape\n",
    "print(X_train_flat.shape)\n",
    "print(Y_train.shape)\n",
    "print(X_val_flat.shape)\n",
    "print(Y_val.shape)"
   ]
  },
  {
   "cell_type": "markdown",
   "metadata": {
    "id": "uOYYJFOh62qC"
   },
   "source": [
    "### Train the fcNN"
   ]
  },
  {
   "cell_type": "markdown",
   "metadata": {
    "id": "bulk0OpFOpeO"
   },
   "source": [
    "Here we define the nework, we use two hidden layers with 100 and 50 nodes. In the output we predict the probability for the 10 digits with the softmax actication function, in the hidden layers we use the sigmoid activation function and our loss is the categroical crossentropy loss."
   ]
  },
  {
   "cell_type": "markdown",
   "metadata": {
    "id": "l_eV6OGV1RaC"
   },
   "source": [
    "#### Listing 2.4 Definition of an fcNN  for the MNIST data\n"
   ]
  },
  {
   "cell_type": "code",
   "execution_count": 7,
   "metadata": {
    "id": "EAispBe0oaCH"
   },
   "outputs": [],
   "source": [
    "# define fcNN with 2 hidden layers\n",
    "model = Sequential()\n",
    "\n",
    "model.add(Dense(100, input_shape=(784,)))\n",
    "model.add(Activation('sigmoid'))\n",
    "model.add(Dense(50))\n",
    "model.add(Activation('sigmoid'))\n",
    "model.add(Dense(10))\n",
    "model.add(Activation('softmax'))\n",
    "\n",
    "# compile model and intitialize weights\n",
    "model.compile(loss='categorical_crossentropy',\n",
    "              optimizer='adam',\n",
    "              metrics=['accuracy'])"
   ]
  },
  {
   "cell_type": "code",
   "execution_count": 8,
   "metadata": {
    "colab": {
     "base_uri": "https://localhost:8080/",
     "height": 357
    },
    "id": "7xfW6yzqoaCK",
    "outputId": "9269228e-0a5f-4245-c79b-6b3d6e6e3885"
   },
   "outputs": [
    {
     "data": {
      "text/html": [
       "<pre style=\"white-space:pre;overflow-x:auto;line-height:normal;font-family:Menlo,'DejaVu Sans Mono',consolas,'Courier New',monospace\"><span style=\"font-weight: bold\">Model: \"sequential_1\"</span>\n",
       "</pre>\n"
      ],
      "text/plain": [
       "\u001b[1mModel: \"sequential_1\"\u001b[0m\n"
      ]
     },
     "metadata": {},
     "output_type": "display_data"
    },
    {
     "data": {
      "text/html": [
       "<pre style=\"white-space:pre;overflow-x:auto;line-height:normal;font-family:Menlo,'DejaVu Sans Mono',consolas,'Courier New',monospace\">┏━━━━━━━━━━━━━━━━━━━━━━━━━━━━━━━━━┳━━━━━━━━━━━━━━━━━━━━━━━━┳━━━━━━━━━━━━━━━┓\n",
       "┃<span style=\"font-weight: bold\"> Layer (type)                    </span>┃<span style=\"font-weight: bold\"> Output Shape           </span>┃<span style=\"font-weight: bold\">       Param # </span>┃\n",
       "┡━━━━━━━━━━━━━━━━━━━━━━━━━━━━━━━━━╇━━━━━━━━━━━━━━━━━━━━━━━━╇━━━━━━━━━━━━━━━┩\n",
       "│ dense_3 (<span style=\"color: #0087ff; text-decoration-color: #0087ff\">Dense</span>)                 │ (<span style=\"color: #00d7ff; text-decoration-color: #00d7ff\">None</span>, <span style=\"color: #00af00; text-decoration-color: #00af00\">100</span>)            │        <span style=\"color: #00af00; text-decoration-color: #00af00\">78,500</span> │\n",
       "├─────────────────────────────────┼────────────────────────┼───────────────┤\n",
       "│ activation_3 (<span style=\"color: #0087ff; text-decoration-color: #0087ff\">Activation</span>)       │ (<span style=\"color: #00d7ff; text-decoration-color: #00d7ff\">None</span>, <span style=\"color: #00af00; text-decoration-color: #00af00\">100</span>)            │             <span style=\"color: #00af00; text-decoration-color: #00af00\">0</span> │\n",
       "├─────────────────────────────────┼────────────────────────┼───────────────┤\n",
       "│ dense_4 (<span style=\"color: #0087ff; text-decoration-color: #0087ff\">Dense</span>)                 │ (<span style=\"color: #00d7ff; text-decoration-color: #00d7ff\">None</span>, <span style=\"color: #00af00; text-decoration-color: #00af00\">50</span>)             │         <span style=\"color: #00af00; text-decoration-color: #00af00\">5,050</span> │\n",
       "├─────────────────────────────────┼────────────────────────┼───────────────┤\n",
       "│ activation_4 (<span style=\"color: #0087ff; text-decoration-color: #0087ff\">Activation</span>)       │ (<span style=\"color: #00d7ff; text-decoration-color: #00d7ff\">None</span>, <span style=\"color: #00af00; text-decoration-color: #00af00\">50</span>)             │             <span style=\"color: #00af00; text-decoration-color: #00af00\">0</span> │\n",
       "├─────────────────────────────────┼────────────────────────┼───────────────┤\n",
       "│ dense_5 (<span style=\"color: #0087ff; text-decoration-color: #0087ff\">Dense</span>)                 │ (<span style=\"color: #00d7ff; text-decoration-color: #00d7ff\">None</span>, <span style=\"color: #00af00; text-decoration-color: #00af00\">10</span>)             │           <span style=\"color: #00af00; text-decoration-color: #00af00\">510</span> │\n",
       "├─────────────────────────────────┼────────────────────────┼───────────────┤\n",
       "│ activation_5 (<span style=\"color: #0087ff; text-decoration-color: #0087ff\">Activation</span>)       │ (<span style=\"color: #00d7ff; text-decoration-color: #00d7ff\">None</span>, <span style=\"color: #00af00; text-decoration-color: #00af00\">10</span>)             │             <span style=\"color: #00af00; text-decoration-color: #00af00\">0</span> │\n",
       "└─────────────────────────────────┴────────────────────────┴───────────────┘\n",
       "</pre>\n"
      ],
      "text/plain": [
       "┏━━━━━━━━━━━━━━━━━━━━━━━━━━━━━━━━━┳━━━━━━━━━━━━━━━━━━━━━━━━┳━━━━━━━━━━━━━━━┓\n",
       "┃\u001b[1m \u001b[0m\u001b[1mLayer (type)                   \u001b[0m\u001b[1m \u001b[0m┃\u001b[1m \u001b[0m\u001b[1mOutput Shape          \u001b[0m\u001b[1m \u001b[0m┃\u001b[1m \u001b[0m\u001b[1m      Param #\u001b[0m\u001b[1m \u001b[0m┃\n",
       "┡━━━━━━━━━━━━━━━━━━━━━━━━━━━━━━━━━╇━━━━━━━━━━━━━━━━━━━━━━━━╇━━━━━━━━━━━━━━━┩\n",
       "│ dense_3 (\u001b[38;5;33mDense\u001b[0m)                 │ (\u001b[38;5;45mNone\u001b[0m, \u001b[38;5;34m100\u001b[0m)            │        \u001b[38;5;34m78,500\u001b[0m │\n",
       "├─────────────────────────────────┼────────────────────────┼───────────────┤\n",
       "│ activation_3 (\u001b[38;5;33mActivation\u001b[0m)       │ (\u001b[38;5;45mNone\u001b[0m, \u001b[38;5;34m100\u001b[0m)            │             \u001b[38;5;34m0\u001b[0m │\n",
       "├─────────────────────────────────┼────────────────────────┼───────────────┤\n",
       "│ dense_4 (\u001b[38;5;33mDense\u001b[0m)                 │ (\u001b[38;5;45mNone\u001b[0m, \u001b[38;5;34m50\u001b[0m)             │         \u001b[38;5;34m5,050\u001b[0m │\n",
       "├─────────────────────────────────┼────────────────────────┼───────────────┤\n",
       "│ activation_4 (\u001b[38;5;33mActivation\u001b[0m)       │ (\u001b[38;5;45mNone\u001b[0m, \u001b[38;5;34m50\u001b[0m)             │             \u001b[38;5;34m0\u001b[0m │\n",
       "├─────────────────────────────────┼────────────────────────┼───────────────┤\n",
       "│ dense_5 (\u001b[38;5;33mDense\u001b[0m)                 │ (\u001b[38;5;45mNone\u001b[0m, \u001b[38;5;34m10\u001b[0m)             │           \u001b[38;5;34m510\u001b[0m │\n",
       "├─────────────────────────────────┼────────────────────────┼───────────────┤\n",
       "│ activation_5 (\u001b[38;5;33mActivation\u001b[0m)       │ (\u001b[38;5;45mNone\u001b[0m, \u001b[38;5;34m10\u001b[0m)             │             \u001b[38;5;34m0\u001b[0m │\n",
       "└─────────────────────────────────┴────────────────────────┴───────────────┘\n"
      ]
     },
     "metadata": {},
     "output_type": "display_data"
    },
    {
     "data": {
      "text/html": [
       "<pre style=\"white-space:pre;overflow-x:auto;line-height:normal;font-family:Menlo,'DejaVu Sans Mono',consolas,'Courier New',monospace\"><span style=\"font-weight: bold\"> Total params: </span><span style=\"color: #00af00; text-decoration-color: #00af00\">84,060</span> (328.36 KB)\n",
       "</pre>\n"
      ],
      "text/plain": [
       "\u001b[1m Total params: \u001b[0m\u001b[38;5;34m84,060\u001b[0m (328.36 KB)\n"
      ]
     },
     "metadata": {},
     "output_type": "display_data"
    },
    {
     "data": {
      "text/html": [
       "<pre style=\"white-space:pre;overflow-x:auto;line-height:normal;font-family:Menlo,'DejaVu Sans Mono',consolas,'Courier New',monospace\"><span style=\"font-weight: bold\"> Trainable params: </span><span style=\"color: #00af00; text-decoration-color: #00af00\">84,060</span> (328.36 KB)\n",
       "</pre>\n"
      ],
      "text/plain": [
       "\u001b[1m Trainable params: \u001b[0m\u001b[38;5;34m84,060\u001b[0m (328.36 KB)\n"
      ]
     },
     "metadata": {},
     "output_type": "display_data"
    },
    {
     "data": {
      "text/html": [
       "<pre style=\"white-space:pre;overflow-x:auto;line-height:normal;font-family:Menlo,'DejaVu Sans Mono',consolas,'Courier New',monospace\"><span style=\"font-weight: bold\"> Non-trainable params: </span><span style=\"color: #00af00; text-decoration-color: #00af00\">0</span> (0.00 B)\n",
       "</pre>\n"
      ],
      "text/plain": [
       "\u001b[1m Non-trainable params: \u001b[0m\u001b[38;5;34m0\u001b[0m (0.00 B)\n"
      ]
     },
     "metadata": {},
     "output_type": "display_data"
    }
   ],
   "source": [
    "# summarize model along with number of model weights\n",
    "model.summary()"
   ]
  },
  {
   "cell_type": "code",
   "execution_count": 9,
   "metadata": {
    "colab": {
     "base_uri": "https://localhost:8080/",
     "height": 374
    },
    "id": "mhvTpCtfoaCQ",
    "outputId": "45afbc77-c753-4d47-a0bb-e35cdc470e62"
   },
   "outputs": [
    {
     "name": "stdout",
     "output_type": "stream",
     "text": [
      "Epoch 1/10\n",
      "391/391 - 1s - 3ms/step - accuracy: 0.7925 - loss: 0.9483 - val_accuracy: 0.9120 - val_loss: 0.3732\n",
      "Epoch 2/10\n",
      "391/391 - 0s - 1ms/step - accuracy: 0.9159 - loss: 0.3197 - val_accuracy: 0.9330 - val_loss: 0.2450\n",
      "Epoch 3/10\n",
      "391/391 - 0s - 785us/step - accuracy: 0.9342 - loss: 0.2353 - val_accuracy: 0.9423 - val_loss: 0.2021\n",
      "Epoch 4/10\n",
      "391/391 - 0s - 788us/step - accuracy: 0.9446 - loss: 0.1932 - val_accuracy: 0.9514 - val_loss: 0.1705\n",
      "Epoch 5/10\n",
      "391/391 - 0s - 779us/step - accuracy: 0.9531 - loss: 0.1629 - val_accuracy: 0.9571 - val_loss: 0.1503\n",
      "Epoch 6/10\n",
      "391/391 - 0s - 809us/step - accuracy: 0.9597 - loss: 0.1400 - val_accuracy: 0.9617 - val_loss: 0.1394\n",
      "Epoch 7/10\n",
      "391/391 - 0s - 807us/step - accuracy: 0.9653 - loss: 0.1212 - val_accuracy: 0.9645 - val_loss: 0.1245\n",
      "Epoch 8/10\n",
      "391/391 - 0s - 803us/step - accuracy: 0.9693 - loss: 0.1064 - val_accuracy: 0.9666 - val_loss: 0.1138\n",
      "Epoch 9/10\n",
      "391/391 - 0s - 802us/step - accuracy: 0.9735 - loss: 0.0929 - val_accuracy: 0.9694 - val_loss: 0.1064\n",
      "Epoch 10/10\n",
      "391/391 - 0s - 806us/step - accuracy: 0.9772 - loss: 0.0814 - val_accuracy: 0.9695 - val_loss: 0.1060\n"
     ]
    }
   ],
   "source": [
    "# train the model\n",
    "history=model.fit(X_train_flat, Y_train,\n",
    "                  batch_size=128,\n",
    "                  epochs=10,\n",
    "                  verbose=2,\n",
    "                  validation_data=(X_val_flat, Y_val)\n",
    "                 )"
   ]
  },
  {
   "cell_type": "markdown",
   "metadata": {
    "id": "HvOuOKc01bqS"
   },
   "source": [
    "In the next cell we plot the accuray and loss of the train and validation vs the number of train eprochs to see how the development"
   ]
  },
  {
   "cell_type": "code",
   "execution_count": 10,
   "metadata": {
    "colab": {
     "base_uri": "https://localhost:8080/",
     "height": 427
    },
    "id": "t39HSiHcoaCT",
    "outputId": "90e35d4f-e8db-40c7-fd78-80149d2864b9"
   },
   "outputs": [
    {
     "data": {
      "text/plain": [
       "<matplotlib.legend.Legend at 0x15f5b5cc0>"
      ]
     },
     "execution_count": 10,
     "metadata": {},
     "output_type": "execute_result"
    },
    {
     "data": {
      "image/png": "[encoded data removed]",
      "text/plain": [
       "<Figure size 1200x400 with 2 Axes>"
      ]
     },
     "metadata": {},
     "output_type": "display_data"
    }
   ],
   "source": [
    "# plot the development of the accuracy and loss during training\n",
    "plt.figure(figsize=(12,4))\n",
    "plt.subplot(1,2,(1))\n",
    "plt.plot(history.history['accuracy'],linestyle='-.')\n",
    "plt.plot(history.history['val_accuracy'])\n",
    "plt.title('model accuracy')\n",
    "plt.ylabel('accuracy')\n",
    "plt.xlabel('epoch')\n",
    "plt.legend(['train', 'valid'], loc='lower right')\n",
    "plt.subplot(1,2,(2))\n",
    "plt.plot(history.history['loss'],linestyle='-.')\n",
    "plt.plot(history.history['val_loss'])\n",
    "plt.title('model loss')\n",
    "plt.ylabel('loss')\n",
    "plt.xlabel('epoch')\n",
    "plt.legend(['train', 'valid'], loc='upper right')"
   ]
  },
  {
   "cell_type": "markdown",
   "metadata": {
    "id": "iCaoy8l4oaCW"
   },
   "source": [
    "#### Prediction on the original test set after training on original data\n",
    "\n",
    "Now, let's use the fcNN that was trained on the flattened MNIST data to predict new unseen data (our testdata).\n",
    "We determine the confusion matrix and the accuracy on the testdata to evaluate the classification performance.\n"
   ]
  },
  {
   "cell_type": "code",
   "execution_count": 11,
   "metadata": {},
   "outputs": [
    {
     "name": "stdout",
     "output_type": "stream",
     "text": [
      "\u001b[1m1/1\u001b[0m \u001b[32m━━━━━━━━━━━━━━━━━━━━\u001b[0m\u001b[37m\u001b[0m \u001b[1m0s\u001b[0m 45ms/step\n"
     ]
    },
    {
     "data": {
      "text/plain": [
       "array([[4.5606972e-05, 2.3333849e-05, 1.1110331e-03, 2.8001488e-04,\n",
       "        2.4436681e-06, 4.7844493e-05, 6.0275738e-08, 9.9833637e-01,\n",
       "        3.1367283e-05, 1.2188786e-04],\n",
       "       [7.0887654e-05, 1.5824620e-02, 9.6882331e-01, 1.1484490e-02,\n",
       "        2.7153108e-06, 1.4244521e-03, 1.4302373e-03, 3.9446415e-05,\n",
       "        8.9746114e-04, 2.2338752e-06],\n",
       "       [2.1709361e-06, 9.9707723e-01, 6.6258386e-04, 1.4111443e-04,\n",
       "        4.6315887e-05, 1.7302518e-04, 3.5962244e-04, 1.2068034e-03,\n",
       "        3.2445660e-04, 6.6853786e-06],\n",
       "       [9.9521232e-01, 1.2569706e-05, 8.8885083e-04, 2.6539396e-04,\n",
       "        1.3526123e-04, 9.3010644e-04, 9.7830349e-04, 1.2843637e-03,\n",
       "        4.6314384e-05, 2.4654254e-04],\n",
       "       [3.7264504e-04, 1.3176338e-05, 5.5255630e-04, 1.2101198e-05,\n",
       "        9.9482769e-01, 5.2500029e-05, 2.4901153e-04, 1.0026072e-03,\n",
       "        1.0821937e-04, 2.8093297e-03]], dtype=float32)"
      ]
     },
     "execution_count": 11,
     "metadata": {},
     "output_type": "execute_result"
    }
   ],
   "source": [
    "model.predict(X_test_flat[0:5])"
   ]
  },
  {
   "cell_type": "code",
   "execution_count": 12,
   "metadata": {
    "colab": {
     "base_uri": "https://localhost:8080/",
     "height": 204
    },
    "id": "z1U4S7o5oaCY",
    "outputId": "a844c91b-bc54-475a-94f2-4e963d453967"
   },
   "outputs": [
    {
     "name": "stdout",
     "output_type": "stream",
     "text": [
      "\u001b[1m313/313\u001b[0m \u001b[32m━━━━━━━━━━━━━━━━━━━━\u001b[0m\u001b[37m\u001b[0m \u001b[1m0s\u001b[0m 243us/step\n",
      "[[ 961    0    3    1    1    4    6    3    1    0]\n",
      " [   0 1120    1    2    0    1    3    1    7    0]\n",
      " [   4    2  998    6    2    1    5    7    7    0]\n",
      " [   0    0   11  979    0    5    0    8    7    0]\n",
      " [   0    1    8    1  942    0   11    4    2   13]\n",
      " [   2    1    1   14    2  853    8    3    6    2]\n",
      " [   5    2    1    0    1    7  937    0    5    0]\n",
      " [   0    6   14    6    0    1    0  998    0    3]\n",
      " [   3    2    5   11    4    5    6    8  929    1]\n",
      " [   3    6    2   14   18    6    0   20    5  935]]\n",
      "Acc_fc_orig_flat =  0.9652\n"
     ]
    }
   ],
   "source": [
    "pred=model.predict(X_test_flat)\n",
    "print(confusion_matrix(np.argmax(Y_test,axis=1),np.argmax(pred,axis=1)))\n",
    "acc_fc_orig = np.sum(np.argmax(Y_test,axis=1)==np.argmax(pred,axis=1))/len(pred)\n",
    "print(\"Acc_fc_orig_flat = \" , acc_fc_orig)"
   ]
  },
  {
   "cell_type": "markdown",
   "metadata": {
    "id": "9n6WX-ClgypT"
   },
   "source": [
    "\n",
    "####  *We get an accuray of around 97% on the test data!*"
   ]
  },
  {
   "cell_type": "markdown",
   "metadata": {
    "id": "Wv898fZgjb-Z"
   },
   "source": [
    "#### Play the deep learning game and stack more layers and change the activation function from sigmoid to relu\n",
    "<img src=\"https://raw.githubusercontent.com/tensorchiefs/dl_book/master/imgs/paper-pen.png\" width=\"60\" align=\"left\" />  \n",
    "*Exercise: Try to improve the fcNN by adding more hidden layers and/or changing the activation function from \"sigmoid\" to \"relu\". What do you observe? can you improve the performace on the testset?*\n",
    "\n"
   ]
  },
  {
   "cell_type": "code",
   "execution_count": null,
   "metadata": {
    "id": "cJWBu7Troo5i"
   },
   "outputs": [],
   "source": []
  }
 ],
 "metadata": {
  "accelerator": "GPU",
  "colab": {
   "name": "nb_ch02_02a.ipynb",
   "provenance": []
  },
  "kernelspec": {
   "display_name": "mldl_htwg",
   "language": "python",
   "name": "python3"
  },
  "language_info": {
   "codemirror_mode": {
    "name": "ipython",
    "version": 3
   },
   "file_extension": ".py",
   "mimetype": "text/x-python",
   "name": "python",
   "nbconvert_exporter": "python",
   "pygments_lexer": "ipython3",
   "version": "3.10.13"
  }
 },
 "nbformat": 4,
 "nbformat_minor": 0
}
